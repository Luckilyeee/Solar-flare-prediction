{
  "nbformat": 4,
  "nbformat_minor": 0,
  "metadata": {
    "accelerator": "GPU",
    "colab": {
      "name": "updating 2_Traditional_binary_33*60.ipynb",
      "provenance": [],
      "collapsed_sections": [],
      "toc_visible": true,
      "machine_shape": "hm"
    },
    "kernelspec": {
      "display_name": "Python 3",
      "name": "python3"
    }
  },
  "cells": [
    {
      "cell_type": "code",
      "metadata": {
        "colab": {
          "resources": {
            "http://localhost:8080/nbextensions/google.colab/files.js": {
              "data": "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",
              "ok": true,
              "headers": [
                [
                  "content-type",
                  "application/javascript"
                ]
              ],
              "status": 200,
              "status_text": ""
            }
          },
          "base_uri": "https://localhost:8080/",
          "height": 55
        },
        "id": "9JPWX12oHTWH",
        "outputId": "87c131e0-ee97-4dbe-8518-bfeb976adc42"
      },
      "source": [
        "from google.colab import files\n",
        "\n",
        "files.upload()"
      ],
      "execution_count": null,
      "outputs": [
        {
          "output_type": "display_data",
          "data": {
            "text/html": [
              "\n",
              "     <input type=\"file\" id=\"files-6c1a6f70-1fb4-4648-a021-e5b79ae4d20d\" name=\"files[]\" multiple disabled\n",
              "        style=\"border:none\" />\n",
              "     <output id=\"result-6c1a6f70-1fb4-4648-a021-e5b79ae4d20d\">\n",
              "      Upload widget is only available when the cell has been executed in the\n",
              "      current browser session. Please rerun this cell to enable.\n",
              "      </output>\n",
              "      <script src=\"/nbextensions/google.colab/files.js\"></script> "
            ],
            "text/plain": [
              "<IPython.core.display.HTML object>"
            ]
          },
          "metadata": {
            "tags": []
          }
        },
        {
          "output_type": "execute_result",
          "data": {
            "text/plain": [
              "{}"
            ]
          },
          "metadata": {
            "tags": []
          },
          "execution_count": 24
        }
      ]
    },
    {
      "cell_type": "code",
      "metadata": {
        "id": "NvMv_RmhH7tB"
      },
      "source": [
        "import numpy as np\n",
        "import pandas as pd\n",
        "from sklearn.model_selection import train_test_split\n",
        "from sklearn.metrics import f1_score\n",
        "from sklearn.metrics import recall_score\n",
        "from sklearn.metrics import accuracy_score\n",
        "from sklearn.metrics import precision_score\n",
        "from sklearn.metrics import confusion_matrix\n",
        "import time"
      ],
      "execution_count": null,
      "outputs": []
    },
    {
      "cell_type": "markdown",
      "metadata": {
        "id": "Wt7n4pMD9LpS"
      },
      "source": [
        "# read files"
      ]
    },
    {
      "cell_type": "code",
      "metadata": {
        "id": "tQ6EJqT4IJVn"
      },
      "source": [
        "inputs = pd.read_pickle(\"/content/Sampled_inputs3.pck\")\n",
        "labels = pd.read_pickle(\"/content/Sampled_labels3.pck\")"
      ],
      "execution_count": null,
      "outputs": []
    },
    {
      "cell_type": "code",
      "metadata": {
        "colab": {
          "base_uri": "https://localhost:8080/"
        },
        "id": "HveC6riP-uUe",
        "outputId": "80563d9a-984b-4b08-eac9-b7a2a89e59de"
      },
      "source": [
        "len(inputs)"
      ],
      "execution_count": null,
      "outputs": [
        {
          "output_type": "execute_result",
          "data": {
            "text/plain": [
              "3600"
            ]
          },
          "metadata": {
            "tags": []
          },
          "execution_count": 27
        }
      ]
    },
    {
      "cell_type": "code",
      "metadata": {
        "colab": {
          "base_uri": "https://localhost:8080/"
        },
        "id": "QuzgN3FMAzKZ",
        "outputId": "4e56ceaf-e5dd-4411-bc9c-5504739fae96"
      },
      "source": [
        "inputs.shape"
      ],
      "execution_count": null,
      "outputs": [
        {
          "output_type": "execute_result",
          "data": {
            "text/plain": [
              "(3600, 60, 33)"
            ]
          },
          "metadata": {
            "tags": []
          },
          "execution_count": 28
        }
      ]
    },
    {
      "cell_type": "markdown",
      "metadata": {
        "id": "3vRNB_Xa9O7W"
      },
      "source": [
        "# check NAN"
      ]
    },
    {
      "cell_type": "code",
      "metadata": {
        "id": "a_awOBNERlzm"
      },
      "source": [
        "if np.isnan(inputs).any():\n",
        "  print('oops')"
      ],
      "execution_count": null,
      "outputs": []
    },
    {
      "cell_type": "code",
      "metadata": {
        "colab": {
          "base_uri": "https://localhost:8080/"
        },
        "id": "7hUQ-FwOaIL8",
        "outputId": "7bb602ba-eb86-4c44-a7f4-0089a28a9fe2"
      },
      "source": [
        "len(labels)"
      ],
      "execution_count": null,
      "outputs": [
        {
          "output_type": "execute_result",
          "data": {
            "text/plain": [
              "3600"
            ]
          },
          "metadata": {
            "tags": []
          },
          "execution_count": 30
        }
      ]
    },
    {
      "cell_type": "markdown",
      "metadata": {
        "id": "8cvX1v849T4J"
      },
      "source": [
        "# classes distribution"
      ]
    },
    {
      "cell_type": "code",
      "metadata": {
        "colab": {
          "base_uri": "https://localhost:8080/"
        },
        "id": "RvbkYhK9g5yR",
        "outputId": "2e863532-1d14-4a08-a3ee-eade7493f95e"
      },
      "source": [
        "from collections import Counter\n",
        "label_count = Counter(labels)\n",
        "label_count"
      ],
      "execution_count": null,
      "outputs": [
        {
          "output_type": "execute_result",
          "data": {
            "text/plain": [
              "Counter({0: 600, 1: 1200, 2: 600, 3: 600, 4: 600})"
            ]
          },
          "metadata": {
            "tags": []
          },
          "execution_count": 31
        }
      ]
    },
    {
      "cell_type": "markdown",
      "metadata": {
        "id": "QYVPsCOO9XxW"
      },
      "source": [
        "# generate binary labels"
      ]
    },
    {
      "cell_type": "code",
      "metadata": {
        "colab": {
          "base_uri": "https://localhost:8080/"
        },
        "id": "gz5sXYCtthRM",
        "outputId": "a825cc38-d40e-4e68-ded9-eed662e96aa3"
      },
      "source": [
        "labels = np.where(labels == 0, 1, labels)\n",
        "\n",
        "labels = np.where(((labels == 2)|(labels ==3)|(labels ==4)), 0, labels)\n",
        "print(labels)"
      ],
      "execution_count": null,
      "outputs": [
        {
          "output_type": "stream",
          "text": [
            "[1 1 1 ... 0 0 0]\n"
          ],
          "name": "stdout"
        }
      ]
    },
    {
      "cell_type": "markdown",
      "metadata": {
        "id": "NdQ3uVZf-lOe"
      },
      "source": [
        "# balanced dataset"
      ]
    },
    {
      "cell_type": "code",
      "metadata": {
        "colab": {
          "base_uri": "https://localhost:8080/"
        },
        "id": "WRh9G-zA-gY2",
        "outputId": "d0dd032c-3f25-48ea-aaff-96279202adc2"
      },
      "source": [
        "from collections import Counter\n",
        "label_count = Counter(labels)\n",
        "label_count"
      ],
      "execution_count": null,
      "outputs": [
        {
          "output_type": "execute_result",
          "data": {
            "text/plain": [
              "Counter({0: 1800, 1: 1800})"
            ]
          },
          "metadata": {
            "tags": []
          },
          "execution_count": 33
        }
      ]
    },
    {
      "cell_type": "markdown",
      "metadata": {
        "id": "E0V-7_K39fjp"
      },
      "source": [
        "# data prepare: transpose"
      ]
    },
    {
      "cell_type": "code",
      "metadata": {
        "colab": {
          "base_uri": "https://localhost:8080/"
        },
        "id": "AsJhcYagjxre",
        "outputId": "2b3cfc87-9938-4ae6-e753-a38e60c2bd48"
      },
      "source": [
        "inputs = inputs.transpose(0,2,1)\n",
        "inputs.shape"
      ],
      "execution_count": null,
      "outputs": [
        {
          "output_type": "execute_result",
          "data": {
            "text/plain": [
              "(3600, 33, 60)"
            ]
          },
          "metadata": {
            "tags": []
          },
          "execution_count": 34
        }
      ]
    },
    {
      "cell_type": "markdown",
      "metadata": {
        "id": "tHl1UGIp-Joi"
      },
      "source": [
        "# feature selection for univariate time sereies classification"
      ]
    },
    {
      "cell_type": "code",
      "metadata": {
        "id": "SJGFZOfEyMjl"
      },
      "source": [
        "#return the i-th feature as input \n",
        "def feature_select(input,i):\n",
        "  feature = input[:,i,:]\n",
        "  feature = feature.reshape(feature.shape[0],1,feature.shape[1])\n",
        "  return feature"
      ],
      "execution_count": null,
      "outputs": []
    },
    {
      "cell_type": "markdown",
      "metadata": {
        "id": "bLpA7o2Q-QLY"
      },
      "source": [
        "# train, test split and z-normalize"
      ]
    },
    {
      "cell_type": "code",
      "metadata": {
        "id": "6PlNqhCUzWAG"
      },
      "source": [
        "#train_test split and normalize\n",
        "def data_prepare(inputs, labels):\n",
        "  X_train, X_test, y_train, y_test = train_test_split(inputs, labels, random_state=42)\n",
        "  X_train_mean = X_train.mean()\n",
        "  X_train_std = X_train.std()\n",
        "  X_train = (X_train - X_train_mean)/X_train_std\n",
        "  X_test = (X_test - X_train_mean)/X_train_std\n",
        "  return X_train, X_test, y_train, y_test\n"
      ],
      "execution_count": null,
      "outputs": []
    },
    {
      "cell_type": "code",
      "metadata": {
        "colab": {
          "base_uri": "https://localhost:8080/"
        },
        "id": "G-gk7OA1MFEm",
        "outputId": "8c26bdaa-70bb-4c10-d819-92478e09fa18"
      },
      "source": [
        "! pip install sktime"
      ],
      "execution_count": null,
      "outputs": [
        {
          "output_type": "stream",
          "text": [
            "Requirement already satisfied: sktime in /usr/local/lib/python3.7/dist-packages (0.6.0)\n",
            "Requirement already satisfied: wheel in /usr/local/lib/python3.7/dist-packages (from sktime) (0.36.2)\n",
            "Requirement already satisfied: numba>=0.50 in /usr/local/lib/python3.7/dist-packages (from sktime) (0.51.2)\n",
            "Requirement already satisfied: scikit-learn>=0.24.0 in /usr/local/lib/python3.7/dist-packages (from sktime) (0.24.2)\n",
            "Requirement already satisfied: pandas>=1.1.0 in /usr/local/lib/python3.7/dist-packages (from sktime) (1.1.5)\n",
            "Requirement already satisfied: statsmodels>=0.12.1 in /usr/local/lib/python3.7/dist-packages (from sktime) (0.12.2)\n",
            "Requirement already satisfied: numpy>=1.19.0 in /usr/local/lib/python3.7/dist-packages (from sktime) (1.19.5)\n",
            "Requirement already satisfied: llvmlite<0.35,>=0.34.0.dev0 in /usr/local/lib/python3.7/dist-packages (from numba>=0.50->sktime) (0.34.0)\n",
            "Requirement already satisfied: setuptools in /usr/local/lib/python3.7/dist-packages (from numba>=0.50->sktime) (56.0.0)\n",
            "Requirement already satisfied: scipy>=0.19.1 in /usr/local/lib/python3.7/dist-packages (from scikit-learn>=0.24.0->sktime) (1.4.1)\n",
            "Requirement already satisfied: threadpoolctl>=2.0.0 in /usr/local/lib/python3.7/dist-packages (from scikit-learn>=0.24.0->sktime) (2.1.0)\n",
            "Requirement already satisfied: joblib>=0.11 in /usr/local/lib/python3.7/dist-packages (from scikit-learn>=0.24.0->sktime) (1.0.1)\n",
            "Requirement already satisfied: pytz>=2017.2 in /usr/local/lib/python3.7/dist-packages (from pandas>=1.1.0->sktime) (2018.9)\n",
            "Requirement already satisfied: python-dateutil>=2.7.3 in /usr/local/lib/python3.7/dist-packages (from pandas>=1.1.0->sktime) (2.8.1)\n",
            "Requirement already satisfied: patsy>=0.5 in /usr/local/lib/python3.7/dist-packages (from statsmodels>=0.12.1->sktime) (0.5.1)\n",
            "Requirement already satisfied: six>=1.5 in /usr/local/lib/python3.7/dist-packages (from python-dateutil>=2.7.3->pandas>=1.1.0->sktime) (1.15.0)\n"
          ],
          "name": "stdout"
        }
      ]
    },
    {
      "cell_type": "markdown",
      "metadata": {
        "id": "ifof67RZGI4m"
      },
      "source": [
        "#the index of top 10 important parameters"
      ]
    },
    {
      "cell_type": "code",
      "metadata": {
        "id": "CQd4hWBJs6lh"
      },
      "source": [
        "keys = [4, 24, 5, 1, 23, 25, 26, 2, 17, 3]"
      ],
      "execution_count": null,
      "outputs": []
    },
    {
      "cell_type": "markdown",
      "metadata": {
        "id": "lgNd65dEFgJV"
      },
      "source": [
        "# select n features for multivariate time series classification"
      ]
    },
    {
      "cell_type": "code",
      "metadata": {
        "id": "PxoBteyd7aAP"
      },
      "source": [
        "#return the n_feature as input \n",
        "def feature_select_n(input,i):\n",
        "  feature = input[:,i,:]\n",
        "  return feature"
      ],
      "execution_count": null,
      "outputs": []
    },
    {
      "cell_type": "markdown",
      "metadata": {
        "id": "DMiaHn7KwKGD"
      },
      "source": [
        "# multivariate-interval based (Canonical Interval Forest (CIF))\n"
      ]
    },
    {
      "cell_type": "code",
      "metadata": {
        "colab": {
          "base_uri": "https://localhost:8080/"
        },
        "id": "MtNUSj624tsL",
        "outputId": "8afcc95b-e951-4e1f-b6be-8d64bf65afb5"
      },
      "source": [
        "! pip install catch22"
      ],
      "execution_count": null,
      "outputs": [
        {
          "output_type": "stream",
          "text": [
            "Requirement already satisfied: catch22 in /usr/local/lib/python3.7/dist-packages (0.2.0)\n"
          ],
          "name": "stdout"
        }
      ]
    },
    {
      "cell_type": "code",
      "metadata": {
        "id": "j7nZJFPpPEMU"
      },
      "source": [
        "from sktime.classification.interval_based._cif import CanonicalIntervalForest"
      ],
      "execution_count": null,
      "outputs": []
    },
    {
      "cell_type": "code",
      "metadata": {
        "id": "dPrbY3h5drqh",
        "colab": {
          "base_uri": "https://localhost:8080/"
        },
        "outputId": "089cb050-5748-41f0-a7ed-346acabfd752"
      },
      "source": [
        "import time\n",
        "times = []\n",
        "top_k_accuracy = []\n",
        "top_k_f1 = []\n",
        "top_k_recall = []\n",
        "top_k_precision = []\n",
        "top_k_tss = []\n",
        "for i in range(1,len(keys)+1):\n",
        "  data = feature_select_n(inputs,keys[:i])\n",
        "  X_train, X_test, y_train, y_test = data_prepare(data, labels)\n",
        "  print(X_train.shape)\n",
        "  stime = time.time()\n",
        "  cif_m = CanonicalIntervalForest(n_estimators=10, att_subsample_size=8, random_state=47)\n",
        "  cif_m.fit(X_train, y_train)\n",
        "  y_pred = cif_m.predict(X_test)\n",
        "  time_consume = time.time() - stime\n",
        "  times.append(time_consume)\n",
        "  top_k_accuracy.append(accuracy_score(y_test,y_pred))\n",
        "  top_k_f1.append(f1_score(y_test, y_pred, average='micro'))\n",
        "  top_k_recall.append(recall_score(y_test, y_pred, average='micro'))\n",
        "  top_k_precision.append(precision_score(y_test, y_pred, average='micro'))\n",
        "  TN, FP, FN, TP = confusion_matrix(y_test, y_pred).ravel()\n",
        "  tss = (TP / (TP + FN)) - (FP / (FP + TN))\n",
        "  top_k_tss.append(tss)\n",
        "\n",
        "print(\"top_k_accuracy: \", top_k_accuracy) \n",
        "print(\"top_k_f1: \", top_k_f1)\n",
        "print(\"top_k_recall: \", top_k_recall)\n",
        "print(\"top_k_precision: \", top_k_precision)\n",
        "print(\"top_k_tss: \", top_k_tss)\n",
        "print(\"consumed time: \", times)"
      ],
      "execution_count": null,
      "outputs": [
        {
          "output_type": "stream",
          "text": [
            "(2700, 1, 60)\n",
            "(2700, 2, 60)\n",
            "(2700, 3, 60)\n",
            "(2700, 4, 60)\n",
            "(2700, 5, 60)\n",
            "(2700, 6, 60)\n",
            "(2700, 7, 60)\n",
            "(2700, 8, 60)\n",
            "(2700, 9, 60)\n",
            "(2700, 10, 60)\n",
            "top_k_accuracy:  [0.8366666666666667, 0.8444444444444444, 0.8322222222222222, 0.8355555555555556, 0.8177777777777778, 0.8111111111111111, 0.84, 0.8111111111111111, 0.8066666666666666, 0.8133333333333334]\n",
            "top_k_f1:  [0.8366666666666667, 0.8444444444444444, 0.8322222222222222, 0.8355555555555556, 0.8177777777777777, 0.8111111111111111, 0.8399999999999999, 0.8111111111111111, 0.8066666666666665, 0.8133333333333334]\n",
            "top_k_recall:  [0.8366666666666667, 0.8444444444444444, 0.8322222222222222, 0.8355555555555556, 0.8177777777777778, 0.8111111111111111, 0.84, 0.8111111111111111, 0.8066666666666666, 0.8133333333333334]\n",
            "top_k_precision:  [0.8366666666666667, 0.8444444444444444, 0.8322222222222222, 0.8355555555555556, 0.8177777777777778, 0.8111111111111111, 0.84, 0.8111111111111111, 0.8066666666666666, 0.8133333333333334]\n",
            "top_k_tss:  [0.6721981424148608, 0.685201238390093, 0.6595665634674923, 0.6678637770897833, 0.6314551083591331, 0.6160990712074303, 0.6745510835913312, 0.6203095975232198, 0.6123839009287926, 0.6242724458204334]\n",
            "consumed time:  [10.152531623840332, 14.269185304641724, 18.23825240135193, 21.06702709197998, 22.070690155029297, 23.879064083099365, 26.70455265045166, 16.03850531578064, 19.020865201950073, 22.493221044540405]\n"
          ],
          "name": "stdout"
        }
      ]
    },
    {
      "cell_type": "code",
      "metadata": {
        "id": "XZ6yahz9Nq8D"
      },
      "source": [
        "cif = [0.8444, 0.8444, 0.8444, 0.8444, 0.6852, 14.2692]"
      ],
      "execution_count": null,
      "outputs": []
    },
    {
      "cell_type": "code",
      "metadata": {
        "id": "AyItw6MZfLPN",
        "colab": {
          "base_uri": "https://localhost:8080/",
          "height": 313
        },
        "outputId": "7c99398a-7018-413d-cb51-a5a5d2a272a8"
      },
      "source": [
        "import matplotlib.pyplot as plt\n",
        "\n",
        "x = [1,2,3,4,5,6,7,8,9,10]\n",
        "plt.title('train time based on CIF with varying number of features')\n",
        "plt.xlabel('number of features')\n",
        "plt.ylabel('train time')\n",
        "plt.plot(x,times)"
      ],
      "execution_count": null,
      "outputs": [
        {
          "output_type": "execute_result",
          "data": {
            "text/plain": [
              "[<matplotlib.lines.Line2D at 0x7fc34060e610>]"
            ]
          },
          "metadata": {
            "tags": []
          },
          "execution_count": 20
        },
        {
          "output_type": "display_data",
          "data": {
            "image/png": "[encoded data removed]",
            "text/plain": [
              "<Figure size 432x288 with 1 Axes>"
            ]
          },
          "metadata": {
            "tags": [],
            "needs_background": "light"
          }
        }
      ]
    },
    {
      "cell_type": "code",
      "metadata": {
        "id": "mV4ru2sMffWo",
        "colab": {
          "base_uri": "https://localhost:8080/",
          "height": 313
        },
        "outputId": "9f500bc6-d1f1-49f7-a42e-dfe186f0a3c2"
      },
      "source": [
        "data = [top_k_accuracy,\n",
        "  top_k_f1,\n",
        "  top_k_precision,\n",
        "  top_k_recall,\n",
        "  top_k_tss]\n",
        "\n",
        "X = np.arange(1,11)\n",
        "plt.bar(X + 0.00, data[0], color = 'pink', width = 0.15)\n",
        "plt.bar(X + 0.15, data[1], color = 'plum', width = 0.15)\n",
        "plt.bar(X + 0.30, data[2], color = 'skyblue', width = 0.15)\n",
        "plt.bar(X + 0.45, data[3], color = 'bisque', width = 0.15)\n",
        "plt.bar(X + 0.60, data[4], color = 'lightblue', width = 0.15)\n",
        "plt.title('CIF with varying number of features')\n",
        "plt.xlabel('number of features')\n",
        "plt.ylabel('performance')\n",
        "plt.legend([\"accuracy\", \"f1\", \"precision\", \"recall\",\"tss\"],bbox_to_anchor=(1.05, 1.0), loc='upper left')"
      ],
      "execution_count": null,
      "outputs": [
        {
          "output_type": "execute_result",
          "data": {
            "text/plain": [
              "<matplotlib.legend.Legend at 0x7fc340103410>"
            ]
          },
          "metadata": {
            "tags": []
          },
          "execution_count": 21
        },
        {
          "output_type": "display_data",
          "data": {
            "image/png": "[encoded data removed]",
            "text/plain": [
              "<Figure size 432x288 with 1 Axes>"
            ]
          },
          "metadata": {
            "tags": [],
            "needs_background": "light"
          }
        }
      ]
    },
    {
      "cell_type": "markdown",
      "metadata": {
        "id": "Mh8mY-JywVgB"
      },
      "source": [
        "# Shaplet-based (Multiple representation sequence learner (MrSEQL))"
      ]
    },
    {
      "cell_type": "code",
      "metadata": {
        "id": "QrjEO8P95DkU",
        "colab": {
          "base_uri": "https://localhost:8080/"
        },
        "outputId": "713e788b-7a84-49fa-8f7c-f3ca42f5992b"
      },
      "source": [
        "from sktime.classification.shapelet_based import MrSEQLClassifier"
      ],
      "execution_count": null,
      "outputs": [
        {
          "output_type": "stream",
          "text": [
            "/usr/local/lib/python3.7/dist-packages/numba/np/ufunc/parallel.py:363: NumbaWarning: The TBB threading layer requires TBB version 2019.5 or later i.e., TBB_INTERFACE_VERSION >= 11005. Found TBB_INTERFACE_VERSION = 9107. The TBB threading layer is disabled.\n",
            "  warnings.warn(problem)\n"
          ],
          "name": "stderr"
        }
      ]
    },
    {
      "cell_type": "code",
      "metadata": {
        "id": "ar6vLK8KeXJt",
        "colab": {
          "base_uri": "https://localhost:8080/"
        },
        "outputId": "29092fa7-8baa-4a57-8d24-f8e2f2a999eb"
      },
      "source": [
        "import time\n",
        "times = []\n",
        "top_k_accuracy = []\n",
        "top_k_f1 = []\n",
        "top_k_recall = []\n",
        "top_k_precision = []\n",
        "top_k_tss = []\n",
        "for i in range(1,len(keys)+1):\n",
        "  data = feature_select_n(inputs,keys[:i])\n",
        "  X_train, X_test, y_train, y_test = data_prepare(data, labels)\n",
        "  print(X_train.shape)\n",
        "  stime = time.time()\n",
        "  MrSEQL = MrSEQLClassifier()\n",
        "  MrSEQL.fit(X_train, y_train)\n",
        "  y_pred = MrSEQL.predict(X_test)\n",
        "  time_consume = time.time() - stime\n",
        "  times.append(time_consume)\n",
        "  top_k_accuracy.append(accuracy_score(y_test,y_pred))\n",
        "  top_k_f1.append(f1_score(y_test, y_pred, average='micro'))\n",
        "  top_k_recall.append(recall_score(y_test, y_pred, average='micro'))\n",
        "  top_k_precision.append(precision_score(y_test, y_pred, average='micro'))\n",
        "  TN, FP, FN, TP = confusion_matrix(y_test, y_pred).ravel()\n",
        "  tss = (TP / (TP + FN)) - (FP / (FP + TN))\n",
        "  top_k_tss.append(tss)\n",
        "\n",
        "print(\"top_k_accuracy: \", top_k_accuracy) \n",
        "print(\"top_k_f1: \", top_k_f1)\n",
        "print(\"top_k_recall: \", top_k_recall)\n",
        "print(\"top_k_precision: \", top_k_precision)\n",
        "print(\"top_k_tss: \", top_k_tss)\n",
        "print(\"consumed time: \", times)"
      ],
      "execution_count": null,
      "outputs": [
        {
          "output_type": "stream",
          "text": [
            "(2700, 1, 60)\n",
            "(2700, 2, 60)\n",
            "(2700, 3, 60)\n",
            "(2700, 4, 60)\n",
            "(2700, 5, 60)\n",
            "(2700, 6, 60)\n",
            "(2700, 7, 60)\n",
            "(2700, 8, 60)\n",
            "(2700, 9, 60)\n",
            "(2700, 10, 60)\n",
            "top_k_accuracy:  [0.8711111111111111, 0.8833333333333333, 0.8822222222222222, 0.8944444444444445, 0.8911111111111111, 0.8966666666666666, 0.9044444444444445, 0.8677777777777778, 0.8711111111111111, 0.8777777777777778]\n",
            "top_k_f1:  [0.8711111111111111, 0.8833333333333333, 0.8822222222222222, 0.8944444444444444, 0.8911111111111111, 0.8966666666666666, 0.9044444444444445, 0.8677777777777778, 0.8711111111111111, 0.8777777777777779]\n",
            "top_k_recall:  [0.8711111111111111, 0.8833333333333333, 0.8822222222222222, 0.8944444444444445, 0.8911111111111111, 0.8966666666666666, 0.9044444444444445, 0.8677777777777778, 0.8711111111111111, 0.8777777777777778]\n",
            "top_k_precision:  [0.8711111111111111, 0.8833333333333333, 0.8822222222222222, 0.8944444444444445, 0.8911111111111111, 0.8966666666666666, 0.9044444444444445, 0.8677777777777778, 0.8711111111111111, 0.8777777777777778]\n",
            "top_k_tss:  [0.7377089783281734, 0.7606191950464397, 0.7602476780185758, 0.7839009287925697, 0.776594427244582, 0.7881114551083591, 0.8053250773993809, 0.7304024767801858, 0.7404334365325077, 0.7540557275541796]\n",
            "consumed time:  [398.8340542316437, 678.8832845687866, 887.6992583274841, 1290.7188787460327, 1596.4192595481873, 1838.6458399295807, 2051.5223298072815, 842.3912672996521, 1293.9381692409515, 1520.2011251449585]\n"
          ],
          "name": "stdout"
        }
      ]
    },
    {
      "cell_type": "code",
      "metadata": {
        "id": "eXiHRpCIOLUy"
      },
      "source": [
        "mrseql = [0.9044, 0.9044, 0.9044, 0.9044, 0.8053, 2051]"
      ],
      "execution_count": null,
      "outputs": []
    },
    {
      "cell_type": "code",
      "metadata": {
        "id": "uMpEbXwqCFFN",
        "colab": {
          "base_uri": "https://localhost:8080/",
          "height": 313
        },
        "outputId": "a2be8ea4-9706-4a30-ab71-a7ff17b663ad"
      },
      "source": [
        "import matplotlib.pyplot as plt\n",
        "x = [1,2,3,4,5,6,7,8,9,10]\n",
        "plt.title('train time based on MrSEQL with varying number of features')\n",
        "plt.xlabel('number of features')\n",
        "plt.ylabel('train time')\n",
        "plt.plot(x,times)"
      ],
      "execution_count": null,
      "outputs": [
        {
          "output_type": "execute_result",
          "data": {
            "text/plain": [
              "[<matplotlib.lines.Line2D at 0x7f6ea2794850>]"
            ]
          },
          "metadata": {
            "tags": []
          },
          "execution_count": 19
        },
        {
          "output_type": "display_data",
          "data": {
            "image/png": "[encoded data removed]",
            "text/plain": [
              "<Figure size 432x288 with 1 Axes>"
            ]
          },
          "metadata": {
            "tags": [],
            "needs_background": "light"
          }
        }
      ]
    },
    {
      "cell_type": "code",
      "metadata": {
        "id": "tmbtcpx-CUg9",
        "colab": {
          "base_uri": "https://localhost:8080/",
          "height": 313
        },
        "outputId": "ba3b7b41-9a72-45d3-9b4e-a2efc7d8ab3b"
      },
      "source": [
        "import numpy as np\n",
        "import matplotlib.pyplot as plt\n",
        "\n",
        "data = [top_k_accuracy,\n",
        "  top_k_f1,\n",
        "  top_k_precision,\n",
        "  top_k_recall,\n",
        "  top_k_tss]\n",
        "\n",
        "X = np.arange(1,11)\n",
        "plt.bar(X + 0.00, data[0], color = 'pink', width = 0.15)\n",
        "plt.bar(X + 0.15, data[1], color = 'plum', width = 0.15)\n",
        "plt.bar(X + 0.30, data[2], color = 'skyblue', width = 0.15)\n",
        "plt.bar(X + 0.45, data[3], color = 'bisque', width = 0.15)\n",
        "plt.bar(X + 0.60, data[4], color = 'lightblue', width = 0.15)\n",
        "plt.title('MrSEQL with varying number of features')\n",
        "plt.xlabel('number of features')\n",
        "plt.ylabel('performance')\n",
        "plt.legend([\"accuracy\", \"f1\", \"precision\", \"recall\",\"tss\"],bbox_to_anchor=(1.05, 1.0), loc='upper left')"
      ],
      "execution_count": null,
      "outputs": [
        {
          "output_type": "execute_result",
          "data": {
            "text/plain": [
              "<matplotlib.legend.Legend at 0x7f6ea27b9690>"
            ]
          },
          "metadata": {
            "tags": []
          },
          "execution_count": 20
        },
        {
          "output_type": "display_data",
          "data": {
            "image/png": "[encoded data removed]",
            "text/plain": [
              "<Figure size 432x288 with 1 Axes>"
            ]
          },
          "metadata": {
            "tags": [],
            "needs_background": "light"
          }
        }
      ]
    },
    {
      "cell_type": "markdown",
      "metadata": {
        "id": "siEu6fV0wgNZ"
      },
      "source": [
        "# Dictionat-based (Word extraction for time series classification + Multivariate Unsupervised symbols and Derivatives (WEASEL + MUSE ))"
      ]
    },
    {
      "cell_type": "code",
      "metadata": {
        "id": "hqpk3dR7eg_J"
      },
      "source": [
        "from sktime.classification.dictionary_based import MUSE, WEASEL"
      ],
      "execution_count": null,
      "outputs": []
    },
    {
      "cell_type": "code",
      "metadata": {
        "id": "TaOeeLpNQFWb",
        "colab": {
          "base_uri": "https://localhost:8080/"
        },
        "outputId": "a49f177c-2461-469f-ee51-e17cc35d7c0e"
      },
      "source": [
        "import time\n",
        "times = []\n",
        "top_k_accuracy = []\n",
        "top_k_f1 = []\n",
        "top_k_recall = []\n",
        "top_k_precision = []\n",
        "top_k_tss = []\n",
        "data = feature_select(inputs,4)\n",
        "X_train, X_test, y_train, y_test = data_prepare(data, labels)\n",
        "print(X_train.shape)\n",
        "stime = time.time()\n",
        "weasel = WEASEL(binning_strategy=\"equi-depth\", anova=False, random_state=47)\n",
        "weasel.fit(X_train, y_train)\n",
        "y_pred = weasel.predict(X_test)\n",
        "time_consume = time.time() - stime\n",
        "times.append(time_consume)\n",
        "top_k_accuracy.append(accuracy_score(y_test,y_pred))\n",
        "top_k_f1.append(f1_score(y_test, y_pred, average='micro'))\n",
        "top_k_recall.append(recall_score(y_test, y_pred, average='micro'))\n",
        "top_k_precision.append(precision_score(y_test, y_pred, average='micro'))\n",
        "TN, FP, FN, TP = confusion_matrix(y_test, y_pred).ravel()\n",
        "tss = (TP / (TP + FN)) - (FP / (FP + TN))\n",
        "top_k_tss.append(tss)\n",
        "\n",
        "print(\"top_k_accuracy: \", top_k_accuracy) \n",
        "print(\"top_k_f1: \", top_k_f1)\n",
        "print(\"top_k_recall: \", top_k_recall)\n",
        "print(\"top_k_precision: \", top_k_precision)\n",
        "print(\"top_k_tss: \", top_k_tss)\n",
        "print(\"consumed time: \", times)"
      ],
      "execution_count": null,
      "outputs": [
        {
          "output_type": "stream",
          "text": [
            "(2700, 1, 60)\n",
            "top_k_accuracy:  [0.9211111111111111]\n",
            "top_k_f1:  [0.9211111111111111]\n",
            "top_k_recall:  [0.9211111111111111]\n",
            "top_k_precision:  [0.9211111111111111]\n",
            "top_k_tss:  [0.8383900928792569]\n",
            "consumed time:  [122.05879473686218]\n"
          ],
          "name": "stdout"
        }
      ]
    },
    {
      "cell_type": "code",
      "metadata": {
        "id": "Wuoqyf5Ngbyy",
        "colab": {
          "base_uri": "https://localhost:8080/"
        },
        "outputId": "cf99c81b-d765-4673-87ba-5fefba2013a2"
      },
      "source": [
        "import time\n",
        "for i in range(2,len(keys)+1):\n",
        "  data = feature_select_n(inputs,keys[:i])\n",
        "  X_train, X_test, y_train, y_test = data_prepare(data, labels)\n",
        "  print(X_train.shape)\n",
        "  stime = time.time()\n",
        "  muse = MUSE()\n",
        "  muse.fit(X_train, y_train)\n",
        "  y_pred = muse.predict(X_test)\n",
        "  time_consume = time.time() - stime\n",
        "  times.append(time_consume)\n",
        "  top_k_accuracy.append(accuracy_score(y_test,y_pred))\n",
        "  top_k_f1.append(f1_score(y_test, y_pred, average='micro'))\n",
        "  top_k_recall.append(recall_score(y_test, y_pred, average='micro'))\n",
        "  top_k_precision.append(precision_score(y_test, y_pred, average='micro'))\n",
        "  TN, FP, FN, TP = confusion_matrix(y_test, y_pred).ravel()\n",
        "  tss = (TP / (TP + FN)) - (FP / (FP + TN))\n",
        "  top_k_tss.append(tss)\n",
        "\n",
        "print(\"top_k_accuracy: \", top_k_accuracy) \n",
        "print(\"top_k_f1: \", top_k_f1)\n",
        "print(\"top_k_recall: \", top_k_recall)\n",
        "print(\"top_k_precision: \", top_k_precision)\n",
        "print(\"top_k_tss: \", top_k_tss)\n",
        "print(\"consumed time: \", times)"
      ],
      "execution_count": null,
      "outputs": [
        {
          "output_type": "stream",
          "text": [
            "(2700, 2, 60)\n",
            "(2700, 3, 60)\n",
            "(2700, 4, 60)\n",
            "(2700, 5, 60)\n",
            "(2700, 6, 60)\n",
            "(2700, 7, 60)\n",
            "(2700, 8, 60)\n",
            "(2700, 9, 60)\n",
            "(2700, 10, 60)\n",
            "top_k_accuracy:  [0.9211111111111111, 0.92, 0.8777777777777778, 0.8966666666666666, 0.9022222222222223, 0.8988888888888888, 0.8922222222222222, 0.8777777777777778, 0.8844444444444445, 0.88]\n",
            "top_k_f1:  [0.9211111111111111, 0.92, 0.8777777777777779, 0.8966666666666666, 0.9022222222222223, 0.8988888888888888, 0.8922222222222224, 0.8777777777777779, 0.8844444444444445, 0.88]\n",
            "top_k_recall:  [0.9211111111111111, 0.92, 0.8777777777777778, 0.8966666666666666, 0.9022222222222223, 0.8988888888888888, 0.8922222222222222, 0.8777777777777778, 0.8844444444444445, 0.88]\n",
            "top_k_precision:  [0.9211111111111111, 0.92, 0.8777777777777778, 0.8966666666666666, 0.9022222222222223, 0.8988888888888888, 0.8922222222222222, 0.8777777777777778, 0.8844444444444445, 0.88]\n",
            "top_k_tss:  [0.8383900928792569, 0.8377708978328173, 0.751826625386997, 0.7878637770897833, 0.7993808049535603, 0.7955417956656347, 0.7821671826625387, 0.7528173374613003, 0.7637151702786378, 0.7550464396284831]\n",
            "consumed time:  [122.05879473686218, 508.61259484291077, 682.1950449943542, 919.2024037837982, 1148.4814929962158, 1335.976138830185, 1495.9195897579193, 1570.9951419830322, 1811.1848409175873, 2043.2868466377258]\n"
          ],
          "name": "stdout"
        }
      ]
    },
    {
      "cell_type": "code",
      "metadata": {
        "id": "UWDiEuRrOeC0"
      },
      "source": [
        "weasel_muse = [0.9211, 0.9211, 0.9211, 0.9211, 0.8383, 122]"
      ],
      "execution_count": null,
      "outputs": []
    },
    {
      "cell_type": "code",
      "metadata": {
        "id": "9sYJR9XIbnZU",
        "colab": {
          "base_uri": "https://localhost:8080/",
          "height": 312
        },
        "outputId": "79111255-7054-4810-932b-21997670fd97"
      },
      "source": [
        "x = [1,2,3,4,5,6,7,8,9,10]\n",
        "plt.title('train time based on MrSEQL with varying number of features')\n",
        "plt.xlabel('number of features')\n",
        "plt.ylabel('train time')\n",
        "plt.plot(x,times)"
      ],
      "execution_count": null,
      "outputs": [
        {
          "output_type": "execute_result",
          "data": {
            "text/plain": [
              "[<matplotlib.lines.Line2D at 0x7f6e7f9ae950>]"
            ]
          },
          "metadata": {
            "tags": []
          },
          "execution_count": 43
        },
        {
          "output_type": "display_data",
          "data": {
            "image/png": "[encoded data removed]",
            "text/plain": [
              "<Figure size 432x288 with 1 Axes>"
            ]
          },
          "metadata": {
            "tags": [],
            "needs_background": "light"
          }
        }
      ]
    },
    {
      "cell_type": "code",
      "metadata": {
        "id": "Q-HYOwitbxW8",
        "colab": {
          "base_uri": "https://localhost:8080/",
          "height": 312
        },
        "outputId": "20d99c29-d524-49b0-aecf-735da957cd87"
      },
      "source": [
        "import numpy as np\n",
        "import matplotlib.pyplot as plt\n",
        "\n",
        "data = [top_k_accuracy,\n",
        "  top_k_f1,\n",
        "  top_k_precision,\n",
        "  top_k_recall,\n",
        "  top_k_tss]\n",
        "\n",
        "X = np.arange(1,11)\n",
        "plt.bar(X + 0.00, data[0], color = 'pink', width = 0.15)\n",
        "plt.bar(X + 0.15, data[1], color = 'plum', width = 0.15)\n",
        "plt.bar(X + 0.30, data[2], color = 'skyblue', width = 0.15)\n",
        "plt.bar(X + 0.45, data[3], color = 'bisque', width = 0.15)\n",
        "plt.bar(X + 0.60, data[4], color = 'lightblue', width = 0.15)\n",
        "plt.title('WEASEL + MUSE with varying number of features')\n",
        "plt.xlabel('number of features')\n",
        "plt.ylabel('performance')\n",
        "plt.legend([\"accuracy\", \"f1\", \"precision\", \"recall\",\"tss\"],bbox_to_anchor=(1.05, 1.0), loc='upper left')"
      ],
      "execution_count": null,
      "outputs": [
        {
          "output_type": "execute_result",
          "data": {
            "text/plain": [
              "<matplotlib.legend.Legend at 0x7f6e79133350>"
            ]
          },
          "metadata": {
            "tags": []
          },
          "execution_count": 44
        },
        {
          "output_type": "display_data",
          "data": {
            "image/png": "[encoded data removed]",
            "text/plain": [
              "<Figure size 432x288 with 1 Axes>"
            ]
          },
          "metadata": {
            "tags": [],
            "needs_background": "light"
          }
        }
      ]
    },
    {
      "cell_type": "code",
      "metadata": {
        "colab": {
          "base_uri": "https://localhost:8080/"
        },
        "id": "LNBgp3h2Oo4z",
        "outputId": "7a881e80-fd43-4e5f-a5b3-d6560581bad8"
      },
      "source": [
        "cif"
      ],
      "execution_count": null,
      "outputs": [
        {
          "output_type": "execute_result",
          "data": {
            "text/plain": [
              "[0.8444, 0.8444, 0.8444, 0.8444, 0.6852, 14.2692]"
            ]
          },
          "metadata": {
            "tags": []
          },
          "execution_count": 5
        }
      ]
    },
    {
      "cell_type": "code",
      "metadata": {
        "colab": {
          "base_uri": "https://localhost:8080/"
        },
        "id": "Ux1zZfNEOqMq",
        "outputId": "1da03d8f-f0bd-42ff-8ccb-fc872f63626a"
      },
      "source": [
        "mrseql"
      ],
      "execution_count": null,
      "outputs": [
        {
          "output_type": "execute_result",
          "data": {
            "text/plain": [
              "[0.9044, 0.9044, 0.9044, 0.9044, 0.8053, 2051]"
            ]
          },
          "metadata": {
            "tags": []
          },
          "execution_count": 6
        }
      ]
    },
    {
      "cell_type": "code",
      "metadata": {
        "colab": {
          "base_uri": "https://localhost:8080/"
        },
        "id": "EqRUrrsEOsYz",
        "outputId": "ddc3e484-db55-4540-e436-e5a4475e8f8a"
      },
      "source": [
        "weasel_muse"
      ],
      "execution_count": null,
      "outputs": [
        {
          "output_type": "execute_result",
          "data": {
            "text/plain": [
              "[0.9211, 0.9211, 0.9211, 0.9211, 0.8383, 122]"
            ]
          },
          "metadata": {
            "tags": []
          },
          "execution_count": 7
        }
      ]
    },
    {
      "cell_type": "code",
      "metadata": {
        "id": "Li2rx9uyNaO4"
      },
      "source": [
        "accuracy = [0.8444, 0.9044, 0.9211]\n",
        "precision = [0.8444, 0.9044, 0.9211]\n",
        "recall = [0.8444, 0.9044, 0.9211]\n",
        "f1 = [0.8444, 0.9044, 0.9211]\n",
        "tss = [0.6852, 0.8053, 0.8383]\n",
        "time = [14, 2051, 122]"
      ],
      "execution_count": null,
      "outputs": []
    },
    {
      "cell_type": "code",
      "metadata": {
        "colab": {
          "base_uri": "https://localhost:8080/",
          "height": 313
        },
        "id": "eO4b7025NXfD",
        "outputId": "77f05c32-ec1f-4b61-aadd-b5c095bd48ca"
      },
      "source": [
        "import numpy as np\n",
        "import matplotlib.pyplot as plt\n",
        "\n",
        "data = [accuracy,\n",
        "  precision,\n",
        "  recall,\n",
        "  f1,\n",
        "  tss,\n",
        "  time]\n",
        "\n",
        "X = np.arange(1,4)\n",
        "plt.bar(X + 0.00, data[0], color = 'pink', width = 0.15)\n",
        "plt.bar(X + 0.15, data[1], color = 'plum', width = 0.15)\n",
        "plt.bar(X + 0.30, data[2], color = 'skyblue', width = 0.15)\n",
        "plt.bar(X + 0.45, data[3], color = 'bisque', width = 0.15)\n",
        "plt.bar(X + 0.60, data[4], color = 'lightblue', width = 0.15)\n",
        "# plt.bar(X + 0.75, data[5], color = 'black', width = 0.15)\n",
        "\n",
        "plt.title('Performances comparison')\n",
        "plt.xlabel(\"        CIF        MrSEQL        MUSE\")\n",
        "plt.ylabel('performance')\n",
        "plt.legend([\"accuracy\", \"f1\", \"precision\", \"recall\",\"tss\"],bbox_to_anchor=(1.05, 1.0), loc='upper left')"
      ],
      "execution_count": null,
      "outputs": [
        {
          "output_type": "execute_result",
          "data": {
            "text/plain": [
              "<matplotlib.legend.Legend at 0x7f807076f250>"
            ]
          },
          "metadata": {
            "tags": []
          },
          "execution_count": 9
        },
        {
          "output_type": "display_data",
          "data": {
            "image/png": "[encoded data removed]",
            "text/plain": [
              "<Figure size 432x288 with 1 Axes>"
            ]
          },
          "metadata": {
            "tags": [],
            "needs_background": "light"
          }
        }
      ]
    },
    {
      "cell_type": "code",
      "metadata": {
        "colab": {
          "base_uri": "https://localhost:8080/",
          "height": 299
        },
        "id": "GOly4197R616",
        "outputId": "04274fdc-b182-42d0-ea4b-883e5e73d611"
      },
      "source": [
        "time = [14, 2051, 122]\n",
        "x = [0,1,2]\n",
        "plt.bar(x,time)\n",
        "plt.title(\"traing time comparison\")\n",
        "plt.ylabel(\"training time\")"
      ],
      "execution_count": null,
      "outputs": [
        {
          "output_type": "execute_result",
          "data": {
            "text/plain": [
              "Text(0, 0.5, 'training time')"
            ]
          },
          "metadata": {
            "tags": []
          },
          "execution_count": 10
        },
        {
          "output_type": "display_data",
          "data": {
            "image/png": "[encoded data removed]",
            "text/plain": [
              "<Figure size 432x288 with 1 Axes>"
            ]
          },
          "metadata": {
            "tags": [],
            "needs_background": "light"
          }
        }
      ]
    },
    {
      "cell_type": "code",
      "metadata": {
        "id": "f5cHYDMEWWRh",
        "colab": {
          "base_uri": "https://localhost:8080/",
          "height": 295
        },
        "outputId": "f9de16d5-4344-403c-cab9-eaf22ced7410"
      },
      "source": [
        "import matplotlib.pyplot as plt\n",
        "x = [\"X\", \"M\", \"C\", \"B\", \"Q\"]\n",
        "y = [385, 3860, 21022, 11876, 175914]\n",
        "plt.barh(x, y)\n",
        "plt.title(\"Class distribution\")\n",
        "plt.xlabel(\"Number of data points\")\n",
        "plt.ylabel(\"Class\")\n",
        "\n",
        "for index, value in enumerate(y):\n",
        "\tplt.text(value, index,\n",
        "\t\t\tstr(value))\n",
        "\n",
        "plt.show()\n"
      ],
      "execution_count": null,
      "outputs": [
        {
          "output_type": "display_data",
          "data": {
            "image/png": "[encoded data removed]",
            "text/plain": [
              "<Figure size 432x288 with 1 Axes>"
            ]
          },
          "metadata": {
            "tags": [],
            "needs_background": "light"
          }
        }
      ]
    }
  ]
}