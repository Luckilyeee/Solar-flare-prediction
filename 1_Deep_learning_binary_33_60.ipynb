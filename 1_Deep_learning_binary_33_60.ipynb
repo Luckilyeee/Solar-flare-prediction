{
  "nbformat": 4,
  "nbformat_minor": 0,
  "metadata": {
    "colab": {
      "name": "1_Deep learning_binary_33*60.ipynb",
      "provenance": [],
      "collapsed_sections": []
    },
    "kernelspec": {
      "name": "python3",
      "display_name": "Python 3"
    },
    "language_info": {
      "name": "python"
    }
  },
  "cells": [
    {
      "cell_type": "code",
      "metadata": {
        "colab": {
          "resources": {
            "http://localhost:8080/nbextensions/google.colab/files.js": {
              "data": "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",
              "ok": true,
              "headers": [
                [
                  "content-type",
                  "application/javascript"
                ]
              ],
              "status": 200,
              "status_text": ""
            }
          },
          "base_uri": "https://localhost:8080/",
          "height": 58
        },
        "id": "smg_cg0dteVo",
        "outputId": "93c0574d-c90b-4848-fa05-ca94c814c012"
      },
      "source": [
        "from google.colab import files\n",
        "\n",
        "files.upload()"
      ],
      "execution_count": null,
      "outputs": [
        {
          "output_type": "display_data",
          "data": {
            "text/html": [
              "\n",
              "     <input type=\"file\" id=\"files-a6044b83-6153-457b-b8bc-0e3779d7247b\" name=\"files[]\" multiple disabled\n",
              "        style=\"border:none\" />\n",
              "     <output id=\"result-a6044b83-6153-457b-b8bc-0e3779d7247b\">\n",
              "      Upload widget is only available when the cell has been executed in the\n",
              "      current browser session. Please rerun this cell to enable.\n",
              "      </output>\n",
              "      <script src=\"/nbextensions/google.colab/files.js\"></script> "
            ],
            "text/plain": [
              "<IPython.core.display.HTML object>"
            ]
          },
          "metadata": {
            "tags": []
          }
        },
        {
          "output_type": "execute_result",
          "data": {
            "text/plain": [
              "{}"
            ]
          },
          "metadata": {
            "tags": []
          },
          "execution_count": 1
        }
      ]
    },
    {
      "cell_type": "code",
      "metadata": {
        "id": "-j-3o3jbtpua"
      },
      "source": [
        "import numpy as np\n",
        "import pandas as pd\n",
        "from sklearn.metrics import classification_report\n",
        "from sklearn.metrics import confusion_matrix\n",
        "import seaborn as sns"
      ],
      "execution_count": null,
      "outputs": []
    },
    {
      "cell_type": "code",
      "metadata": {
        "id": "ci3DsWw9tss3"
      },
      "source": [
        "inputs = pd.read_pickle(\"/content/Sampled_inputs1.pck\")\n",
        "labels = pd.read_pickle(\"/content/Sampled_labels1.pck\")"
      ],
      "execution_count": null,
      "outputs": []
    },
    {
      "cell_type": "code",
      "metadata": {
        "colab": {
          "base_uri": "https://localhost:8080/"
        },
        "id": "ZNO8b7VKWxYq",
        "outputId": "97d29643-4244-4458-96c6-ebf04d47e29e"
      },
      "source": [
        "inputs.shape"
      ],
      "execution_count": null,
      "outputs": [
        {
          "output_type": "execute_result",
          "data": {
            "text/plain": [
              "(2310, 60, 33)"
            ]
          },
          "metadata": {
            "tags": []
          },
          "execution_count": 4
        }
      ]
    },
    {
      "cell_type": "code",
      "metadata": {
        "colab": {
          "base_uri": "https://localhost:8080/"
        },
        "id": "WTgXHr6JWzZc",
        "outputId": "503e851d-db08-4ae0-a808-69056be9aa1e"
      },
      "source": [
        "inputs = inputs.transpose(0,2,1)\n",
        "inputs.shape"
      ],
      "execution_count": null,
      "outputs": [
        {
          "output_type": "execute_result",
          "data": {
            "text/plain": [
              "(2310, 33, 60)"
            ]
          },
          "metadata": {
            "tags": []
          },
          "execution_count": 5
        }
      ]
    },
    {
      "cell_type": "code",
      "metadata": {
        "colab": {
          "base_uri": "https://localhost:8080/"
        },
        "id": "S2rVAuDMbZpe",
        "outputId": "c7b54c64-0962-4025-d075-da0dc145eb23"
      },
      "source": [
        "from collections import Counter\n",
        "label_count = Counter(labels)\n",
        "label_count"
      ],
      "execution_count": null,
      "outputs": [
        {
          "output_type": "execute_result",
          "data": {
            "text/plain": [
              "Counter({0: 385, 1: 770, 2: 385, 3: 385, 4: 385})"
            ]
          },
          "metadata": {
            "tags": []
          },
          "execution_count": 6
        }
      ]
    },
    {
      "cell_type": "code",
      "metadata": {
        "colab": {
          "base_uri": "https://localhost:8080/"
        },
        "id": "pdMq5xwsV2TV",
        "outputId": "a84db4dc-f088-4c67-97c7-924fe4f30a16"
      },
      "source": [
        "len(labels)"
      ],
      "execution_count": null,
      "outputs": [
        {
          "output_type": "execute_result",
          "data": {
            "text/plain": [
              "2310"
            ]
          },
          "metadata": {
            "tags": []
          },
          "execution_count": 7
        }
      ]
    },
    {
      "cell_type": "code",
      "metadata": {
        "colab": {
          "base_uri": "https://localhost:8080/"
        },
        "id": "seeYNXiHxeDQ",
        "outputId": "17de4314-46e5-4f5b-ab6b-4b3d32fbc4bb"
      },
      "source": [
        "labels = np.where(labels == 0, 1, labels)\n",
        "labels = np.where(((labels == 2)|(labels ==3)|(labels ==4)), 0, labels)\n",
        "print(labels)"
      ],
      "execution_count": null,
      "outputs": [
        {
          "output_type": "stream",
          "text": [
            "[1 1 1 ... 0 0 0]\n"
          ],
          "name": "stdout"
        }
      ]
    },
    {
      "cell_type": "code",
      "metadata": {
        "id": "q_U70Pb8txap"
      },
      "source": [
        "from sklearn.model_selection import train_test_split\n",
        "from sklearn.preprocessing import LabelEncoder\n",
        "X_train, X_test, y_train, y_test = train_test_split(inputs, labels, random_state=42)"
      ],
      "execution_count": null,
      "outputs": []
    },
    {
      "cell_type": "code",
      "metadata": {
        "id": "LwLS4DyOE7t5"
      },
      "source": [
        "X_train_mean = X_train.mean()\n",
        "X_train_std = X_train.std()\n",
        "X_train = (X_train - X_train_mean)/X_train_std\n",
        "X_test = (X_test - X_train_mean)/X_train_std"
      ],
      "execution_count": null,
      "outputs": []
    },
    {
      "cell_type": "code",
      "metadata": {
        "id": "GoVH5sJ1x1om"
      },
      "source": [
        "from collections import Counter"
      ],
      "execution_count": null,
      "outputs": []
    },
    {
      "cell_type": "code",
      "metadata": {
        "colab": {
          "base_uri": "https://localhost:8080/"
        },
        "id": "sCibDw6wx4cB",
        "outputId": "270ed582-332e-44b6-ac38-ac34dc66e0c4"
      },
      "source": [
        "recounted = Counter(y_train)\n",
        "recounted"
      ],
      "execution_count": null,
      "outputs": [
        {
          "output_type": "execute_result",
          "data": {
            "text/plain": [
              "Counter({0: 858, 1: 874})"
            ]
          },
          "metadata": {
            "tags": []
          },
          "execution_count": 12
        }
      ]
    },
    {
      "cell_type": "code",
      "metadata": {
        "colab": {
          "base_uri": "https://localhost:8080/"
        },
        "id": "oSxWhOK0x-z3",
        "outputId": "b0782751-6c42-4625-928c-de7bb24ff189"
      },
      "source": [
        "recounted = Counter(y_test)\n",
        "recounted"
      ],
      "execution_count": null,
      "outputs": [
        {
          "output_type": "execute_result",
          "data": {
            "text/plain": [
              "Counter({0: 297, 1: 281})"
            ]
          },
          "metadata": {
            "tags": []
          },
          "execution_count": 13
        }
      ]
    },
    {
      "cell_type": "code",
      "metadata": {
        "colab": {
          "base_uri": "https://localhost:8080/"
        },
        "id": "Bj-zO7ydwYFs",
        "outputId": "2de70d56-8244-4282-8ede-384d5c2603fe"
      },
      "source": [
        "X_train.shape"
      ],
      "execution_count": null,
      "outputs": [
        {
          "output_type": "execute_result",
          "data": {
            "text/plain": [
              "(1732, 33, 60)"
            ]
          },
          "metadata": {
            "tags": []
          },
          "execution_count": 14
        }
      ]
    },
    {
      "cell_type": "code",
      "metadata": {
        "colab": {
          "base_uri": "https://localhost:8080/"
        },
        "id": "xiMs4aXvwpE3",
        "outputId": "c5b650e5-3f06-467d-ae9f-bd9fd9df4e22"
      },
      "source": [
        "X_test.shape"
      ],
      "execution_count": null,
      "outputs": [
        {
          "output_type": "execute_result",
          "data": {
            "text/plain": [
              "(578, 33, 60)"
            ]
          },
          "metadata": {
            "tags": []
          },
          "execution_count": 15
        }
      ]
    },
    {
      "cell_type": "code",
      "metadata": {
        "colab": {
          "base_uri": "https://localhost:8080/"
        },
        "id": "tptWa8A-orlE",
        "outputId": "1462a49a-4394-4358-b56f-e6150000fe34"
      },
      "source": [
        "y_train"
      ],
      "execution_count": null,
      "outputs": [
        {
          "output_type": "execute_result",
          "data": {
            "text/plain": [
              "array([1, 1, 1, ..., 1, 0, 1])"
            ]
          },
          "metadata": {
            "tags": []
          },
          "execution_count": 16
        }
      ]
    },
    {
      "cell_type": "code",
      "metadata": {
        "id": "jF_D2vZ6zY7R"
      },
      "source": [
        "from keras.callbacks import ModelCheckpoint, EarlyStopping\n",
        "from keras.callbacks import ReduceLROnPlateau\n",
        "\n",
        "earlyStopping = EarlyStopping(monitor='val_loss', patience=10, verbose=1, mode='min')\n",
        "mcp_save = ModelCheckpoint('.mdl_wts.hdf5', save_best_only=True, monitor='val_loss', mode='min')\n",
        "reduce_lr_loss = ReduceLROnPlateau(monitor='val_loss', factor=0.1, patience=7, verbose=0, min_delta=1e-4, mode='min')"
      ],
      "execution_count": null,
      "outputs": []
    },
    {
      "cell_type": "code",
      "metadata": {
        "colab": {
          "base_uri": "https://localhost:8080/"
        },
        "id": "GIDX8s5mHnzq",
        "outputId": "a7be3431-b37f-48f2-e2bf-bd54e126a27c"
      },
      "source": [
        "from keras.models import Model\n",
        "from keras.layers import Input, Dense, LSTM, multiply, concatenate, Activation, Masking, Reshape\n",
        "from keras.layers import Conv1D, BatchNormalization, GlobalAveragePooling1D, Permute, Dropout\n",
        "\n",
        "input = Input(shape=(33, 60))\n",
        "x = Permute((2, 1))(input)\n",
        "x = Conv1D(128, 8, padding='same', kernel_initializer='he_uniform')(x)\n",
        "x = BatchNormalization()(x)\n",
        "x = Activation('relu')(x)\n",
        "\n",
        "\n",
        "x = Conv1D(256, 5, padding='same', kernel_initializer='he_uniform')(x)\n",
        "x = BatchNormalization()(x)\n",
        "x = Activation('relu')(x)\n",
        "\n",
        "\n",
        "x = Conv1D(128, 3, padding='same', kernel_initializer='he_uniform')(x)\n",
        "x = BatchNormalization()(x)\n",
        "x = Activation('relu')(x)\n",
        "\n",
        "x = GlobalAveragePooling1D()(x)\n",
        "\n",
        "out = Dense(1, activation='sigmoid')(x)\n",
        "\n",
        "model = Model(input, out)\n",
        "model.compile(loss='binary_crossentropy', optimizer='adam', metrics=['accuracy'])\n",
        "model.summary()"
      ],
      "execution_count": null,
      "outputs": [
        {
          "output_type": "stream",
          "text": [
            "Model: \"model\"\n",
            "_________________________________________________________________\n",
            "Layer (type)                 Output Shape              Param #   \n",
            "=================================================================\n",
            "input_1 (InputLayer)         [(None, 33, 60)]          0         \n",
            "_________________________________________________________________\n",
            "permute (Permute)            (None, 60, 33)            0         \n",
            "_________________________________________________________________\n",
            "conv1d (Conv1D)              (None, 60, 128)           33920     \n",
            "_________________________________________________________________\n",
            "batch_normalization (BatchNo (None, 60, 128)           512       \n",
            "_________________________________________________________________\n",
            "activation (Activation)      (None, 60, 128)           0         \n",
            "_________________________________________________________________\n",
            "conv1d_1 (Conv1D)            (None, 60, 256)           164096    \n",
            "_________________________________________________________________\n",
            "batch_normalization_1 (Batch (None, 60, 256)           1024      \n",
            "_________________________________________________________________\n",
            "activation_1 (Activation)    (None, 60, 256)           0         \n",
            "_________________________________________________________________\n",
            "conv1d_2 (Conv1D)            (None, 60, 128)           98432     \n",
            "_________________________________________________________________\n",
            "batch_normalization_2 (Batch (None, 60, 128)           512       \n",
            "_________________________________________________________________\n",
            "activation_2 (Activation)    (None, 60, 128)           0         \n",
            "_________________________________________________________________\n",
            "global_average_pooling1d (Gl (None, 128)               0         \n",
            "_________________________________________________________________\n",
            "dense (Dense)                (None, 1)                 129       \n",
            "=================================================================\n",
            "Total params: 298,625\n",
            "Trainable params: 297,601\n",
            "Non-trainable params: 1,024\n",
            "_________________________________________________________________\n"
          ],
          "name": "stdout"
        }
      ]
    },
    {
      "cell_type": "code",
      "metadata": {
        "id": "uBC2InUrZzbw",
        "colab": {
          "base_uri": "https://localhost:8080/"
        },
        "outputId": "fda1d9fb-0033-48c1-a36d-d353413416ec"
      },
      "source": [
        "history = model.fit(X_train, y_train, batch_size=128, epochs=80, verbose=1, callbacks=[earlyStopping, mcp_save, reduce_lr_loss], validation_split=0.1,)"
      ],
      "execution_count": null,
      "outputs": [
        {
          "output_type": "stream",
          "text": [
            "Epoch 1/80\n",
            "13/13 [==============================] - 7s 455ms/step - loss: 0.6764 - accuracy: 0.6375 - val_loss: 1.3164 - val_accuracy: 0.4713\n",
            "Epoch 2/80\n",
            "13/13 [==============================] - 6s 430ms/step - loss: 0.4545 - accuracy: 0.7675 - val_loss: 0.9266 - val_accuracy: 0.5805\n",
            "Epoch 3/80\n",
            "13/13 [==============================] - 5s 415ms/step - loss: 0.3790 - accuracy: 0.8243 - val_loss: 0.7361 - val_accuracy: 0.5000\n",
            "Epoch 4/80\n",
            "13/13 [==============================] - 5s 408ms/step - loss: 0.3852 - accuracy: 0.8219 - val_loss: 0.8925 - val_accuracy: 0.6667\n",
            "Epoch 5/80\n",
            "13/13 [==============================] - 5s 411ms/step - loss: 0.3851 - accuracy: 0.8224 - val_loss: 0.7450 - val_accuracy: 0.6839\n",
            "Epoch 6/80\n",
            "13/13 [==============================] - 5s 418ms/step - loss: 0.3938 - accuracy: 0.8205 - val_loss: 0.6096 - val_accuracy: 0.7241\n",
            "Epoch 7/80\n",
            "13/13 [==============================] - 5s 406ms/step - loss: 0.3848 - accuracy: 0.8260 - val_loss: 0.6322 - val_accuracy: 0.7299\n",
            "Epoch 8/80\n",
            "13/13 [==============================] - 5s 413ms/step - loss: 0.3884 - accuracy: 0.8329 - val_loss: 0.5393 - val_accuracy: 0.7126\n",
            "Epoch 9/80\n",
            "13/13 [==============================] - 5s 418ms/step - loss: 0.3865 - accuracy: 0.8197 - val_loss: 0.5761 - val_accuracy: 0.7471\n",
            "Epoch 10/80\n",
            "13/13 [==============================] - 5s 413ms/step - loss: 0.3719 - accuracy: 0.8270 - val_loss: 0.5978 - val_accuracy: 0.7644\n",
            "Epoch 11/80\n",
            "13/13 [==============================] - 5s 405ms/step - loss: 0.3915 - accuracy: 0.8220 - val_loss: 0.5312 - val_accuracy: 0.7414\n",
            "Epoch 12/80\n",
            "13/13 [==============================] - 5s 412ms/step - loss: 0.3515 - accuracy: 0.8413 - val_loss: 0.5363 - val_accuracy: 0.7701\n",
            "Epoch 13/80\n",
            "13/13 [==============================] - 5s 404ms/step - loss: 0.3807 - accuracy: 0.8216 - val_loss: 0.5188 - val_accuracy: 0.7414\n",
            "Epoch 14/80\n",
            "13/13 [==============================] - 5s 404ms/step - loss: 0.3498 - accuracy: 0.8294 - val_loss: 0.5578 - val_accuracy: 0.7759\n",
            "Epoch 15/80\n",
            "13/13 [==============================] - 5s 417ms/step - loss: 0.3920 - accuracy: 0.8188 - val_loss: 0.5312 - val_accuracy: 0.7701\n",
            "Epoch 16/80\n",
            "13/13 [==============================] - 5s 411ms/step - loss: 0.3676 - accuracy: 0.8267 - val_loss: 0.5826 - val_accuracy: 0.7586\n",
            "Epoch 17/80\n",
            "13/13 [==============================] - 5s 407ms/step - loss: 0.3770 - accuracy: 0.8314 - val_loss: 0.5389 - val_accuracy: 0.7586\n",
            "Epoch 18/80\n",
            "13/13 [==============================] - 5s 407ms/step - loss: 0.3642 - accuracy: 0.8385 - val_loss: 0.5868 - val_accuracy: 0.7701\n",
            "Epoch 19/80\n",
            "13/13 [==============================] - 5s 411ms/step - loss: 0.3521 - accuracy: 0.8377 - val_loss: 0.5140 - val_accuracy: 0.7414\n",
            "Epoch 20/80\n",
            "13/13 [==============================] - 5s 400ms/step - loss: 0.3352 - accuracy: 0.8526 - val_loss: 0.4978 - val_accuracy: 0.7989\n",
            "Epoch 21/80\n",
            "13/13 [==============================] - 5s 406ms/step - loss: 0.3561 - accuracy: 0.8337 - val_loss: 0.6117 - val_accuracy: 0.7644\n",
            "Epoch 22/80\n",
            "13/13 [==============================] - 5s 402ms/step - loss: 0.3342 - accuracy: 0.8497 - val_loss: 0.5950 - val_accuracy: 0.7529\n",
            "Epoch 23/80\n",
            "13/13 [==============================] - 5s 413ms/step - loss: 0.3540 - accuracy: 0.8377 - val_loss: 0.5703 - val_accuracy: 0.7529\n",
            "Epoch 24/80\n",
            "13/13 [==============================] - 5s 407ms/step - loss: 0.3485 - accuracy: 0.8518 - val_loss: 0.6277 - val_accuracy: 0.7356\n",
            "Epoch 25/80\n",
            "13/13 [==============================] - 5s 404ms/step - loss: 0.3333 - accuracy: 0.8496 - val_loss: 0.5962 - val_accuracy: 0.7356\n",
            "Epoch 26/80\n",
            "13/13 [==============================] - 5s 403ms/step - loss: 0.3568 - accuracy: 0.8267 - val_loss: 0.5718 - val_accuracy: 0.7529\n",
            "Epoch 27/80\n",
            "13/13 [==============================] - 5s 409ms/step - loss: 0.3362 - accuracy: 0.8505 - val_loss: 0.5600 - val_accuracy: 0.7816\n",
            "Epoch 28/80\n",
            "13/13 [==============================] - 5s 416ms/step - loss: 0.3160 - accuracy: 0.8612 - val_loss: 0.5240 - val_accuracy: 0.7759\n",
            "Epoch 29/80\n",
            "13/13 [==============================] - 5s 422ms/step - loss: 0.3375 - accuracy: 0.8532 - val_loss: 0.5050 - val_accuracy: 0.7759\n",
            "Epoch 30/80\n",
            "13/13 [==============================] - 5s 412ms/step - loss: 0.3401 - accuracy: 0.8464 - val_loss: 0.4893 - val_accuracy: 0.7701\n",
            "Epoch 31/80\n",
            "13/13 [==============================] - 5s 404ms/step - loss: 0.3302 - accuracy: 0.8583 - val_loss: 0.4900 - val_accuracy: 0.7701\n",
            "Epoch 32/80\n",
            "13/13 [==============================] - 5s 419ms/step - loss: 0.3183 - accuracy: 0.8509 - val_loss: 0.4893 - val_accuracy: 0.7701\n",
            "Epoch 33/80\n",
            "13/13 [==============================] - 5s 415ms/step - loss: 0.3127 - accuracy: 0.8573 - val_loss: 0.4852 - val_accuracy: 0.7816\n",
            "Epoch 34/80\n",
            "13/13 [==============================] - 5s 411ms/step - loss: 0.3249 - accuracy: 0.8529 - val_loss: 0.4801 - val_accuracy: 0.7874\n",
            "Epoch 35/80\n",
            "13/13 [==============================] - 5s 416ms/step - loss: 0.3135 - accuracy: 0.8612 - val_loss: 0.4752 - val_accuracy: 0.7816\n",
            "Epoch 36/80\n",
            "13/13 [==============================] - 5s 415ms/step - loss: 0.3092 - accuracy: 0.8745 - val_loss: 0.4776 - val_accuracy: 0.7759\n",
            "Epoch 37/80\n",
            "13/13 [==============================] - 5s 414ms/step - loss: 0.3158 - accuracy: 0.8625 - val_loss: 0.4779 - val_accuracy: 0.7759\n",
            "Epoch 38/80\n",
            "13/13 [==============================] - 5s 416ms/step - loss: 0.3063 - accuracy: 0.8697 - val_loss: 0.4789 - val_accuracy: 0.7816\n",
            "Epoch 39/80\n",
            "13/13 [==============================] - 5s 409ms/step - loss: 0.3102 - accuracy: 0.8672 - val_loss: 0.4796 - val_accuracy: 0.7759\n",
            "Epoch 40/80\n",
            "13/13 [==============================] - 5s 418ms/step - loss: 0.3228 - accuracy: 0.8597 - val_loss: 0.4797 - val_accuracy: 0.7816\n",
            "Epoch 41/80\n",
            "13/13 [==============================] - 5s 419ms/step - loss: 0.3189 - accuracy: 0.8546 - val_loss: 0.4864 - val_accuracy: 0.7816\n",
            "Epoch 42/80\n",
            "13/13 [==============================] - 5s 412ms/step - loss: 0.3004 - accuracy: 0.8625 - val_loss: 0.4860 - val_accuracy: 0.7816\n",
            "Epoch 43/80\n",
            "13/13 [==============================] - 5s 411ms/step - loss: 0.3068 - accuracy: 0.8688 - val_loss: 0.4831 - val_accuracy: 0.7759\n",
            "Epoch 44/80\n",
            "13/13 [==============================] - 5s 422ms/step - loss: 0.3209 - accuracy: 0.8627 - val_loss: 0.4822 - val_accuracy: 0.7816\n",
            "Epoch 45/80\n",
            "13/13 [==============================] - 5s 420ms/step - loss: 0.3218 - accuracy: 0.8616 - val_loss: 0.4827 - val_accuracy: 0.7816\n",
            "Epoch 00045: early stopping\n"
          ],
          "name": "stdout"
        }
      ]
    },
    {
      "cell_type": "code",
      "metadata": {
        "id": "u73jBtE9cgHq",
        "colab": {
          "base_uri": "https://localhost:8080/",
          "height": 573
        },
        "outputId": "ea351095-ffea-4046-fa09-dacd2dd159e5"
      },
      "source": [
        "import matplotlib.pyplot as plt\n",
        "plt.plot(history.history['accuracy'])\n",
        "plt.plot(history.history['val_accuracy'])\n",
        "plt.title('model accuracy')\n",
        "plt.ylabel('accuracy')\n",
        "plt.xlabel('epoch')\n",
        "plt.xlim(1, 80)\n",
        "plt.legend(['train', 'val'], loc='upper left')\n",
        "plt.show()\n",
        "# summarize history for loss\n",
        "plt.plot(history.history['loss'])\n",
        "plt.plot(history.history['val_loss'])\n",
        "plt.title('model loss')\n",
        "plt.ylabel('loss')\n",
        "plt.xlabel('epoch')\n",
        "plt.xlim(1, 80)\n",
        "plt.legend(['train', 'val'], loc='upper left')\n",
        "plt.show()"
      ],
      "execution_count": null,
      "outputs": [
        {
          "output_type": "display_data",
          "data": {
            "image/png": "[encoded data removed]",
            "text/plain": [
              "<Figure size 432x288 with 1 Axes>"
            ]
          },
          "metadata": {
            "tags": [],
            "needs_background": "light"
          }
        },
        {
          "output_type": "display_data",
          "data": {
            "image/png": "[encoded data removed]",
            "text/plain": [
              "<Figure size 432x288 with 1 Axes>"
            ]
          },
          "metadata": {
            "tags": [],
            "needs_background": "light"
          }
        }
      ]
    },
    {
      "cell_type": "code",
      "metadata": {
        "id": "vqBHzlvlczSI"
      },
      "source": [
        "y_predict = (model.predict(X_test) > 0.5).astype('int32')"
      ],
      "execution_count": null,
      "outputs": []
    },
    {
      "cell_type": "code",
      "metadata": {
        "colab": {
          "base_uri": "https://localhost:8080/"
        },
        "id": "3VpmngJBU2sf",
        "outputId": "802e5b4c-4634-4162-efbd-87960dd4b2bf"
      },
      "source": [
        "TN, FP, FN, TP = confusion_matrix(y_test, y_predict).ravel()\n",
        "tss = (TP / (TP + FN)) - (FP / (FP + TN))\n",
        "print(\"tss: \",tss)"
      ],
      "execution_count": null,
      "outputs": [
        {
          "output_type": "stream",
          "text": [
            "tss:  0.6387960266963826\n"
          ],
          "name": "stdout"
        }
      ]
    },
    {
      "cell_type": "code",
      "metadata": {
        "id": "nOOR60y1c_9X",
        "colab": {
          "base_uri": "https://localhost:8080/"
        },
        "outputId": "e323f5bc-3c62-4f3b-8fc7-6026441264e2"
      },
      "source": [
        "target_names =  ['class 0', 'class 1']\n",
        "print(classification_report(y_test, y_predict, target_names=target_names, digits = 4))"
      ],
      "execution_count": null,
      "outputs": [
        {
          "output_type": "stream",
          "text": [
            "              precision    recall  f1-score   support\n",
            "\n",
            "     class 0     0.8529    0.7811    0.8155       297\n",
            "     class 1     0.7876    0.8577    0.8211       281\n",
            "\n",
            "    accuracy                         0.8183       578\n",
            "   macro avg     0.8203    0.8194    0.8183       578\n",
            "weighted avg     0.8212    0.8183    0.8182       578\n",
            "\n"
          ],
          "name": "stdout"
        }
      ]
    },
    {
      "cell_type": "code",
      "metadata": {
        "colab": {
          "base_uri": "https://localhost:8080/",
          "height": 283
        },
        "id": "0tqNjOO3PSUa",
        "outputId": "d08903c7-b1f3-4c3c-f16c-81acb9c775a8"
      },
      "source": [
        "cm = confusion_matrix(y_test, y_predict)\n",
        "ax = plt.subplot()\n",
        "sns.heatmap(cm, annot=True, ax=ax, cmap=\"Blues\", fmt=\"d\")"
      ],
      "execution_count": null,
      "outputs": [
        {
          "output_type": "execute_result",
          "data": {
            "text/plain": [
              "<matplotlib.axes._subplots.AxesSubplot at 0x7fab4c12e5d0>"
            ]
          },
          "metadata": {
            "tags": []
          },
          "execution_count": 24
        },
        {
          "output_type": "display_data",
          "data": {
            "image/png": "[encoded data removed]",
            "text/plain": [
              "<Figure size 432x288 with 2 Axes>"
            ]
          },
          "metadata": {
            "tags": [],
            "needs_background": "light"
          }
        }
      ]
    },
    {
      "cell_type": "code",
      "metadata": {
        "id": "HrNy0iLrqzLp"
      },
      "source": [
        "def squeeze_excite_block(input):\n",
        "    ''' Create a squeeze-excite block\n",
        "    Args:\n",
        "        input: input tensor\n",
        "        filters: number of output filters\n",
        "        k: width factor\n",
        "    Returns: a keras tensor\n",
        "    '''\n",
        "    filters = input.shape[-1] # channel_axis = -1 for TF\n",
        "\n",
        "    se = GlobalAveragePooling1D()(input)\n",
        "    se = Reshape((1, filters))(se)\n",
        "    se = Dense(filters // 16,  activation='relu', kernel_initializer='he_normal', use_bias=False)(se)\n",
        "    se = Dense(filters, activation='sigmoid', kernel_initializer='he_normal', use_bias=False)(se)\n",
        "    se = multiply([input, se])\n",
        "    return se"
      ],
      "execution_count": null,
      "outputs": []
    },
    {
      "cell_type": "code",
      "metadata": {
        "id": "WBAvfYy_YMCY",
        "colab": {
          "base_uri": "https://localhost:8080/"
        },
        "outputId": "bb882dda-1c9e-4a38-b659-a26c8d7a0d2e"
      },
      "source": [
        "from keras.models import Model\n",
        "from keras.layers import Input, Dense, LSTM, multiply, concatenate, Activation, Masking, Reshape\n",
        "from keras.layers import Conv1D, BatchNormalization, GlobalAveragePooling1D, Permute, Dropout\n",
        "\n",
        "input = Input(shape=(33, 60))\n",
        "x = Masking()(input)\n",
        "x = LSTM(8)(x)\n",
        "x = Dropout(0.8)(x)\n",
        "\n",
        "y = Permute((2, 1))(input)\n",
        "y = Conv1D(128, 8, padding='same', kernel_initializer='he_uniform')(y)\n",
        "y = BatchNormalization()(y)\n",
        "y = Activation('relu')(y)\n",
        "y = squeeze_excite_block(y)\n",
        "\n",
        "\n",
        "y = Conv1D(256, 5, padding='same', kernel_initializer='he_uniform')(y)\n",
        "y = BatchNormalization()(y)\n",
        "y = Activation('relu')(y)\n",
        "y = squeeze_excite_block(y)\n",
        "\n",
        "\n",
        "y = Conv1D(128, 3, padding='same', kernel_initializer='he_uniform')(y)\n",
        "y = BatchNormalization()(y)\n",
        "y = Activation('relu')(y)\n",
        "\n",
        "\n",
        "y = GlobalAveragePooling1D()(y)\n",
        "x = concatenate([x, y])\n",
        "\n",
        "out = Dense(1, activation='sigmoid')(x)\n",
        "\n",
        "model = Model(input, out)\n",
        "model.compile(loss='binary_crossentropy', optimizer='adam', metrics=['accuracy'])\n",
        "model.summary()"
      ],
      "execution_count": null,
      "outputs": [
        {
          "output_type": "stream",
          "text": [
            "Model: \"model_1\"\n",
            "__________________________________________________________________________________________________\n",
            "Layer (type)                    Output Shape         Param #     Connected to                     \n",
            "==================================================================================================\n",
            "input_2 (InputLayer)            [(None, 33, 60)]     0                                            \n",
            "__________________________________________________________________________________________________\n",
            "permute_1 (Permute)             (None, 60, 33)       0           input_2[0][0]                    \n",
            "__________________________________________________________________________________________________\n",
            "conv1d_3 (Conv1D)               (None, 60, 128)      33920       permute_1[0][0]                  \n",
            "__________________________________________________________________________________________________\n",
            "batch_normalization_3 (BatchNor (None, 60, 128)      512         conv1d_3[0][0]                   \n",
            "__________________________________________________________________________________________________\n",
            "activation_3 (Activation)       (None, 60, 128)      0           batch_normalization_3[0][0]      \n",
            "__________________________________________________________________________________________________\n",
            "global_average_pooling1d_1 (Glo (None, 128)          0           activation_3[0][0]               \n",
            "__________________________________________________________________________________________________\n",
            "reshape (Reshape)               (None, 1, 128)       0           global_average_pooling1d_1[0][0] \n",
            "__________________________________________________________________________________________________\n",
            "dense_1 (Dense)                 (None, 1, 8)         1024        reshape[0][0]                    \n",
            "__________________________________________________________________________________________________\n",
            "dense_2 (Dense)                 (None, 1, 128)       1024        dense_1[0][0]                    \n",
            "__________________________________________________________________________________________________\n",
            "multiply (Multiply)             (None, 60, 128)      0           activation_3[0][0]               \n",
            "                                                                 dense_2[0][0]                    \n",
            "__________________________________________________________________________________________________\n",
            "conv1d_4 (Conv1D)               (None, 60, 256)      164096      multiply[0][0]                   \n",
            "__________________________________________________________________________________________________\n",
            "batch_normalization_4 (BatchNor (None, 60, 256)      1024        conv1d_4[0][0]                   \n",
            "__________________________________________________________________________________________________\n",
            "activation_4 (Activation)       (None, 60, 256)      0           batch_normalization_4[0][0]      \n",
            "__________________________________________________________________________________________________\n",
            "global_average_pooling1d_2 (Glo (None, 256)          0           activation_4[0][0]               \n",
            "__________________________________________________________________________________________________\n",
            "reshape_1 (Reshape)             (None, 1, 256)       0           global_average_pooling1d_2[0][0] \n",
            "__________________________________________________________________________________________________\n",
            "dense_3 (Dense)                 (None, 1, 16)        4096        reshape_1[0][0]                  \n",
            "__________________________________________________________________________________________________\n",
            "dense_4 (Dense)                 (None, 1, 256)       4096        dense_3[0][0]                    \n",
            "__________________________________________________________________________________________________\n",
            "multiply_1 (Multiply)           (None, 60, 256)      0           activation_4[0][0]               \n",
            "                                                                 dense_4[0][0]                    \n",
            "__________________________________________________________________________________________________\n",
            "conv1d_5 (Conv1D)               (None, 60, 128)      98432       multiply_1[0][0]                 \n",
            "__________________________________________________________________________________________________\n",
            "masking (Masking)               (None, 33, 60)       0           input_2[0][0]                    \n",
            "__________________________________________________________________________________________________\n",
            "batch_normalization_5 (BatchNor (None, 60, 128)      512         conv1d_5[0][0]                   \n",
            "__________________________________________________________________________________________________\n",
            "lstm (LSTM)                     (None, 8)            2208        masking[0][0]                    \n",
            "__________________________________________________________________________________________________\n",
            "activation_5 (Activation)       (None, 60, 128)      0           batch_normalization_5[0][0]      \n",
            "__________________________________________________________________________________________________\n",
            "dropout (Dropout)               (None, 8)            0           lstm[0][0]                       \n",
            "__________________________________________________________________________________________________\n",
            "global_average_pooling1d_3 (Glo (None, 128)          0           activation_5[0][0]               \n",
            "__________________________________________________________________________________________________\n",
            "concatenate (Concatenate)       (None, 136)          0           dropout[0][0]                    \n",
            "                                                                 global_average_pooling1d_3[0][0] \n",
            "__________________________________________________________________________________________________\n",
            "dense_5 (Dense)                 (None, 1)            137         concatenate[0][0]                \n",
            "==================================================================================================\n",
            "Total params: 311,081\n",
            "Trainable params: 310,057\n",
            "Non-trainable params: 1,024\n",
            "__________________________________________________________________________________________________\n"
          ],
          "name": "stdout"
        }
      ]
    },
    {
      "cell_type": "code",
      "metadata": {
        "id": "LZNInHFzH2jg",
        "colab": {
          "base_uri": "https://localhost:8080/"
        },
        "outputId": "b082f7ff-11f2-4030-abd3-e3d03567fdb5"
      },
      "source": [
        "history = model.fit(X_train, y_train, batch_size=128, epochs=80, verbose=1, callbacks=[earlyStopping, mcp_save, reduce_lr_loss], validation_split=0.1,)"
      ],
      "execution_count": null,
      "outputs": [
        {
          "output_type": "stream",
          "text": [
            "Epoch 1/80\n",
            "13/13 [==============================] - 13s 576ms/step - loss: 0.5631 - accuracy: 0.7141 - val_loss: 0.6940 - val_accuracy: 0.4713\n",
            "Epoch 2/80\n",
            "13/13 [==============================] - 6s 439ms/step - loss: 0.4350 - accuracy: 0.7874 - val_loss: 0.6526 - val_accuracy: 0.6437\n",
            "Epoch 3/80\n",
            "13/13 [==============================] - 6s 442ms/step - loss: 0.3971 - accuracy: 0.8017 - val_loss: 0.6259 - val_accuracy: 0.7241\n",
            "Epoch 4/80\n",
            "13/13 [==============================] - 6s 442ms/step - loss: 0.3999 - accuracy: 0.8181 - val_loss: 0.6340 - val_accuracy: 0.7184\n",
            "Epoch 5/80\n",
            "13/13 [==============================] - 6s 439ms/step - loss: 0.4228 - accuracy: 0.7913 - val_loss: 0.5634 - val_accuracy: 0.7356\n",
            "Epoch 6/80\n",
            "13/13 [==============================] - 6s 447ms/step - loss: 0.3958 - accuracy: 0.8084 - val_loss: 0.5633 - val_accuracy: 0.7299\n",
            "Epoch 7/80\n",
            "13/13 [==============================] - 6s 448ms/step - loss: 0.3807 - accuracy: 0.8175 - val_loss: 0.5359 - val_accuracy: 0.7184\n",
            "Epoch 8/80\n",
            "13/13 [==============================] - 6s 451ms/step - loss: 0.3825 - accuracy: 0.8286 - val_loss: 0.5178 - val_accuracy: 0.7299\n",
            "Epoch 9/80\n",
            "13/13 [==============================] - 6s 439ms/step - loss: 0.3712 - accuracy: 0.8365 - val_loss: 0.5354 - val_accuracy: 0.7356\n",
            "Epoch 10/80\n",
            "13/13 [==============================] - 6s 439ms/step - loss: 0.3627 - accuracy: 0.8368 - val_loss: 0.5338 - val_accuracy: 0.7299\n",
            "Epoch 11/80\n",
            "13/13 [==============================] - 6s 442ms/step - loss: 0.3847 - accuracy: 0.8240 - val_loss: 0.5165 - val_accuracy: 0.7356\n",
            "Epoch 12/80\n",
            "13/13 [==============================] - 6s 440ms/step - loss: 0.3479 - accuracy: 0.8306 - val_loss: 0.5276 - val_accuracy: 0.7644\n",
            "Epoch 13/80\n",
            "13/13 [==============================] - 6s 441ms/step - loss: 0.3569 - accuracy: 0.8265 - val_loss: 0.5531 - val_accuracy: 0.7816\n",
            "Epoch 14/80\n",
            "13/13 [==============================] - 6s 441ms/step - loss: 0.3671 - accuracy: 0.8298 - val_loss: 0.5263 - val_accuracy: 0.7471\n",
            "Epoch 15/80\n",
            "13/13 [==============================] - 6s 442ms/step - loss: 0.3525 - accuracy: 0.8378 - val_loss: 0.5341 - val_accuracy: 0.7644\n",
            "Epoch 16/80\n",
            "13/13 [==============================] - 6s 434ms/step - loss: 0.3502 - accuracy: 0.8317 - val_loss: 0.5899 - val_accuracy: 0.7471\n",
            "Epoch 17/80\n",
            "13/13 [==============================] - 6s 440ms/step - loss: 0.3534 - accuracy: 0.8286 - val_loss: 0.6283 - val_accuracy: 0.7414\n",
            "Epoch 18/80\n",
            "13/13 [==============================] - 6s 433ms/step - loss: 0.3559 - accuracy: 0.8274 - val_loss: 0.6378 - val_accuracy: 0.7529\n",
            "Epoch 19/80\n",
            "13/13 [==============================] - 6s 444ms/step - loss: 0.3412 - accuracy: 0.8425 - val_loss: 0.6031 - val_accuracy: 0.7586\n",
            "Epoch 20/80\n",
            "13/13 [==============================] - 6s 451ms/step - loss: 0.3312 - accuracy: 0.8521 - val_loss: 0.5725 - val_accuracy: 0.7414\n",
            "Epoch 21/80\n",
            "13/13 [==============================] - 6s 440ms/step - loss: 0.3028 - accuracy: 0.8672 - val_loss: 0.5530 - val_accuracy: 0.7529\n",
            "Epoch 00021: early stopping\n"
          ],
          "name": "stdout"
        }
      ]
    },
    {
      "cell_type": "code",
      "metadata": {
        "id": "2535OHSoH75l",
        "colab": {
          "base_uri": "https://localhost:8080/",
          "height": 573
        },
        "outputId": "12043503-a557-451d-9254-62ede1fe4737"
      },
      "source": [
        "import matplotlib.pyplot as plt\n",
        "plt.plot(history.history['accuracy'])\n",
        "plt.plot(history.history['val_accuracy'])\n",
        "plt.title('model accuracy')\n",
        "plt.ylabel('accuracy')\n",
        "plt.xlabel('epoch')\n",
        "plt.xlim(1, 80)\n",
        "plt.legend(['train', 'val'], loc='upper left')\n",
        "plt.show()\n",
        "# summarize history for loss\n",
        "plt.plot(history.history['loss'])\n",
        "plt.plot(history.history['val_loss'])\n",
        "plt.title('model loss')\n",
        "plt.ylabel('loss')\n",
        "plt.xlabel('epoch')\n",
        "plt.xlim(1, 80)\n",
        "plt.legend(['train', 'val'], loc='upper left')\n",
        "plt.show()"
      ],
      "execution_count": null,
      "outputs": [
        {
          "output_type": "display_data",
          "data": {
            "image/png": "[encoded data removed]",
            "text/plain": [
              "<Figure size 432x288 with 1 Axes>"
            ]
          },
          "metadata": {
            "tags": [],
            "needs_background": "light"
          }
        },
        {
          "output_type": "display_data",
          "data": {
            "image/png": "[encoded data removed]",
            "text/plain": [
              "<Figure size 432x288 with 1 Axes>"
            ]
          },
          "metadata": {
            "tags": [],
            "needs_background": "light"
          }
        }
      ]
    },
    {
      "cell_type": "code",
      "metadata": {
        "id": "_nHstQGNIDqI"
      },
      "source": [
        "y_predict = (model.predict(X_test) > 0.5).astype('int32')"
      ],
      "execution_count": null,
      "outputs": []
    },
    {
      "cell_type": "code",
      "metadata": {
        "id": "Es-IWHpWU-eD",
        "colab": {
          "base_uri": "https://localhost:8080/"
        },
        "outputId": "25d606b4-704c-4200-c7e2-18049ab1cc94"
      },
      "source": [
        "TN, FP, FN, TP = confusion_matrix(y_test, y_predict).ravel()\n",
        "tss = (TP / (TP + FN)) - (FP / (FP + TN))\n",
        "print(\"tss: \",tss)"
      ],
      "execution_count": null,
      "outputs": [
        {
          "output_type": "stream",
          "text": [
            "tss:  0.6046586865092203\n"
          ],
          "name": "stdout"
        }
      ]
    },
    {
      "cell_type": "code",
      "metadata": {
        "id": "HB8wa52lJXc7",
        "colab": {
          "base_uri": "https://localhost:8080/"
        },
        "outputId": "e7f01560-638a-4b4d-cad8-67f801cd50eb"
      },
      "source": [
        "from sklearn.metrics import classification_report\n",
        "target_names =  ['class 0', 'class 1']\n",
        "print(classification_report(y_test, y_predict, target_names=target_names, digits = 4))"
      ],
      "execution_count": null,
      "outputs": [
        {
          "output_type": "stream",
          "text": [
            "              precision    recall  f1-score   support\n",
            "\n",
            "     class 0     0.8020    0.8182    0.8100       297\n",
            "     class 1     0.8036    0.7865    0.7950       281\n",
            "\n",
            "    accuracy                         0.8028       578\n",
            "   macro avg     0.8028    0.8023    0.8025       578\n",
            "weighted avg     0.8028    0.8028    0.8027       578\n",
            "\n"
          ],
          "name": "stdout"
        }
      ]
    },
    {
      "cell_type": "code",
      "metadata": {
        "id": "3QHmbY5TL-k2",
        "colab": {
          "base_uri": "https://localhost:8080/",
          "height": 283
        },
        "outputId": "4c09a70c-727a-4338-938d-8075e9c269b5"
      },
      "source": [
        "from sklearn.metrics import confusion_matrix\n",
        "import seaborn as sns\n",
        "cm = confusion_matrix(y_test, y_predict)\n",
        "ax = plt.subplot()\n",
        "sns.heatmap(cm, annot=True, ax=ax, cmap=\"Blues\", fmt=\"d\")"
      ],
      "execution_count": null,
      "outputs": [
        {
          "output_type": "execute_result",
          "data": {
            "text/plain": [
              "<matplotlib.axes._subplots.AxesSubplot at 0x7fab4c186550>"
            ]
          },
          "metadata": {
            "tags": []
          },
          "execution_count": 32
        },
        {
          "output_type": "display_data",
          "data": {
            "image/png": "[encoded data removed]",
            "text/plain": [
              "<Figure size 432x288 with 2 Axes>"
            ]
          },
          "metadata": {
            "tags": [],
            "needs_background": "light"
          }
        }
      ]
    }
  ]
}