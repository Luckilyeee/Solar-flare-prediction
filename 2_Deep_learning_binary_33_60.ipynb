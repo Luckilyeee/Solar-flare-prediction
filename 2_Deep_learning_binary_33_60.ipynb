{
  "nbformat": 4,
  "nbformat_minor": 0,
  "metadata": {
    "colab": {
      "name": "2_Deep learning_binary_33*60.ipynb",
      "provenance": [],
      "collapsed_sections": []
    },
    "kernelspec": {
      "name": "python3",
      "display_name": "Python 3"
    },
    "language_info": {
      "name": "python"
    }
  },
  "cells": [
    {
      "cell_type": "code",
      "metadata": {
        "colab": {
          "resources": {
            "http://localhost:8080/nbextensions/google.colab/files.js": {
              "data": "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",
              "ok": true,
              "headers": [
                [
                  "content-type",
                  "application/javascript"
                ]
              ],
              "status": 200,
              "status_text": ""
            }
          },
          "base_uri": "https://localhost:8080/",
          "height": 58
        },
        "id": "smg_cg0dteVo",
        "outputId": "25605848-377a-43d5-f728-3b257e7a5b93"
      },
      "source": [
        "from google.colab import files\n",
        "\n",
        "files.upload()"
      ],
      "execution_count": null,
      "outputs": [
        {
          "output_type": "display_data",
          "data": {
            "text/html": [
              "\n",
              "     <input type=\"file\" id=\"files-c68e194c-53bb-43d2-8b14-921ea108f885\" name=\"files[]\" multiple disabled\n",
              "        style=\"border:none\" />\n",
              "     <output id=\"result-c68e194c-53bb-43d2-8b14-921ea108f885\">\n",
              "      Upload widget is only available when the cell has been executed in the\n",
              "      current browser session. Please rerun this cell to enable.\n",
              "      </output>\n",
              "      <script src=\"/nbextensions/google.colab/files.js\"></script> "
            ],
            "text/plain": [
              "<IPython.core.display.HTML object>"
            ]
          },
          "metadata": {
            "tags": []
          }
        },
        {
          "output_type": "execute_result",
          "data": {
            "text/plain": [
              "{}"
            ]
          },
          "metadata": {
            "tags": []
          },
          "execution_count": 1
        }
      ]
    },
    {
      "cell_type": "code",
      "metadata": {
        "id": "-j-3o3jbtpua"
      },
      "source": [
        "import numpy as np\n",
        "import pandas as pd\n",
        "from sklearn.metrics import classification_report\n",
        "from sklearn.metrics import confusion_matrix\n",
        "import seaborn as sns"
      ],
      "execution_count": null,
      "outputs": []
    },
    {
      "cell_type": "code",
      "metadata": {
        "id": "ci3DsWw9tss3"
      },
      "source": [
        "inputs = pd.read_pickle(\"/content/Sampled_inputs2.pck\")\n",
        "labels = pd.read_pickle(\"/content/Sampled_labels2.pck\")"
      ],
      "execution_count": null,
      "outputs": []
    },
    {
      "cell_type": "code",
      "metadata": {
        "colab": {
          "base_uri": "https://localhost:8080/"
        },
        "id": "ZNO8b7VKWxYq",
        "outputId": "4cd83de5-b731-4b2b-a5c0-2ae07e498cbd"
      },
      "source": [
        "inputs.shape"
      ],
      "execution_count": null,
      "outputs": [
        {
          "output_type": "execute_result",
          "data": {
            "text/plain": [
              "(9000, 60, 33)"
            ]
          },
          "metadata": {
            "tags": []
          },
          "execution_count": 4
        }
      ]
    },
    {
      "cell_type": "code",
      "metadata": {
        "colab": {
          "base_uri": "https://localhost:8080/"
        },
        "id": "WTgXHr6JWzZc",
        "outputId": "9e162205-6d62-40d2-c5f7-0cb62b36238c"
      },
      "source": [
        "inputs = inputs.transpose(0,2,1)\n",
        "inputs.shape"
      ],
      "execution_count": null,
      "outputs": [
        {
          "output_type": "execute_result",
          "data": {
            "text/plain": [
              "(9000, 33, 60)"
            ]
          },
          "metadata": {
            "tags": []
          },
          "execution_count": 5
        }
      ]
    },
    {
      "cell_type": "code",
      "metadata": {
        "colab": {
          "base_uri": "https://localhost:8080/"
        },
        "id": "S2rVAuDMbZpe",
        "outputId": "fc38bb2f-54fe-40e2-d031-da4bcd9b36b1"
      },
      "source": [
        "from collections import Counter\n",
        "label_count = Counter(labels)\n",
        "label_count"
      ],
      "execution_count": null,
      "outputs": [
        {
          "output_type": "execute_result",
          "data": {
            "text/plain": [
              "Counter({0: 1500, 1: 3000, 2: 1500, 3: 1500, 4: 1500})"
            ]
          },
          "metadata": {
            "tags": []
          },
          "execution_count": 6
        }
      ]
    },
    {
      "cell_type": "code",
      "metadata": {
        "colab": {
          "base_uri": "https://localhost:8080/"
        },
        "id": "pdMq5xwsV2TV",
        "outputId": "16439b1c-796b-4504-fe64-305ee443fab1"
      },
      "source": [
        "len(labels)"
      ],
      "execution_count": null,
      "outputs": [
        {
          "output_type": "execute_result",
          "data": {
            "text/plain": [
              "9000"
            ]
          },
          "metadata": {
            "tags": []
          },
          "execution_count": 7
        }
      ]
    },
    {
      "cell_type": "code",
      "metadata": {
        "colab": {
          "base_uri": "https://localhost:8080/"
        },
        "id": "seeYNXiHxeDQ",
        "outputId": "b257c929-c176-43b9-ae80-3a68ead3fb27"
      },
      "source": [
        "labels = np.where(labels == 0, 1, labels)\n",
        "labels = np.where(((labels == 2)|(labels ==3)|(labels ==4)), 0, labels)\n",
        "print(labels)"
      ],
      "execution_count": null,
      "outputs": [
        {
          "output_type": "stream",
          "text": [
            "[1 1 1 ... 0 0 0]\n"
          ],
          "name": "stdout"
        }
      ]
    },
    {
      "cell_type": "code",
      "metadata": {
        "id": "q_U70Pb8txap"
      },
      "source": [
        "from sklearn.model_selection import train_test_split\n",
        "from sklearn.preprocessing import LabelEncoder\n",
        "X_train, X_test, y_train, y_test = train_test_split(inputs, labels, random_state=42)"
      ],
      "execution_count": null,
      "outputs": []
    },
    {
      "cell_type": "code",
      "metadata": {
        "id": "LwLS4DyOE7t5"
      },
      "source": [
        "X_train_mean = X_train.mean()\n",
        "X_train_std = X_train.std()\n",
        "X_train = (X_train - X_train_mean)/X_train_std\n",
        "X_test = (X_test - X_train_mean)/X_train_std"
      ],
      "execution_count": null,
      "outputs": []
    },
    {
      "cell_type": "code",
      "metadata": {
        "id": "GoVH5sJ1x1om"
      },
      "source": [
        "from collections import Counter"
      ],
      "execution_count": null,
      "outputs": []
    },
    {
      "cell_type": "code",
      "metadata": {
        "colab": {
          "base_uri": "https://localhost:8080/"
        },
        "id": "sCibDw6wx4cB",
        "outputId": "60e671ec-d022-4a03-a5d2-e4ed9b6decc4"
      },
      "source": [
        "recounted = Counter(y_train)\n",
        "recounted"
      ],
      "execution_count": null,
      "outputs": [
        {
          "output_type": "execute_result",
          "data": {
            "text/plain": [
              "Counter({0: 3368, 1: 3382})"
            ]
          },
          "metadata": {
            "tags": []
          },
          "execution_count": 12
        }
      ]
    },
    {
      "cell_type": "code",
      "metadata": {
        "colab": {
          "base_uri": "https://localhost:8080/"
        },
        "id": "oSxWhOK0x-z3",
        "outputId": "9dc0ca5e-c2e5-4580-f376-ae55248567f6"
      },
      "source": [
        "recounted = Counter(y_test)\n",
        "recounted"
      ],
      "execution_count": null,
      "outputs": [
        {
          "output_type": "execute_result",
          "data": {
            "text/plain": [
              "Counter({0: 1132, 1: 1118})"
            ]
          },
          "metadata": {
            "tags": []
          },
          "execution_count": 13
        }
      ]
    },
    {
      "cell_type": "code",
      "metadata": {
        "colab": {
          "base_uri": "https://localhost:8080/"
        },
        "id": "Bj-zO7ydwYFs",
        "outputId": "8d8f9375-69a8-4ecd-d10b-7f5d9cd8e62e"
      },
      "source": [
        "X_train.shape"
      ],
      "execution_count": null,
      "outputs": [
        {
          "output_type": "execute_result",
          "data": {
            "text/plain": [
              "(6750, 33, 60)"
            ]
          },
          "metadata": {
            "tags": []
          },
          "execution_count": 14
        }
      ]
    },
    {
      "cell_type": "code",
      "metadata": {
        "colab": {
          "base_uri": "https://localhost:8080/"
        },
        "id": "xiMs4aXvwpE3",
        "outputId": "ddd8b796-8e75-4883-e56a-3de59620f445"
      },
      "source": [
        "X_test.shape"
      ],
      "execution_count": null,
      "outputs": [
        {
          "output_type": "execute_result",
          "data": {
            "text/plain": [
              "(2250, 33, 60)"
            ]
          },
          "metadata": {
            "tags": []
          },
          "execution_count": 15
        }
      ]
    },
    {
      "cell_type": "code",
      "metadata": {
        "colab": {
          "base_uri": "https://localhost:8080/"
        },
        "id": "tptWa8A-orlE",
        "outputId": "fb6b3b9f-9d0a-4710-908a-90c3a84a2d58"
      },
      "source": [
        "y_train"
      ],
      "execution_count": null,
      "outputs": [
        {
          "output_type": "execute_result",
          "data": {
            "text/plain": [
              "array([0, 1, 0, ..., 0, 1, 0])"
            ]
          },
          "metadata": {
            "tags": []
          },
          "execution_count": 16
        }
      ]
    },
    {
      "cell_type": "code",
      "metadata": {
        "id": "jF_D2vZ6zY7R"
      },
      "source": [
        "from keras.callbacks import ModelCheckpoint, EarlyStopping\n",
        "from keras.callbacks import ReduceLROnPlateau\n",
        "\n",
        "earlyStopping = EarlyStopping(monitor='val_loss', patience=10, verbose=1, mode='min')\n",
        "mcp_save = ModelCheckpoint('.mdl_wts.hdf5', save_best_only=True, monitor='val_loss', mode='min')\n",
        "reduce_lr_loss = ReduceLROnPlateau(monitor='val_loss', factor=0.1, patience=7, verbose=0, min_delta=1e-4, mode='min')"
      ],
      "execution_count": null,
      "outputs": []
    },
    {
      "cell_type": "code",
      "metadata": {
        "colab": {
          "base_uri": "https://localhost:8080/"
        },
        "id": "GIDX8s5mHnzq",
        "outputId": "e7f58089-bf47-4576-8f98-631b1b75a5f6"
      },
      "source": [
        "from keras.models import Model\n",
        "from keras.layers import Input, Dense, LSTM, multiply, concatenate, Activation, Masking, Reshape\n",
        "from keras.layers import Conv1D, BatchNormalization, GlobalAveragePooling1D, Permute, Dropout\n",
        "\n",
        "input = Input(shape=(33, 60))\n",
        "x = Permute((2, 1))(input)\n",
        "x = Conv1D(128, 8, padding='same', kernel_initializer='he_uniform')(x)\n",
        "x = BatchNormalization()(x)\n",
        "x = Activation('relu')(x)\n",
        "\n",
        "\n",
        "x = Conv1D(256, 5, padding='same', kernel_initializer='he_uniform')(x)\n",
        "x = BatchNormalization()(x)\n",
        "x = Activation('relu')(x)\n",
        "\n",
        "\n",
        "x = Conv1D(128, 3, padding='same', kernel_initializer='he_uniform')(x)\n",
        "x = BatchNormalization()(x)\n",
        "x = Activation('relu')(x)\n",
        "\n",
        "x = GlobalAveragePooling1D()(x)\n",
        "\n",
        "out = Dense(1, activation='sigmoid')(x)\n",
        "\n",
        "model = Model(input, out)\n",
        "model.compile(loss='binary_crossentropy', optimizer='adam', metrics=['accuracy'])\n",
        "model.summary()"
      ],
      "execution_count": null,
      "outputs": [
        {
          "output_type": "stream",
          "text": [
            "Model: \"model\"\n",
            "_________________________________________________________________\n",
            "Layer (type)                 Output Shape              Param #   \n",
            "=================================================================\n",
            "input_1 (InputLayer)         [(None, 33, 60)]          0         \n",
            "_________________________________________________________________\n",
            "permute (Permute)            (None, 60, 33)            0         \n",
            "_________________________________________________________________\n",
            "conv1d (Conv1D)              (None, 60, 128)           33920     \n",
            "_________________________________________________________________\n",
            "batch_normalization (BatchNo (None, 60, 128)           512       \n",
            "_________________________________________________________________\n",
            "activation (Activation)      (None, 60, 128)           0         \n",
            "_________________________________________________________________\n",
            "conv1d_1 (Conv1D)            (None, 60, 256)           164096    \n",
            "_________________________________________________________________\n",
            "batch_normalization_1 (Batch (None, 60, 256)           1024      \n",
            "_________________________________________________________________\n",
            "activation_1 (Activation)    (None, 60, 256)           0         \n",
            "_________________________________________________________________\n",
            "conv1d_2 (Conv1D)            (None, 60, 128)           98432     \n",
            "_________________________________________________________________\n",
            "batch_normalization_2 (Batch (None, 60, 128)           512       \n",
            "_________________________________________________________________\n",
            "activation_2 (Activation)    (None, 60, 128)           0         \n",
            "_________________________________________________________________\n",
            "global_average_pooling1d (Gl (None, 128)               0         \n",
            "_________________________________________________________________\n",
            "dense (Dense)                (None, 1)                 129       \n",
            "=================================================================\n",
            "Total params: 298,625\n",
            "Trainable params: 297,601\n",
            "Non-trainable params: 1,024\n",
            "_________________________________________________________________\n"
          ],
          "name": "stdout"
        }
      ]
    },
    {
      "cell_type": "code",
      "metadata": {
        "id": "uBC2InUrZzbw",
        "colab": {
          "base_uri": "https://localhost:8080/"
        },
        "outputId": "34711894-d75b-4edc-84ba-deb007506474"
      },
      "source": [
        "history = model.fit(X_train, y_train, batch_size=128, epochs=80, verbose=1, callbacks=[earlyStopping, mcp_save, reduce_lr_loss], validation_split=0.1,)"
      ],
      "execution_count": null,
      "outputs": [
        {
          "output_type": "stream",
          "text": [
            "Epoch 1/80\n",
            "48/48 [==============================] - 20s 392ms/step - loss: 0.5128 - accuracy: 0.7462 - val_loss: 0.9947 - val_accuracy: 0.4667\n",
            "Epoch 2/80\n",
            "48/48 [==============================] - 18s 377ms/step - loss: 0.4170 - accuracy: 0.7965 - val_loss: 0.6736 - val_accuracy: 0.6593\n",
            "Epoch 3/80\n",
            "48/48 [==============================] - 18s 375ms/step - loss: 0.4013 - accuracy: 0.8097 - val_loss: 0.4970 - val_accuracy: 0.7452\n",
            "Epoch 4/80\n",
            "48/48 [==============================] - 18s 373ms/step - loss: 0.4051 - accuracy: 0.8050 - val_loss: 0.5510 - val_accuracy: 0.7541\n",
            "Epoch 5/80\n",
            "48/48 [==============================] - 18s 367ms/step - loss: 0.3944 - accuracy: 0.8106 - val_loss: 0.4249 - val_accuracy: 0.8207\n",
            "Epoch 6/80\n",
            "48/48 [==============================] - 17s 363ms/step - loss: 0.3992 - accuracy: 0.8109 - val_loss: 0.4412 - val_accuracy: 0.7926\n",
            "Epoch 7/80\n",
            "48/48 [==============================] - 17s 361ms/step - loss: 0.3938 - accuracy: 0.8153 - val_loss: 0.3994 - val_accuracy: 0.8237\n",
            "Epoch 8/80\n",
            "48/48 [==============================] - 17s 362ms/step - loss: 0.3783 - accuracy: 0.8197 - val_loss: 0.3904 - val_accuracy: 0.8356\n",
            "Epoch 9/80\n",
            "48/48 [==============================] - 17s 360ms/step - loss: 0.3816 - accuracy: 0.8215 - val_loss: 0.3891 - val_accuracy: 0.8222\n",
            "Epoch 10/80\n",
            "48/48 [==============================] - 18s 377ms/step - loss: 0.3711 - accuracy: 0.8340 - val_loss: 0.4108 - val_accuracy: 0.8326\n",
            "Epoch 11/80\n",
            "48/48 [==============================] - 18s 365ms/step - loss: 0.3768 - accuracy: 0.8259 - val_loss: 0.3596 - val_accuracy: 0.8459\n",
            "Epoch 12/80\n",
            "48/48 [==============================] - 17s 362ms/step - loss: 0.3684 - accuracy: 0.8297 - val_loss: 0.3652 - val_accuracy: 0.8400\n",
            "Epoch 13/80\n",
            "48/48 [==============================] - 17s 359ms/step - loss: 0.3754 - accuracy: 0.8313 - val_loss: 0.3587 - val_accuracy: 0.8356\n",
            "Epoch 14/80\n",
            "48/48 [==============================] - 17s 360ms/step - loss: 0.3613 - accuracy: 0.8372 - val_loss: 0.3552 - val_accuracy: 0.8593\n",
            "Epoch 15/80\n",
            "48/48 [==============================] - 18s 365ms/step - loss: 0.3669 - accuracy: 0.8251 - val_loss: 0.3744 - val_accuracy: 0.8489\n",
            "Epoch 16/80\n",
            "48/48 [==============================] - 17s 364ms/step - loss: 0.3586 - accuracy: 0.8361 - val_loss: 0.3679 - val_accuracy: 0.8533\n",
            "Epoch 17/80\n",
            "48/48 [==============================] - 18s 368ms/step - loss: 0.3833 - accuracy: 0.8215 - val_loss: 0.3754 - val_accuracy: 0.8519\n",
            "Epoch 18/80\n",
            "48/48 [==============================] - 18s 367ms/step - loss: 0.3565 - accuracy: 0.8448 - val_loss: 0.3422 - val_accuracy: 0.8607\n",
            "Epoch 19/80\n",
            "48/48 [==============================] - 18s 369ms/step - loss: 0.3392 - accuracy: 0.8525 - val_loss: 0.3666 - val_accuracy: 0.8622\n",
            "Epoch 20/80\n",
            "48/48 [==============================] - 18s 371ms/step - loss: 0.3500 - accuracy: 0.8400 - val_loss: 0.3562 - val_accuracy: 0.8563\n",
            "Epoch 21/80\n",
            "48/48 [==============================] - 18s 374ms/step - loss: 0.3530 - accuracy: 0.8320 - val_loss: 0.3392 - val_accuracy: 0.8489\n",
            "Epoch 22/80\n",
            "48/48 [==============================] - 18s 370ms/step - loss: 0.3479 - accuracy: 0.8401 - val_loss: 0.3591 - val_accuracy: 0.8637\n",
            "Epoch 23/80\n",
            "48/48 [==============================] - 18s 369ms/step - loss: 0.3523 - accuracy: 0.8436 - val_loss: 0.3349 - val_accuracy: 0.8607\n",
            "Epoch 24/80\n",
            "48/48 [==============================] - 18s 383ms/step - loss: 0.3381 - accuracy: 0.8560 - val_loss: 0.3500 - val_accuracy: 0.8607\n",
            "Epoch 25/80\n",
            "48/48 [==============================] - 18s 365ms/step - loss: 0.3438 - accuracy: 0.8430 - val_loss: 0.3535 - val_accuracy: 0.8504\n",
            "Epoch 26/80\n",
            "48/48 [==============================] - 17s 363ms/step - loss: 0.3398 - accuracy: 0.8490 - val_loss: 0.3509 - val_accuracy: 0.8563\n",
            "Epoch 27/80\n",
            "48/48 [==============================] - 18s 366ms/step - loss: 0.3448 - accuracy: 0.8504 - val_loss: 0.3620 - val_accuracy: 0.8444\n",
            "Epoch 28/80\n",
            "48/48 [==============================] - 17s 364ms/step - loss: 0.3424 - accuracy: 0.8448 - val_loss: 0.3808 - val_accuracy: 0.8444\n",
            "Epoch 29/80\n",
            "48/48 [==============================] - 18s 366ms/step - loss: 0.3292 - accuracy: 0.8555 - val_loss: 0.4355 - val_accuracy: 0.8148\n",
            "Epoch 30/80\n",
            "48/48 [==============================] - 18s 365ms/step - loss: 0.3350 - accuracy: 0.8470 - val_loss: 0.3559 - val_accuracy: 0.8622\n",
            "Epoch 31/80\n",
            "48/48 [==============================] - 18s 366ms/step - loss: 0.3106 - accuracy: 0.8651 - val_loss: 0.3327 - val_accuracy: 0.8607\n",
            "Epoch 32/80\n",
            "48/48 [==============================] - 18s 365ms/step - loss: 0.3129 - accuracy: 0.8680 - val_loss: 0.3471 - val_accuracy: 0.8578\n",
            "Epoch 33/80\n",
            "48/48 [==============================] - 18s 371ms/step - loss: 0.2974 - accuracy: 0.8693 - val_loss: 0.3486 - val_accuracy: 0.8578\n",
            "Epoch 34/80\n",
            "48/48 [==============================] - 18s 372ms/step - loss: 0.3031 - accuracy: 0.8721 - val_loss: 0.3466 - val_accuracy: 0.8548\n",
            "Epoch 35/80\n",
            "48/48 [==============================] - 18s 367ms/step - loss: 0.2891 - accuracy: 0.8802 - val_loss: 0.3455 - val_accuracy: 0.8563\n",
            "Epoch 36/80\n",
            "48/48 [==============================] - 18s 371ms/step - loss: 0.3040 - accuracy: 0.8701 - val_loss: 0.3470 - val_accuracy: 0.8533\n",
            "Epoch 37/80\n",
            "48/48 [==============================] - 18s 372ms/step - loss: 0.3164 - accuracy: 0.8606 - val_loss: 0.3370 - val_accuracy: 0.8637\n",
            "Epoch 38/80\n",
            "48/48 [==============================] - 18s 370ms/step - loss: 0.3035 - accuracy: 0.8732 - val_loss: 0.3473 - val_accuracy: 0.8563\n",
            "Epoch 39/80\n",
            "48/48 [==============================] - 18s 370ms/step - loss: 0.2933 - accuracy: 0.8759 - val_loss: 0.3491 - val_accuracy: 0.8519\n",
            "Epoch 40/80\n",
            "48/48 [==============================] - 18s 371ms/step - loss: 0.2931 - accuracy: 0.8740 - val_loss: 0.3467 - val_accuracy: 0.8519\n",
            "Epoch 41/80\n",
            "48/48 [==============================] - 18s 368ms/step - loss: 0.3036 - accuracy: 0.8636 - val_loss: 0.3474 - val_accuracy: 0.8489\n",
            "Epoch 00041: early stopping\n"
          ],
          "name": "stdout"
        }
      ]
    },
    {
      "cell_type": "code",
      "metadata": {
        "id": "u73jBtE9cgHq",
        "colab": {
          "base_uri": "https://localhost:8080/",
          "height": 573
        },
        "outputId": "dc94c9eb-d192-4a7e-fa54-34e183a0ec0d"
      },
      "source": [
        "import matplotlib.pyplot as plt\n",
        "plt.plot(history.history['accuracy'])\n",
        "plt.plot(history.history['val_accuracy'])\n",
        "plt.title('model accuracy')\n",
        "plt.ylabel('accuracy')\n",
        "plt.xlabel('epoch')\n",
        "plt.xlim(1, 80)\n",
        "plt.legend(['train', 'val'], loc='upper left')\n",
        "plt.show()\n",
        "# summarize history for loss\n",
        "plt.plot(history.history['loss'])\n",
        "plt.plot(history.history['val_loss'])\n",
        "plt.title('model loss')\n",
        "plt.ylabel('loss')\n",
        "plt.xlabel('epoch')\n",
        "plt.xlim(1, 80)\n",
        "plt.legend(['train', 'val'], loc='upper left')\n",
        "plt.show()"
      ],
      "execution_count": null,
      "outputs": [
        {
          "output_type": "display_data",
          "data": {
            "image/png": "[encoded data removed]",
            "text/plain": [
              "<Figure size 432x288 with 1 Axes>"
            ]
          },
          "metadata": {
            "tags": [],
            "needs_background": "light"
          }
        },
        {
          "output_type": "display_data",
          "data": {
            "image/png": "[encoded data removed]",
            "text/plain": [
              "<Figure size 432x288 with 1 Axes>"
            ]
          },
          "metadata": {
            "tags": [],
            "needs_background": "light"
          }
        }
      ]
    },
    {
      "cell_type": "code",
      "metadata": {
        "id": "vqBHzlvlczSI"
      },
      "source": [
        "y_predict = (model.predict(X_test) > 0.5).astype('int32')"
      ],
      "execution_count": null,
      "outputs": []
    },
    {
      "cell_type": "code",
      "metadata": {
        "colab": {
          "base_uri": "https://localhost:8080/"
        },
        "id": "3VpmngJBU2sf",
        "outputId": "a140823f-c672-40cb-e00e-cb1698757457"
      },
      "source": [
        "TN, FP, FN, TP = confusion_matrix(y_test, y_predict).ravel()\n",
        "tss = (TP / (TP + FN)) - (FP / (FP + TN))\n",
        "print(\"tss: \",tss)"
      ],
      "execution_count": null,
      "outputs": [
        {
          "output_type": "stream",
          "text": [
            "tss:  0.725958772922369\n"
          ],
          "name": "stdout"
        }
      ]
    },
    {
      "cell_type": "code",
      "metadata": {
        "id": "nOOR60y1c_9X",
        "colab": {
          "base_uri": "https://localhost:8080/"
        },
        "outputId": "d75901a9-5b49-44b9-cdd1-0f654926e209"
      },
      "source": [
        "target_names =  ['class 0', 'class 1']\n",
        "print(classification_report(y_test, y_predict, target_names=target_names, digits = 4))"
      ],
      "execution_count": null,
      "outputs": [
        {
          "output_type": "stream",
          "text": [
            "              precision    recall  f1-score   support\n",
            "\n",
            "     class 0     0.9046    0.8127    0.8562      1132\n",
            "     class 1     0.8281    0.9132    0.8686      1118\n",
            "\n",
            "    accuracy                         0.8627      2250\n",
            "   macro avg     0.8663    0.8630    0.8624      2250\n",
            "weighted avg     0.8666    0.8627    0.8624      2250\n",
            "\n"
          ],
          "name": "stdout"
        }
      ]
    },
    {
      "cell_type": "code",
      "metadata": {
        "colab": {
          "base_uri": "https://localhost:8080/",
          "height": 283
        },
        "id": "0tqNjOO3PSUa",
        "outputId": "9356cae8-cace-4004-c624-b0f0e6077738"
      },
      "source": [
        "cm = confusion_matrix(y_test, y_predict)\n",
        "ax = plt.subplot()\n",
        "sns.heatmap(cm, annot=True, ax=ax, cmap=\"Blues\", fmt=\"d\")"
      ],
      "execution_count": null,
      "outputs": [
        {
          "output_type": "execute_result",
          "data": {
            "text/plain": [
              "<matplotlib.axes._subplots.AxesSubplot at 0x7fe03c6775d0>"
            ]
          },
          "metadata": {
            "tags": []
          },
          "execution_count": 24
        },
        {
          "output_type": "display_data",
          "data": {
            "image/png": "[encoded data removed]",
            "text/plain": [
              "<Figure size 432x288 with 2 Axes>"
            ]
          },
          "metadata": {
            "tags": [],
            "needs_background": "light"
          }
        }
      ]
    },
    {
      "cell_type": "code",
      "metadata": {
        "id": "HrNy0iLrqzLp"
      },
      "source": [
        "def squeeze_excite_block(input):\n",
        "    ''' Create a squeeze-excite block\n",
        "    Args:\n",
        "        input: input tensor\n",
        "        filters: number of output filters\n",
        "        k: width factor\n",
        "    Returns: a keras tensor\n",
        "    '''\n",
        "    filters = input.shape[-1] # channel_axis = -1 for TF\n",
        "\n",
        "    se = GlobalAveragePooling1D()(input)\n",
        "    se = Reshape((1, filters))(se)\n",
        "    se = Dense(filters // 16,  activation='relu', kernel_initializer='he_normal', use_bias=False)(se)\n",
        "    se = Dense(filters, activation='sigmoid', kernel_initializer='he_normal', use_bias=False)(se)\n",
        "    se = multiply([input, se])\n",
        "    return se"
      ],
      "execution_count": null,
      "outputs": []
    },
    {
      "cell_type": "code",
      "metadata": {
        "id": "WBAvfYy_YMCY",
        "colab": {
          "base_uri": "https://localhost:8080/"
        },
        "outputId": "0dd3dc9e-f979-4f15-80bf-e6831005df4e"
      },
      "source": [
        "from keras.models import Model\n",
        "from keras.layers import Input, Dense, LSTM, multiply, concatenate, Activation, Masking, Reshape\n",
        "from keras.layers import Conv1D, BatchNormalization, GlobalAveragePooling1D, Permute, Dropout\n",
        "\n",
        "input = Input(shape=(33, 60))\n",
        "x = Masking()(input)\n",
        "x = LSTM(8)(x)\n",
        "x = Dropout(0.8)(x)\n",
        "\n",
        "y = Permute((2, 1))(input)\n",
        "y = Conv1D(128, 8, padding='same', kernel_initializer='he_uniform')(y)\n",
        "y = BatchNormalization()(y)\n",
        "y = Activation('relu')(y)\n",
        "y = squeeze_excite_block(y)\n",
        "\n",
        "\n",
        "y = Conv1D(256, 5, padding='same', kernel_initializer='he_uniform')(y)\n",
        "y = BatchNormalization()(y)\n",
        "y = Activation('relu')(y)\n",
        "y = squeeze_excite_block(y)\n",
        "\n",
        "\n",
        "y = Conv1D(128, 3, padding='same', kernel_initializer='he_uniform')(y)\n",
        "y = BatchNormalization()(y)\n",
        "y = Activation('relu')(y)\n",
        "\n",
        "\n",
        "y = GlobalAveragePooling1D()(y)\n",
        "x = concatenate([x, y])\n",
        "\n",
        "out = Dense(1, activation='sigmoid')(x)\n",
        "\n",
        "model = Model(input, out)\n",
        "model.compile(loss='binary_crossentropy', optimizer='adam', metrics=['accuracy'])\n",
        "model.summary()"
      ],
      "execution_count": null,
      "outputs": [
        {
          "output_type": "stream",
          "text": [
            "Model: \"model_1\"\n",
            "__________________________________________________________________________________________________\n",
            "Layer (type)                    Output Shape         Param #     Connected to                     \n",
            "==================================================================================================\n",
            "input_2 (InputLayer)            [(None, 33, 60)]     0                                            \n",
            "__________________________________________________________________________________________________\n",
            "permute_1 (Permute)             (None, 60, 33)       0           input_2[0][0]                    \n",
            "__________________________________________________________________________________________________\n",
            "conv1d_3 (Conv1D)               (None, 60, 128)      33920       permute_1[0][0]                  \n",
            "__________________________________________________________________________________________________\n",
            "batch_normalization_3 (BatchNor (None, 60, 128)      512         conv1d_3[0][0]                   \n",
            "__________________________________________________________________________________________________\n",
            "activation_3 (Activation)       (None, 60, 128)      0           batch_normalization_3[0][0]      \n",
            "__________________________________________________________________________________________________\n",
            "global_average_pooling1d_1 (Glo (None, 128)          0           activation_3[0][0]               \n",
            "__________________________________________________________________________________________________\n",
            "reshape (Reshape)               (None, 1, 128)       0           global_average_pooling1d_1[0][0] \n",
            "__________________________________________________________________________________________________\n",
            "dense_1 (Dense)                 (None, 1, 8)         1024        reshape[0][0]                    \n",
            "__________________________________________________________________________________________________\n",
            "dense_2 (Dense)                 (None, 1, 128)       1024        dense_1[0][0]                    \n",
            "__________________________________________________________________________________________________\n",
            "multiply (Multiply)             (None, 60, 128)      0           activation_3[0][0]               \n",
            "                                                                 dense_2[0][0]                    \n",
            "__________________________________________________________________________________________________\n",
            "conv1d_4 (Conv1D)               (None, 60, 256)      164096      multiply[0][0]                   \n",
            "__________________________________________________________________________________________________\n",
            "batch_normalization_4 (BatchNor (None, 60, 256)      1024        conv1d_4[0][0]                   \n",
            "__________________________________________________________________________________________________\n",
            "activation_4 (Activation)       (None, 60, 256)      0           batch_normalization_4[0][0]      \n",
            "__________________________________________________________________________________________________\n",
            "global_average_pooling1d_2 (Glo (None, 256)          0           activation_4[0][0]               \n",
            "__________________________________________________________________________________________________\n",
            "reshape_1 (Reshape)             (None, 1, 256)       0           global_average_pooling1d_2[0][0] \n",
            "__________________________________________________________________________________________________\n",
            "dense_3 (Dense)                 (None, 1, 16)        4096        reshape_1[0][0]                  \n",
            "__________________________________________________________________________________________________\n",
            "dense_4 (Dense)                 (None, 1, 256)       4096        dense_3[0][0]                    \n",
            "__________________________________________________________________________________________________\n",
            "multiply_1 (Multiply)           (None, 60, 256)      0           activation_4[0][0]               \n",
            "                                                                 dense_4[0][0]                    \n",
            "__________________________________________________________________________________________________\n",
            "conv1d_5 (Conv1D)               (None, 60, 128)      98432       multiply_1[0][0]                 \n",
            "__________________________________________________________________________________________________\n",
            "masking (Masking)               (None, 33, 60)       0           input_2[0][0]                    \n",
            "__________________________________________________________________________________________________\n",
            "batch_normalization_5 (BatchNor (None, 60, 128)      512         conv1d_5[0][0]                   \n",
            "__________________________________________________________________________________________________\n",
            "lstm (LSTM)                     (None, 8)            2208        masking[0][0]                    \n",
            "__________________________________________________________________________________________________\n",
            "activation_5 (Activation)       (None, 60, 128)      0           batch_normalization_5[0][0]      \n",
            "__________________________________________________________________________________________________\n",
            "dropout (Dropout)               (None, 8)            0           lstm[0][0]                       \n",
            "__________________________________________________________________________________________________\n",
            "global_average_pooling1d_3 (Glo (None, 128)          0           activation_5[0][0]               \n",
            "__________________________________________________________________________________________________\n",
            "concatenate (Concatenate)       (None, 136)          0           dropout[0][0]                    \n",
            "                                                                 global_average_pooling1d_3[0][0] \n",
            "__________________________________________________________________________________________________\n",
            "dense_5 (Dense)                 (None, 1)            137         concatenate[0][0]                \n",
            "==================================================================================================\n",
            "Total params: 311,081\n",
            "Trainable params: 310,057\n",
            "Non-trainable params: 1,024\n",
            "__________________________________________________________________________________________________\n"
          ],
          "name": "stdout"
        }
      ]
    },
    {
      "cell_type": "code",
      "metadata": {
        "id": "LZNInHFzH2jg",
        "colab": {
          "base_uri": "https://localhost:8080/"
        },
        "outputId": "bc2ab982-b574-491f-99bb-6e858545baf6"
      },
      "source": [
        "history = model.fit(X_train, y_train, batch_size=128, epochs=80, verbose=1, callbacks=[earlyStopping, mcp_save, reduce_lr_loss], validation_split=0.1,)"
      ],
      "execution_count": null,
      "outputs": [
        {
          "output_type": "stream",
          "text": [
            "Epoch 1/80\n",
            "48/48 [==============================] - 26s 437ms/step - loss: 0.4903 - accuracy: 0.7545 - val_loss: 0.6096 - val_accuracy: 0.6844\n",
            "Epoch 2/80\n",
            "48/48 [==============================] - 19s 403ms/step - loss: 0.4209 - accuracy: 0.8025 - val_loss: 0.5545 - val_accuracy: 0.7422\n",
            "Epoch 3/80\n",
            "48/48 [==============================] - 19s 399ms/step - loss: 0.4180 - accuracy: 0.7980 - val_loss: 0.5127 - val_accuracy: 0.7733\n",
            "Epoch 4/80\n",
            "48/48 [==============================] - 19s 404ms/step - loss: 0.4099 - accuracy: 0.8048 - val_loss: 0.4513 - val_accuracy: 0.8030\n",
            "Epoch 5/80\n",
            "48/48 [==============================] - 20s 410ms/step - loss: 0.3841 - accuracy: 0.8126 - val_loss: 0.3847 - val_accuracy: 0.8207\n",
            "Epoch 6/80\n",
            "48/48 [==============================] - 20s 410ms/step - loss: 0.3884 - accuracy: 0.8264 - val_loss: 0.3952 - val_accuracy: 0.8252\n",
            "Epoch 7/80\n",
            "48/48 [==============================] - 19s 404ms/step - loss: 0.3682 - accuracy: 0.8332 - val_loss: 0.4103 - val_accuracy: 0.8252\n",
            "Epoch 8/80\n",
            "48/48 [==============================] - 19s 403ms/step - loss: 0.3736 - accuracy: 0.8239 - val_loss: 0.4000 - val_accuracy: 0.8163\n",
            "Epoch 9/80\n",
            "48/48 [==============================] - 19s 400ms/step - loss: 0.3732 - accuracy: 0.8226 - val_loss: 0.3887 - val_accuracy: 0.8237\n",
            "Epoch 10/80\n",
            "48/48 [==============================] - 19s 401ms/step - loss: 0.3650 - accuracy: 0.8353 - val_loss: 0.3977 - val_accuracy: 0.8252\n",
            "Epoch 11/80\n",
            "48/48 [==============================] - 19s 398ms/step - loss: 0.3664 - accuracy: 0.8301 - val_loss: 0.4393 - val_accuracy: 0.8193\n",
            "Epoch 12/80\n",
            "48/48 [==============================] - 19s 396ms/step - loss: 0.3673 - accuracy: 0.8408 - val_loss: 0.3678 - val_accuracy: 0.8474\n",
            "Epoch 13/80\n",
            "48/48 [==============================] - 19s 406ms/step - loss: 0.3636 - accuracy: 0.8321 - val_loss: 0.3617 - val_accuracy: 0.8444\n",
            "Epoch 14/80\n",
            "48/48 [==============================] - 20s 407ms/step - loss: 0.3496 - accuracy: 0.8427 - val_loss: 0.3586 - val_accuracy: 0.8385\n",
            "Epoch 15/80\n",
            "48/48 [==============================] - 20s 414ms/step - loss: 0.3363 - accuracy: 0.8408 - val_loss: 0.3372 - val_accuracy: 0.8652\n",
            "Epoch 16/80\n",
            "48/48 [==============================] - 20s 410ms/step - loss: 0.3364 - accuracy: 0.8487 - val_loss: 0.3580 - val_accuracy: 0.8504\n",
            "Epoch 17/80\n",
            "48/48 [==============================] - 20s 412ms/step - loss: 0.3289 - accuracy: 0.8545 - val_loss: 0.3671 - val_accuracy: 0.8459\n",
            "Epoch 18/80\n",
            "48/48 [==============================] - 20s 410ms/step - loss: 0.3481 - accuracy: 0.8414 - val_loss: 0.3812 - val_accuracy: 0.8296\n",
            "Epoch 19/80\n",
            "48/48 [==============================] - 20s 409ms/step - loss: 0.3161 - accuracy: 0.8674 - val_loss: 0.3783 - val_accuracy: 0.8459\n",
            "Epoch 20/80\n",
            "48/48 [==============================] - 20s 408ms/step - loss: 0.3152 - accuracy: 0.8601 - val_loss: 0.3377 - val_accuracy: 0.8637\n",
            "Epoch 21/80\n",
            "48/48 [==============================] - 20s 426ms/step - loss: 0.3080 - accuracy: 0.8632 - val_loss: 0.3656 - val_accuracy: 0.8519\n",
            "Epoch 22/80\n",
            "48/48 [==============================] - 20s 407ms/step - loss: 0.3234 - accuracy: 0.8527 - val_loss: 0.3364 - val_accuracy: 0.8578\n",
            "Epoch 23/80\n",
            "48/48 [==============================] - 19s 406ms/step - loss: 0.3115 - accuracy: 0.8594 - val_loss: 0.3489 - val_accuracy: 0.8459\n",
            "Epoch 24/80\n",
            "48/48 [==============================] - 19s 401ms/step - loss: 0.3060 - accuracy: 0.8699 - val_loss: 0.3476 - val_accuracy: 0.8711\n",
            "Epoch 25/80\n",
            "48/48 [==============================] - 19s 400ms/step - loss: 0.2837 - accuracy: 0.8797 - val_loss: 0.3365 - val_accuracy: 0.8622\n",
            "Epoch 26/80\n",
            "48/48 [==============================] - 19s 399ms/step - loss: 0.3037 - accuracy: 0.8662 - val_loss: 0.3207 - val_accuracy: 0.8622\n",
            "Epoch 27/80\n",
            "48/48 [==============================] - 19s 405ms/step - loss: 0.3059 - accuracy: 0.8708 - val_loss: 0.3440 - val_accuracy: 0.8711\n",
            "Epoch 28/80\n",
            "48/48 [==============================] - 19s 406ms/step - loss: 0.2984 - accuracy: 0.8683 - val_loss: 0.3310 - val_accuracy: 0.8681\n",
            "Epoch 29/80\n",
            "48/48 [==============================] - 19s 405ms/step - loss: 0.2998 - accuracy: 0.8601 - val_loss: 0.3914 - val_accuracy: 0.8370\n",
            "Epoch 30/80\n",
            "48/48 [==============================] - 19s 405ms/step - loss: 0.2937 - accuracy: 0.8735 - val_loss: 0.3640 - val_accuracy: 0.8415\n",
            "Epoch 31/80\n",
            "48/48 [==============================] - 20s 408ms/step - loss: 0.2721 - accuracy: 0.8833 - val_loss: 0.3138 - val_accuracy: 0.8741\n",
            "Epoch 32/80\n",
            "48/48 [==============================] - 19s 401ms/step - loss: 0.2759 - accuracy: 0.8822 - val_loss: 0.3435 - val_accuracy: 0.8563\n",
            "Epoch 33/80\n",
            "48/48 [==============================] - 19s 403ms/step - loss: 0.2876 - accuracy: 0.8760 - val_loss: 0.3283 - val_accuracy: 0.8741\n",
            "Epoch 34/80\n",
            "48/48 [==============================] - 20s 419ms/step - loss: 0.2727 - accuracy: 0.8832 - val_loss: 0.3565 - val_accuracy: 0.8607\n",
            "Epoch 35/80\n",
            "48/48 [==============================] - 19s 401ms/step - loss: 0.2760 - accuracy: 0.8821 - val_loss: 0.3305 - val_accuracy: 0.8667\n",
            "Epoch 36/80\n",
            "48/48 [==============================] - 19s 401ms/step - loss: 0.2795 - accuracy: 0.8802 - val_loss: 0.3300 - val_accuracy: 0.8533\n",
            "Epoch 37/80\n",
            "48/48 [==============================] - 19s 403ms/step - loss: 0.2665 - accuracy: 0.8841 - val_loss: 0.4022 - val_accuracy: 0.8326\n",
            "Epoch 38/80\n",
            "48/48 [==============================] - 19s 396ms/step - loss: 0.2582 - accuracy: 0.8909 - val_loss: 0.3516 - val_accuracy: 0.8578\n",
            "Epoch 39/80\n",
            "48/48 [==============================] - 19s 399ms/step - loss: 0.2563 - accuracy: 0.8902 - val_loss: 0.3204 - val_accuracy: 0.8756\n",
            "Epoch 40/80\n",
            "48/48 [==============================] - 20s 408ms/step - loss: 0.2493 - accuracy: 0.8896 - val_loss: 0.3004 - val_accuracy: 0.8785\n",
            "Epoch 41/80\n",
            "48/48 [==============================] - 20s 410ms/step - loss: 0.2282 - accuracy: 0.9100 - val_loss: 0.3037 - val_accuracy: 0.8830\n",
            "Epoch 42/80\n",
            "48/48 [==============================] - 20s 410ms/step - loss: 0.2429 - accuracy: 0.8955 - val_loss: 0.2965 - val_accuracy: 0.8800\n",
            "Epoch 43/80\n",
            "48/48 [==============================] - 19s 405ms/step - loss: 0.2388 - accuracy: 0.8986 - val_loss: 0.3062 - val_accuracy: 0.8800\n",
            "Epoch 44/80\n",
            "48/48 [==============================] - 19s 402ms/step - loss: 0.2184 - accuracy: 0.9104 - val_loss: 0.3005 - val_accuracy: 0.8770\n",
            "Epoch 45/80\n",
            "48/48 [==============================] - 19s 399ms/step - loss: 0.2231 - accuracy: 0.9042 - val_loss: 0.2989 - val_accuracy: 0.8859\n",
            "Epoch 46/80\n",
            "48/48 [==============================] - 20s 423ms/step - loss: 0.2403 - accuracy: 0.9023 - val_loss: 0.3086 - val_accuracy: 0.8815\n",
            "Epoch 47/80\n",
            "48/48 [==============================] - 19s 402ms/step - loss: 0.2299 - accuracy: 0.8980 - val_loss: 0.3054 - val_accuracy: 0.8785\n",
            "Epoch 48/80\n",
            "48/48 [==============================] - 19s 402ms/step - loss: 0.2202 - accuracy: 0.9089 - val_loss: 0.2947 - val_accuracy: 0.8815\n",
            "Epoch 49/80\n",
            "48/48 [==============================] - 19s 402ms/step - loss: 0.2104 - accuracy: 0.9179 - val_loss: 0.2941 - val_accuracy: 0.8830\n",
            "Epoch 50/80\n",
            "48/48 [==============================] - 19s 400ms/step - loss: 0.2066 - accuracy: 0.9152 - val_loss: 0.2983 - val_accuracy: 0.8770\n",
            "Epoch 51/80\n",
            "48/48 [==============================] - 19s 400ms/step - loss: 0.2220 - accuracy: 0.9076 - val_loss: 0.3025 - val_accuracy: 0.8859\n",
            "Epoch 52/80\n",
            "48/48 [==============================] - 19s 405ms/step - loss: 0.2137 - accuracy: 0.9104 - val_loss: 0.2911 - val_accuracy: 0.8844\n",
            "Epoch 53/80\n",
            "48/48 [==============================] - 20s 408ms/step - loss: 0.2110 - accuracy: 0.9134 - val_loss: 0.2953 - val_accuracy: 0.8830\n",
            "Epoch 54/80\n",
            "48/48 [==============================] - 20s 409ms/step - loss: 0.2217 - accuracy: 0.9056 - val_loss: 0.3079 - val_accuracy: 0.8756\n",
            "Epoch 55/80\n",
            "48/48 [==============================] - 20s 408ms/step - loss: 0.2120 - accuracy: 0.9112 - val_loss: 0.2949 - val_accuracy: 0.8859\n",
            "Epoch 56/80\n",
            "48/48 [==============================] - 19s 403ms/step - loss: 0.2222 - accuracy: 0.9078 - val_loss: 0.2908 - val_accuracy: 0.8874\n",
            "Epoch 57/80\n",
            "48/48 [==============================] - 19s 400ms/step - loss: 0.2130 - accuracy: 0.9105 - val_loss: 0.3010 - val_accuracy: 0.8815\n",
            "Epoch 58/80\n",
            "48/48 [==============================] - 19s 401ms/step - loss: 0.2205 - accuracy: 0.9037 - val_loss: 0.3043 - val_accuracy: 0.8830\n",
            "Epoch 59/80\n",
            "48/48 [==============================] - 20s 411ms/step - loss: 0.2220 - accuracy: 0.9079 - val_loss: 0.2972 - val_accuracy: 0.8874\n",
            "Epoch 60/80\n",
            "48/48 [==============================] - 19s 398ms/step - loss: 0.2176 - accuracy: 0.9131 - val_loss: 0.2924 - val_accuracy: 0.8844\n",
            "Epoch 61/80\n",
            "48/48 [==============================] - 19s 402ms/step - loss: 0.2232 - accuracy: 0.9048 - val_loss: 0.2904 - val_accuracy: 0.8933\n",
            "Epoch 62/80\n",
            "48/48 [==============================] - 19s 399ms/step - loss: 0.2177 - accuracy: 0.9040 - val_loss: 0.2945 - val_accuracy: 0.8963\n",
            "Epoch 63/80\n",
            "48/48 [==============================] - 19s 399ms/step - loss: 0.1953 - accuracy: 0.9166 - val_loss: 0.3078 - val_accuracy: 0.8904\n",
            "Epoch 64/80\n",
            "48/48 [==============================] - 19s 395ms/step - loss: 0.2270 - accuracy: 0.8990 - val_loss: 0.3026 - val_accuracy: 0.8859\n",
            "Epoch 65/80\n",
            "48/48 [==============================] - 19s 395ms/step - loss: 0.2198 - accuracy: 0.9125 - val_loss: 0.2955 - val_accuracy: 0.8874\n",
            "Epoch 66/80\n",
            "48/48 [==============================] - 19s 395ms/step - loss: 0.2150 - accuracy: 0.9078 - val_loss: 0.2983 - val_accuracy: 0.8919\n",
            "Epoch 67/80\n",
            "48/48 [==============================] - 19s 396ms/step - loss: 0.2015 - accuracy: 0.9180 - val_loss: 0.2972 - val_accuracy: 0.8889\n",
            "Epoch 68/80\n",
            "48/48 [==============================] - 19s 397ms/step - loss: 0.2051 - accuracy: 0.9158 - val_loss: 0.3003 - val_accuracy: 0.8844\n",
            "Epoch 69/80\n",
            "48/48 [==============================] - 19s 397ms/step - loss: 0.2002 - accuracy: 0.9179 - val_loss: 0.2978 - val_accuracy: 0.8859\n",
            "Epoch 70/80\n",
            "48/48 [==============================] - 19s 396ms/step - loss: 0.2082 - accuracy: 0.9099 - val_loss: 0.2947 - val_accuracy: 0.8874\n",
            "Epoch 71/80\n",
            "48/48 [==============================] - 19s 398ms/step - loss: 0.1973 - accuracy: 0.9135 - val_loss: 0.2932 - val_accuracy: 0.8933\n",
            "Epoch 00071: early stopping\n"
          ],
          "name": "stdout"
        }
      ]
    },
    {
      "cell_type": "code",
      "metadata": {
        "colab": {
          "base_uri": "https://localhost:8080/",
          "height": 573
        },
        "id": "2535OHSoH75l",
        "outputId": "d896282b-7c71-4365-b736-01c37712ae90"
      },
      "source": [
        "import matplotlib.pyplot as plt\n",
        "plt.plot(history.history['accuracy'])\n",
        "plt.plot(history.history['val_accuracy'])\n",
        "plt.title('model accuracy')\n",
        "plt.ylabel('accuracy')\n",
        "plt.xlabel('epoch')\n",
        "plt.xlim(1, 80)\n",
        "plt.legend(['train', 'val'], loc='upper left')\n",
        "plt.show()\n",
        "# summarize history for loss\n",
        "plt.plot(history.history['loss'])\n",
        "plt.plot(history.history['val_loss'])\n",
        "plt.title('model loss')\n",
        "plt.ylabel('loss')\n",
        "plt.xlabel('epoch')\n",
        "plt.xlim(1, 80)\n",
        "plt.legend(['train', 'val'], loc='upper left')\n",
        "plt.show()"
      ],
      "execution_count": null,
      "outputs": [
        {
          "output_type": "display_data",
          "data": {
            "image/png": "[encoded data removed]",
            "text/plain": [
              "<Figure size 432x288 with 1 Axes>"
            ]
          },
          "metadata": {
            "tags": [],
            "needs_background": "light"
          }
        },
        {
          "output_type": "display_data",
          "data": {
            "image/png": "[encoded data removed]",
            "text/plain": [
              "<Figure size 432x288 with 1 Axes>"
            ]
          },
          "metadata": {
            "tags": [],
            "needs_background": "light"
          }
        }
      ]
    },
    {
      "cell_type": "code",
      "metadata": {
        "id": "_nHstQGNIDqI"
      },
      "source": [
        "y_predict = (model.predict(X_test) > 0.5).astype('int32')"
      ],
      "execution_count": null,
      "outputs": []
    },
    {
      "cell_type": "code",
      "metadata": {
        "colab": {
          "base_uri": "https://localhost:8080/"
        },
        "id": "Es-IWHpWU-eD",
        "outputId": "bc216485-046d-4609-f152-a6220f996eeb"
      },
      "source": [
        "TN, FP, FN, TP = confusion_matrix(y_test, y_predict).ravel()\n",
        "tss = (TP / (TP + FN)) - (FP / (FP + TN))\n",
        "print(\"tss: \",tss)"
      ],
      "execution_count": null,
      "outputs": [
        {
          "output_type": "stream",
          "text": [
            "tss:  0.7788516849244929\n"
          ],
          "name": "stdout"
        }
      ]
    },
    {
      "cell_type": "code",
      "metadata": {
        "colab": {
          "base_uri": "https://localhost:8080/"
        },
        "id": "HB8wa52lJXc7",
        "outputId": "82606ff0-03a4-4eda-8e41-9bb5e7ce6af8"
      },
      "source": [
        "from sklearn.metrics import classification_report\n",
        "target_names =  ['class 0', 'class 1']\n",
        "print(classification_report(y_test, y_predict, target_names=target_names, digits = 4))"
      ],
      "execution_count": null,
      "outputs": [
        {
          "output_type": "stream",
          "text": [
            "              precision    recall  f1-score   support\n",
            "\n",
            "     class 0     0.9025    0.8746    0.8883      1132\n",
            "     class 1     0.8768    0.9043    0.8904      1118\n",
            "\n",
            "    accuracy                         0.8893      2250\n",
            "   macro avg     0.8897    0.8894    0.8893      2250\n",
            "weighted avg     0.8897    0.8893    0.8893      2250\n",
            "\n"
          ],
          "name": "stdout"
        }
      ]
    },
    {
      "cell_type": "code",
      "metadata": {
        "colab": {
          "base_uri": "https://localhost:8080/",
          "height": 285
        },
        "id": "3QHmbY5TL-k2",
        "outputId": "110e2711-e54b-4553-823b-5b3adf028187"
      },
      "source": [
        "from sklearn.metrics import confusion_matrix\n",
        "import seaborn as sns\n",
        "cm = confusion_matrix(y_test, y_predict)\n",
        "ax = plt.subplot()\n",
        "sns.heatmap(cm, annot=True, ax=ax, cmap=\"Blues\", fmt=\"d\")"
      ],
      "execution_count": null,
      "outputs": [
        {
          "output_type": "execute_result",
          "data": {
            "text/plain": [
              "<matplotlib.axes._subplots.AxesSubplot at 0x7fe0304cedd0>"
            ]
          },
          "metadata": {
            "tags": []
          },
          "execution_count": 32
        },
        {
          "output_type": "display_data",
          "data": {
            "image/png": "[encoded data removed]",
            "text/plain": [
              "<Figure size 432x288 with 2 Axes>"
            ]
          },
          "metadata": {
            "tags": [],
            "needs_background": "light"
          }
        }
      ]
    }
  ]
}