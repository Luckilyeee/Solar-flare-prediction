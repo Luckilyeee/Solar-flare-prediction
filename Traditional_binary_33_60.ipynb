{
  "nbformat": 4,
  "nbformat_minor": 0,
  "metadata": {
    "accelerator": "GPU",
    "colab": {
      "name": "Traditional_binary_33*60.ipynb",
      "provenance": [],
      "collapsed_sections": [],
      "toc_visible": true
    },
    "kernelspec": {
      "display_name": "Python 3",
      "name": "python3"
    }
  },
  "cells": [
    {
      "cell_type": "code",
      "metadata": {
        "colab": {
          "resources": {
            "http://localhost:8080/nbextensions/google.colab/files.js": {
              "data": "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",
              "ok": true,
              "headers": [
                [
                  "content-type",
                  "application/javascript"
                ]
              ],
              "status": 200,
              "status_text": ""
            }
          },
          "base_uri": "https://localhost:8080/",
          "height": 58
        },
        "id": "9JPWX12oHTWH",
        "outputId": "0067c3d4-5df5-49b6-ca06-c19bd3a50ec7"
      },
      "source": [
        "from google.colab import files\n",
        "\n",
        "files.upload()"
      ],
      "execution_count": null,
      "outputs": [
        {
          "output_type": "display_data",
          "data": {
            "text/html": [
              "\n",
              "     <input type=\"file\" id=\"files-824d8ea3-186d-4b53-b116-a4211c99b56d\" name=\"files[]\" multiple disabled\n",
              "        style=\"border:none\" />\n",
              "     <output id=\"result-824d8ea3-186d-4b53-b116-a4211c99b56d\">\n",
              "      Upload widget is only available when the cell has been executed in the\n",
              "      current browser session. Please rerun this cell to enable.\n",
              "      </output>\n",
              "      <script src=\"/nbextensions/google.colab/files.js\"></script> "
            ],
            "text/plain": [
              "<IPython.core.display.HTML object>"
            ]
          },
          "metadata": {
            "tags": []
          }
        },
        {
          "output_type": "execute_result",
          "data": {
            "text/plain": [
              "{}"
            ]
          },
          "metadata": {
            "tags": []
          },
          "execution_count": 1
        }
      ]
    },
    {
      "cell_type": "code",
      "metadata": {
        "id": "NvMv_RmhH7tB"
      },
      "source": [
        "import numpy as np\n",
        "import pandas as pd\n",
        "from sklearn.model_selection import train_test_split\n",
        "from sklearn.metrics import f1_score\n",
        "from sklearn.metrics import recall_score\n",
        "from sklearn.metrics import accuracy_score\n",
        "from sklearn.metrics import precision_score\n",
        "from sklearn.metrics import confusion_matrix\n",
        "import time"
      ],
      "execution_count": null,
      "outputs": []
    },
    {
      "cell_type": "markdown",
      "metadata": {
        "id": "Wt7n4pMD9LpS"
      },
      "source": [
        "# read files"
      ]
    },
    {
      "cell_type": "code",
      "metadata": {
        "id": "tQ6EJqT4IJVn"
      },
      "source": [
        "inputs = pd.read_pickle(\"/content/Sampled_inputs1.pck\")\n",
        "labels = pd.read_pickle(\"/content/Sampled_labels1.pck\")"
      ],
      "execution_count": null,
      "outputs": []
    },
    {
      "cell_type": "code",
      "metadata": {
        "colab": {
          "base_uri": "https://localhost:8080/"
        },
        "id": "HveC6riP-uUe",
        "outputId": "d236367a-b4c8-46e3-cc16-78efd9f3e736"
      },
      "source": [
        "len(inputs)"
      ],
      "execution_count": null,
      "outputs": [
        {
          "output_type": "execute_result",
          "data": {
            "text/plain": [
              "2310"
            ]
          },
          "metadata": {
            "tags": []
          },
          "execution_count": 4
        }
      ]
    },
    {
      "cell_type": "code",
      "metadata": {
        "colab": {
          "base_uri": "https://localhost:8080/"
        },
        "id": "QuzgN3FMAzKZ",
        "outputId": "7fa6d3ba-765d-4a2e-c5fd-186635975d6c"
      },
      "source": [
        "inputs.shape"
      ],
      "execution_count": null,
      "outputs": [
        {
          "output_type": "execute_result",
          "data": {
            "text/plain": [
              "(2310, 60, 33)"
            ]
          },
          "metadata": {
            "tags": []
          },
          "execution_count": 5
        }
      ]
    },
    {
      "cell_type": "markdown",
      "metadata": {
        "id": "3vRNB_Xa9O7W"
      },
      "source": [
        "# check NAN"
      ]
    },
    {
      "cell_type": "code",
      "metadata": {
        "id": "a_awOBNERlzm"
      },
      "source": [
        "if np.isnan(inputs).any():\n",
        "  print('oops')"
      ],
      "execution_count": null,
      "outputs": []
    },
    {
      "cell_type": "code",
      "metadata": {
        "colab": {
          "base_uri": "https://localhost:8080/"
        },
        "id": "7hUQ-FwOaIL8",
        "outputId": "30fdc35c-7d28-4c31-de16-195067390d99"
      },
      "source": [
        "len(labels)"
      ],
      "execution_count": null,
      "outputs": [
        {
          "output_type": "execute_result",
          "data": {
            "text/plain": [
              "2310"
            ]
          },
          "metadata": {
            "tags": []
          },
          "execution_count": 7
        }
      ]
    },
    {
      "cell_type": "markdown",
      "metadata": {
        "id": "8cvX1v849T4J"
      },
      "source": [
        "# classes distribution"
      ]
    },
    {
      "cell_type": "code",
      "metadata": {
        "colab": {
          "base_uri": "https://localhost:8080/"
        },
        "id": "RvbkYhK9g5yR",
        "outputId": "c19c3ca1-4d2a-4927-9948-4154fadb7fde"
      },
      "source": [
        "from collections import Counter\n",
        "label_count = Counter(labels)\n",
        "label_count"
      ],
      "execution_count": null,
      "outputs": [
        {
          "output_type": "execute_result",
          "data": {
            "text/plain": [
              "Counter({0: 385, 1: 770, 2: 385, 3: 385, 4: 385})"
            ]
          },
          "metadata": {
            "tags": []
          },
          "execution_count": 8
        }
      ]
    },
    {
      "cell_type": "markdown",
      "metadata": {
        "id": "QYVPsCOO9XxW"
      },
      "source": [
        "# generate binary labels"
      ]
    },
    {
      "cell_type": "code",
      "metadata": {
        "colab": {
          "base_uri": "https://localhost:8080/"
        },
        "id": "gz5sXYCtthRM",
        "outputId": "8b7d4db7-949d-4daa-d5a2-e702f2aa6d2f"
      },
      "source": [
        "labels = np.where(labels == 0, 1, labels)\n",
        "\n",
        "labels = np.where(((labels == 2)|(labels ==3)|(labels ==4)), 0, labels)\n",
        "print(labels)"
      ],
      "execution_count": null,
      "outputs": [
        {
          "output_type": "stream",
          "text": [
            "[1 1 1 ... 0 0 0]\n"
          ],
          "name": "stdout"
        }
      ]
    },
    {
      "cell_type": "markdown",
      "metadata": {
        "id": "NdQ3uVZf-lOe"
      },
      "source": [
        "# balanced dataset"
      ]
    },
    {
      "cell_type": "code",
      "metadata": {
        "colab": {
          "base_uri": "https://localhost:8080/"
        },
        "id": "WRh9G-zA-gY2",
        "outputId": "3be69acb-4b81-40fa-c212-ef5ea24b740c"
      },
      "source": [
        "from collections import Counter\n",
        "label_count = Counter(labels)\n",
        "label_count"
      ],
      "execution_count": null,
      "outputs": [
        {
          "output_type": "execute_result",
          "data": {
            "text/plain": [
              "Counter({0: 1155, 1: 1155})"
            ]
          },
          "metadata": {
            "tags": []
          },
          "execution_count": 10
        }
      ]
    },
    {
      "cell_type": "markdown",
      "metadata": {
        "id": "E0V-7_K39fjp"
      },
      "source": [
        "# data prepare: transpose"
      ]
    },
    {
      "cell_type": "code",
      "metadata": {
        "colab": {
          "base_uri": "https://localhost:8080/"
        },
        "id": "AsJhcYagjxre",
        "outputId": "a2e4483a-86e2-4a7b-a387-feeab45f1782"
      },
      "source": [
        "inputs = inputs.transpose(0,2,1)\n",
        "inputs.shape"
      ],
      "execution_count": null,
      "outputs": [
        {
          "output_type": "execute_result",
          "data": {
            "text/plain": [
              "(2310, 33, 60)"
            ]
          },
          "metadata": {
            "tags": []
          },
          "execution_count": 11
        }
      ]
    },
    {
      "cell_type": "markdown",
      "metadata": {
        "id": "tHl1UGIp-Joi"
      },
      "source": [
        "# feature selection for univariate time sereies classification"
      ]
    },
    {
      "cell_type": "code",
      "metadata": {
        "id": "SJGFZOfEyMjl"
      },
      "source": [
        "#return the i-th feature as input \n",
        "def feature_select(input,i):\n",
        "  feature = input[:,i,:]\n",
        "  feature = feature.reshape(feature.shape[0],1,feature.shape[1])\n",
        "  return feature"
      ],
      "execution_count": null,
      "outputs": []
    },
    {
      "cell_type": "markdown",
      "metadata": {
        "id": "bLpA7o2Q-QLY"
      },
      "source": [
        "# train, test split and z-normalize"
      ]
    },
    {
      "cell_type": "code",
      "metadata": {
        "id": "6PlNqhCUzWAG"
      },
      "source": [
        "#train_test split and normalize\n",
        "def data_prepare(inputs, labels):\n",
        "  X_train, X_test, y_train, y_test = train_test_split(inputs, labels, random_state=42)\n",
        "  X_train_mean = X_train.mean()\n",
        "  X_train_std = X_train.std()\n",
        "  X_train = (X_train - X_train_mean)/X_train_std\n",
        "  X_test = (X_test - X_train_mean)/X_train_std\n",
        "  return X_train, X_test, y_train, y_test\n"
      ],
      "execution_count": null,
      "outputs": []
    },
    {
      "cell_type": "code",
      "metadata": {
        "colab": {
          "base_uri": "https://localhost:8080/"
        },
        "id": "G-gk7OA1MFEm",
        "outputId": "1c0ca9c4-3cb9-4efd-8c13-37ea3f47ba36"
      },
      "source": [
        "! pip install sktime"
      ],
      "execution_count": null,
      "outputs": [
        {
          "output_type": "stream",
          "text": [
            "Requirement already satisfied: sktime in /usr/local/lib/python3.7/dist-packages (0.6.0)\n",
            "Requirement already satisfied: numba>=0.50 in /usr/local/lib/python3.7/dist-packages (from sktime) (0.51.2)\n",
            "Requirement already satisfied: statsmodels>=0.12.1 in /usr/local/lib/python3.7/dist-packages (from sktime) (0.12.2)\n",
            "Requirement already satisfied: scikit-learn>=0.24.0 in /usr/local/lib/python3.7/dist-packages (from sktime) (0.24.2)\n",
            "Requirement already satisfied: pandas>=1.1.0 in /usr/local/lib/python3.7/dist-packages (from sktime) (1.1.5)\n",
            "Requirement already satisfied: numpy>=1.19.0 in /usr/local/lib/python3.7/dist-packages (from sktime) (1.19.5)\n",
            "Requirement already satisfied: wheel in /usr/local/lib/python3.7/dist-packages (from sktime) (0.36.2)\n",
            "Requirement already satisfied: llvmlite<0.35,>=0.34.0.dev0 in /usr/local/lib/python3.7/dist-packages (from numba>=0.50->sktime) (0.34.0)\n",
            "Requirement already satisfied: setuptools in /usr/local/lib/python3.7/dist-packages (from numba>=0.50->sktime) (56.0.0)\n",
            "Requirement already satisfied: scipy>=1.1 in /usr/local/lib/python3.7/dist-packages (from statsmodels>=0.12.1->sktime) (1.4.1)\n",
            "Requirement already satisfied: patsy>=0.5 in /usr/local/lib/python3.7/dist-packages (from statsmodels>=0.12.1->sktime) (0.5.1)\n",
            "Requirement already satisfied: joblib>=0.11 in /usr/local/lib/python3.7/dist-packages (from scikit-learn>=0.24.0->sktime) (1.0.1)\n",
            "Requirement already satisfied: threadpoolctl>=2.0.0 in /usr/local/lib/python3.7/dist-packages (from scikit-learn>=0.24.0->sktime) (2.1.0)\n",
            "Requirement already satisfied: pytz>=2017.2 in /usr/local/lib/python3.7/dist-packages (from pandas>=1.1.0->sktime) (2018.9)\n",
            "Requirement already satisfied: python-dateutil>=2.7.3 in /usr/local/lib/python3.7/dist-packages (from pandas>=1.1.0->sktime) (2.8.1)\n",
            "Requirement already satisfied: six in /usr/local/lib/python3.7/dist-packages (from patsy>=0.5->statsmodels>=0.12.1->sktime) (1.15.0)\n"
          ],
          "name": "stdout"
        }
      ]
    },
    {
      "cell_type": "markdown",
      "metadata": {
        "id": "ZbrSDYD5z_gu"
      },
      "source": [
        "\n",
        "\n",
        "#1-NN with DTW univariate (check the micro f1 score)"
      ]
    },
    {
      "cell_type": "code",
      "metadata": {
        "colab": {
          "base_uri": "https://localhost:8080/"
        },
        "id": "MiEPZFO89PZk",
        "outputId": "c27d9967-e32f-437a-8907-e638ac478570"
      },
      "source": [
        "from sktime.classification.distance_based import KNeighborsTimeSeriesClassifier\n",
        "knn = KNeighborsTimeSeriesClassifier(n_neighbors=1, distance=\"dtw\")\n",
        "f1 = []\n",
        "for i in range(33):\n",
        "  data = feature_select(inputs,i)\n",
        "  X_train, X_test, y_train, y_test = data_prepare(data, labels)\n",
        "  knn.fit(X_train, y_train)\n",
        "  y_pred = knn.predict(X_test)\n",
        "  f1.append(f1_score(y_test, y_pred,average='micro'))\n",
        "print(f1)"
      ],
      "execution_count": null,
      "outputs": [
        {
          "output_type": "stream",
          "text": [
            "[0.8010380622837369, 0.828719723183391, 0.8166089965397924, 0.8079584775086506, 0.8685121107266437, 0.842560553633218, 0.7993079584775086, 0.8062283737024222, 0.7560553633217992, 0.745674740484429, 0.745674740484429, 0.7214532871972318, 0.740484429065744, 0.6920415224913494, 0.6920415224913494, 0.6868512110726643, 0.7629757785467128, 0.8166089965397924, 0.7370242214532872, 0.735294117647059, 0.8062283737024222, 0.7647058823529412, 0.7318339100346021, 0.8269896193771626, 0.8581314878892734, 0.8269896193771626, 0.8235294117647058, 0.486159169550173, 0.6262975778546713, 0.7214532871972318, 0.7024221453287197, 0.7647058823529412, 0.7231833910034602]\n"
          ],
          "name": "stdout"
        }
      ]
    },
    {
      "cell_type": "code",
      "metadata": {
        "id": "gK-S10uy2MPh"
      },
      "source": [
        "para_names = ['TOTUSJH','TOTBSQ','TOTPOT','TOTUSJZ','ABSNJZH','SAVNCPP','USFLUX','TOTFZ','MEANPOT','EPSZ','SHRGT45','MEANSHR','MEANGAM','MEANGBT','MEANGBZ','MEANGBH','MEANJZH','TOTFY','MEANJZD','MEANALP','TOTFX','EPSY','EPSX','R_VALUE','RBZ_VALUE','RBT_VALUE','RBP_VALUE','FDIM','BZ_FDIM','BT_FDIM','BP_FDIM','PIL_LEN','XR_MAX']"
      ],
      "execution_count": null,
      "outputs": []
    },
    {
      "cell_type": "markdown",
      "metadata": {
        "id": "mZ6oP3ZrFxyT"
      },
      "source": [
        "# show the Micro F1 in 1-NN with varying parameters to find important features(parameters)"
      ]
    },
    {
      "cell_type": "code",
      "metadata": {
        "id": "hwsAtSaD3rMf",
        "colab": {
          "base_uri": "https://localhost:8080/",
          "height": 369
        },
        "outputId": "aa812d14-6186-4f88-ceab-f74205c91ba7"
      },
      "source": [
        "keys_list = para_names\n",
        "values_list = f1\n",
        "zip_iterator = zip(para_names,f1)\n",
        "\n",
        "dictionary = dict(zip_iterator)\n",
        "\n",
        "print(dictionary)\n",
        "import matplotlib.pyplot as plt\n",
        "\n",
        "D = dictionary\n",
        "plt.bar(*zip(*D.items()))\n",
        "# You can specify a rotation for the tick labels in degrees or with keywords.\n",
        "plt.xticks(keys_list, rotation='vertical')\n",
        "plt.xticks(fontsize=8)\n",
        "plt.title('Micro F1 in 1-NN with varying parameters')\n",
        "plt.xlabel('parameters')\n",
        "plt.ylabel('Micro F1 score')\n",
        "plt.show()"
      ],
      "execution_count": null,
      "outputs": [
        {
          "output_type": "stream",
          "text": [
            "{'TOTUSJH': 0.8010380622837369, 'TOTBSQ': 0.828719723183391, 'TOTPOT': 0.8166089965397924, 'TOTUSJZ': 0.8079584775086506, 'ABSNJZH': 0.8685121107266437, 'SAVNCPP': 0.842560553633218, 'USFLUX': 0.7993079584775086, 'TOTFZ': 0.8062283737024222, 'MEANPOT': 0.7560553633217992, 'EPSZ': 0.745674740484429, 'SHRGT45': 0.745674740484429, 'MEANSHR': 0.7214532871972318, 'MEANGAM': 0.740484429065744, 'MEANGBT': 0.6920415224913494, 'MEANGBZ': 0.6920415224913494, 'MEANGBH': 0.6868512110726643, 'MEANJZH': 0.7629757785467128, 'TOTFY': 0.8166089965397924, 'MEANJZD': 0.7370242214532872, 'MEANALP': 0.735294117647059, 'TOTFX': 0.8062283737024222, 'EPSY': 0.7647058823529412, 'EPSX': 0.7318339100346021, 'R_VALUE': 0.8269896193771626, 'RBZ_VALUE': 0.8581314878892734, 'RBT_VALUE': 0.8269896193771626, 'RBP_VALUE': 0.8235294117647058, 'FDIM': 0.486159169550173, 'BZ_FDIM': 0.6262975778546713, 'BT_FDIM': 0.7214532871972318, 'BP_FDIM': 0.7024221453287197, 'PIL_LEN': 0.7647058823529412, 'XR_MAX': 0.7231833910034602}\n"
          ],
          "name": "stdout"
        },
        {
          "output_type": "display_data",
          "data": {
            "image/png": "[encoded data removed]",
            "text/plain": [
              "<Figure size 432x288 with 1 Axes>"
            ]
          },
          "metadata": {
            "tags": [],
            "needs_background": "light"
          }
        }
      ]
    },
    {
      "cell_type": "markdown",
      "metadata": {
        "id": "SzO4Bnw-F-6s"
      },
      "source": [
        "# top 10 highest parameters that achieved highest Micro f1 score"
      ]
    },
    {
      "cell_type": "code",
      "metadata": {
        "id": "KsB9eoFK4_hA",
        "colab": {
          "base_uri": "https://localhost:8080/",
          "height": 381
        },
        "outputId": "5804b370-d4b2-4af7-951a-533d00f87811"
      },
      "source": [
        "from operator import itemgetter\n",
        "zip_iterator = zip(para_names,f1)\n",
        "dictionary = dict(zip_iterator)\n",
        "res = dict(sorted(dictionary.items(), key = itemgetter(1), reverse = True)[:10])\n",
        "print(res)\n",
        "\n",
        "import matplotlib.pyplot as plt\n",
        "\n",
        "D = res\n",
        "plt.bar(*zip(*D.items()))\n",
        "plt.xticks(rotation='vertical')\n",
        "plt.xticks(fontsize=10)\n",
        "plt.title('Micro F1 in 1-NN with varying parameters')\n",
        "plt.xlabel('parameters')\n",
        "plt.ylabel('Micro F1 score')\n",
        "plt.show()"
      ],
      "execution_count": null,
      "outputs": [
        {
          "output_type": "stream",
          "text": [
            "{'ABSNJZH': 0.8685121107266437, 'RBZ_VALUE': 0.8581314878892734, 'SAVNCPP': 0.842560553633218, 'TOTBSQ': 0.828719723183391, 'R_VALUE': 0.8269896193771626, 'RBT_VALUE': 0.8269896193771626, 'RBP_VALUE': 0.8235294117647058, 'TOTPOT': 0.8166089965397924, 'TOTFY': 0.8166089965397924, 'TOTUSJZ': 0.8079584775086506}\n"
          ],
          "name": "stdout"
        },
        {
          "output_type": "display_data",
          "data": {
            "image/png": "[encoded data removed]",
            "text/plain": [
              "<Figure size 432x288 with 1 Axes>"
            ]
          },
          "metadata": {
            "tags": [],
            "needs_background": "light"
          }
        }
      ]
    },
    {
      "cell_type": "markdown",
      "metadata": {
        "id": "ifof67RZGI4m"
      },
      "source": [
        "# get the index of top 10 important parameters"
      ]
    },
    {
      "cell_type": "code",
      "metadata": {
        "id": "H58LXqKynqD_",
        "colab": {
          "base_uri": "https://localhost:8080/"
        },
        "outputId": "5ebccf8a-cc7a-40f2-ee50-5a5f17ccbc44"
      },
      "source": [
        "para_nums = []\n",
        "for i in range(33):\n",
        "  para_nums.append(i)\n",
        "zip_iterator = zip(para_nums,f1)\n",
        "dictionary = dict(zip_iterator)\n",
        "res = dict(sorted(dictionary.items(), key = itemgetter(1), reverse = True)[:10])\n",
        "print(res)"
      ],
      "execution_count": null,
      "outputs": [
        {
          "output_type": "stream",
          "text": [
            "{4: 0.8685121107266437, 24: 0.8581314878892734, 5: 0.842560553633218, 1: 0.828719723183391, 23: 0.8269896193771626, 25: 0.8269896193771626, 26: 0.8235294117647058, 2: 0.8166089965397924, 17: 0.8166089965397924, 3: 0.8079584775086506}\n"
          ],
          "name": "stdout"
        }
      ]
    },
    {
      "cell_type": "code",
      "metadata": {
        "id": "CQd4hWBJs6lh",
        "colab": {
          "base_uri": "https://localhost:8080/"
        },
        "outputId": "4d85c81d-1cc2-4220-e2c4-1efb5467019d"
      },
      "source": [
        "keys = []\n",
        "for key in res:\n",
        "  keys.append(key)\n",
        "print(keys)"
      ],
      "execution_count": null,
      "outputs": [
        {
          "output_type": "stream",
          "text": [
            "[4, 24, 5, 1, 23, 25, 26, 2, 17, 3]\n"
          ],
          "name": "stdout"
        }
      ]
    },
    {
      "cell_type": "markdown",
      "metadata": {
        "id": "lgNd65dEFgJV"
      },
      "source": [
        "# select n features for multivariate time series classification"
      ]
    },
    {
      "cell_type": "code",
      "metadata": {
        "id": "PxoBteyd7aAP"
      },
      "source": [
        "#return the n_feature as input \n",
        "def feature_select_n(input,i):\n",
        "  feature = input[:,i,:]\n",
        "  return feature"
      ],
      "execution_count": null,
      "outputs": []
    },
    {
      "cell_type": "markdown",
      "metadata": {
        "id": "9Wj1L7R6wRDZ"
      },
      "source": [
        "# select top k features"
      ]
    },
    {
      "cell_type": "code",
      "metadata": {
        "id": "W3AQ7pEozoIx",
        "colab": {
          "base_uri": "https://localhost:8080/"
        },
        "outputId": "1f292901-0dfb-4dba-dc63-c2e1d2675e26"
      },
      "source": [
        "import time\n",
        "times = []\n",
        "top_k_accuracy = []\n",
        "top_k_f1 = []\n",
        "top_k_recall = []\n",
        "top_k_precision = []\n",
        "top_k_tss = []\n",
        "for i in range(1,len(keys)+1):\n",
        "  data = feature_select_n(inputs,keys[:i])\n",
        "  X_train, X_test, y_train, y_test = data_prepare(data, labels)\n",
        "  print(X_train.shape)\n",
        "  stime = time.time()\n",
        "  knn.fit(X_train, y_train)\n",
        "  y_pred = knn.predict(X_test)\n",
        "  time_consume = time.time() - stime\n",
        "  times.append(time_consume)\n",
        "  top_k_accuracy.append(accuracy_score(y_test,y_pred))\n",
        "  top_k_f1.append(f1_score(y_test, y_pred, average='micro'))\n",
        "  top_k_recall.append(recall_score(y_test, y_pred, average='micro'))\n",
        "  top_k_precision.append(precision_score(y_test, y_pred, average='micro'))\n",
        "  TN, FP, FN, TP = confusion_matrix(y_test, y_pred).ravel()\n",
        "  tss = (TP / (TP + FN)) - (FP / (FP + TN))\n",
        "  top_k_tss.append(tss)\n",
        "\n",
        "print(\"top_k_accuracy: \", top_k_accuracy) \n",
        "print(\"top_k_f1: \", top_k_f1)\n",
        "print(\"top_k_recall: \", top_k_recall)\n",
        "print(\"top_k_precision: \", top_k_precision)\n",
        "print(\"top_k_tss: \", top_k_tss)\n",
        "print(\"consumed time: \", times)"
      ],
      "execution_count": null,
      "outputs": [
        {
          "output_type": "stream",
          "text": [
            "(1732, 1, 60)\n",
            "(1732, 2, 60)\n",
            "(1732, 3, 60)\n",
            "(1732, 4, 60)\n",
            "(1732, 5, 60)\n",
            "(1732, 6, 60)\n",
            "(1732, 7, 60)\n",
            "(1732, 8, 60)\n",
            "(1732, 9, 60)\n",
            "(1732, 10, 60)\n",
            "top_k_accuracy:  [0.8685121107266436, 0.8667820069204152, 0.842560553633218, 0.842560553633218, 0.842560553633218, 0.842560553633218, 0.842560553633218, 0.8166089965397924, 0.884083044982699, 0.884083044982699]\n",
            "top_k_f1:  [0.8685121107266437, 0.8667820069204152, 0.842560553633218, 0.842560553633218, 0.842560553633218, 0.842560553633218, 0.842560553633218, 0.8166089965397924, 0.8840830449826991, 0.8840830449826991]\n",
            "top_k_recall:  [0.8685121107266436, 0.8667820069204152, 0.842560553633218, 0.842560553633218, 0.842560553633218, 0.842560553633218, 0.842560553633218, 0.8166089965397924, 0.884083044982699, 0.884083044982699]\n",
            "top_k_precision:  [0.8685121107266436, 0.8667820069204152, 0.842560553633218, 0.842560553633218, 0.842560553633218, 0.842560553633218, 0.842560553633218, 0.8166089965397924, 0.884083044982699, 0.884083044982699]\n",
            "top_k_tss:  [0.7362474088452736, 0.7330721209724769, 0.6844003498807769, 0.6844003498807769, 0.6844003498807769, 0.6844003498807769, 0.6844003498807769, 0.6348538768467594, 0.7715350419976754, 0.7715350419976754]\n",
            "consumed time:  [52.99052715301514, 67.75148129463196, 82.32367992401123, 93.04788970947266, 104.373610496521, 114.41237831115723, 123.13991355895996, 130.3975567817688, 139.1903657913208, 219.78388929367065]\n"
          ],
          "name": "stdout"
        }
      ]
    },
    {
      "cell_type": "code",
      "metadata": {
        "id": "LOHb_171b4gi",
        "colab": {
          "base_uri": "https://localhost:8080/",
          "height": 313
        },
        "outputId": "0bc6b628-8988-4a70-ecd1-42a4b9ad8266"
      },
      "source": [
        "x = [1,2,3,4,5,6,7,8,9,10]\n",
        "plt.title('train time based on 1-NN with varying # of features')\n",
        "plt.xlabel('# of features')\n",
        "plt.ylabel('train time')\n",
        "plt.plot(x,times)"
      ],
      "execution_count": null,
      "outputs": [
        {
          "output_type": "execute_result",
          "data": {
            "text/plain": [
              "[<matplotlib.lines.Line2D at 0x7f237bf6a610>]"
            ]
          },
          "metadata": {
            "tags": []
          },
          "execution_count": 23
        },
        {
          "output_type": "display_data",
          "data": {
            "image/png": "[encoded data removed]",
            "text/plain": [
              "<Figure size 432x288 with 1 Axes>"
            ]
          },
          "metadata": {
            "tags": [],
            "needs_background": "light"
          }
        }
      ]
    },
    {
      "cell_type": "code",
      "metadata": {
        "id": "gLF4f9T6VrnK",
        "colab": {
          "base_uri": "https://localhost:8080/",
          "height": 313
        },
        "outputId": "f07cd23b-cda0-46a8-ce8a-e39ba5ec6535"
      },
      "source": [
        "import numpy as np\n",
        "import matplotlib.pyplot as plt\n",
        "\n",
        "data = [top_k_accuracy,\n",
        "  top_k_f1,\n",
        "  top_k_precision,\n",
        "  top_k_recall,\n",
        "  top_k_tss]\n",
        "\n",
        "X = np.arange(1,11)\n",
        "plt.bar(X + 0.00, data[0], color = 'pink', width = 0.15)\n",
        "plt.bar(X + 0.15, data[1], color = 'plum', width = 0.15)\n",
        "plt.bar(X + 0.30, data[2], color = 'skyblue', width = 0.15)\n",
        "plt.bar(X + 0.45, data[3], color = 'bisque', width = 0.15)\n",
        "plt.bar(X + 0.60, data[4], color = 'lightblue', width = 0.15)\n",
        "plt.title('1-NN with varying # of features')\n",
        "plt.xlabel('# of features')\n",
        "plt.ylabel('performance')\n",
        "plt.legend([\"accuracy\", \"f1\", \"precision\", \"recall\",\"tss\"],bbox_to_anchor=(1.05, 1.0), loc='upper left')"
      ],
      "execution_count": null,
      "outputs": [
        {
          "output_type": "execute_result",
          "data": {
            "text/plain": [
              "<matplotlib.legend.Legend at 0x7f237bf40b50>"
            ]
          },
          "metadata": {
            "tags": []
          },
          "execution_count": 24
        },
        {
          "output_type": "display_data",
          "data": {
            "image/png": "[encoded data removed]",
            "text/plain": [
              "<Figure size 432x288 with 1 Axes>"
            ]
          },
          "metadata": {
            "tags": [],
            "needs_background": "light"
          }
        }
      ]
    },
    {
      "cell_type": "markdown",
      "metadata": {
        "id": "DMiaHn7KwKGD"
      },
      "source": [
        "# multivariate-interval based (Canonical Interval Forest (CIF))\n"
      ]
    },
    {
      "cell_type": "code",
      "metadata": {
        "colab": {
          "base_uri": "https://localhost:8080/"
        },
        "id": "MtNUSj624tsL",
        "outputId": "52b398a8-cf4e-470d-ff78-f4f6729c7f66"
      },
      "source": [
        "! pip install catch22"
      ],
      "execution_count": null,
      "outputs": [
        {
          "output_type": "stream",
          "text": [
            "Collecting catch22\n",
            "  Downloading https://files.pythonhosted.org/packages/2b/33/438e6e7c107dbf8b7f75631959acf17ed6da409e9a69c5eaf55c08d5930a/catch22-0.2.0.tar.gz\n",
            "Building wheels for collected packages: catch22\n",
            "  Building wheel for catch22 (setup.py) ... \u001b[?25l\u001b[?25hdone\n",
            "  Created wheel for catch22: filename=catch22-0.2.0-cp37-cp37m-linux_x86_64.whl size=91759 sha256=dcd03eef42c79e9851bbaeb922345079b238adc2cc52958dba69d3f87819cbe2\n",
            "  Stored in directory: /root/.cache/pip/wheels/48/f5/ea/0cda3b525b9735e55a967017abd66ce4275ce7c9cb29b35fa8\n",
            "Successfully built catch22\n",
            "Installing collected packages: catch22\n",
            "Successfully installed catch22-0.2.0\n"
          ],
          "name": "stdout"
        }
      ]
    },
    {
      "cell_type": "code",
      "metadata": {
        "id": "j7nZJFPpPEMU"
      },
      "source": [
        "from sktime.classification.interval_based._cif import CanonicalIntervalForest"
      ],
      "execution_count": null,
      "outputs": []
    },
    {
      "cell_type": "code",
      "metadata": {
        "id": "dPrbY3h5drqh",
        "colab": {
          "base_uri": "https://localhost:8080/"
        },
        "outputId": "036df9e8-d940-4642-f04f-2f487d3a46a1"
      },
      "source": [
        "import time\n",
        "times = []\n",
        "top_k_accuracy = []\n",
        "top_k_f1 = []\n",
        "top_k_recall = []\n",
        "top_k_precision = []\n",
        "top_k_tss = []\n",
        "for i in range(1,len(keys)+1):\n",
        "  data = feature_select_n(inputs,keys[:i])\n",
        "  X_train, X_test, y_train, y_test = data_prepare(data, labels)\n",
        "  print(X_train.shape)\n",
        "  stime = time.time()\n",
        "  cif_m = CanonicalIntervalForest(n_estimators=10, att_subsample_size=8, random_state=47)\n",
        "  cif_m.fit(X_train, y_train)\n",
        "  y_pred = cif_m.predict(X_test)\n",
        "  time_consume = time.time() - stime\n",
        "  times.append(time_consume)\n",
        "  top_k_accuracy.append(accuracy_score(y_test,y_pred))\n",
        "  top_k_f1.append(f1_score(y_test, y_pred, average='micro'))\n",
        "  top_k_recall.append(recall_score(y_test, y_pred, average='micro'))\n",
        "  top_k_precision.append(precision_score(y_test, y_pred, average='micro'))\n",
        "  TN, FP, FN, TP = confusion_matrix(y_test, y_pred).ravel()\n",
        "  tss = (TP / (TP + FN)) - (FP / (FP + TN))\n",
        "  top_k_tss.append(tss)\n",
        "\n",
        "print(\"top_k_accuracy: \", top_k_accuracy) \n",
        "print(\"top_k_f1: \", top_k_f1)\n",
        "print(\"top_k_recall: \", top_k_recall)\n",
        "print(\"top_k_precision: \", top_k_precision)\n",
        "print(\"top_k_tss: \", top_k_tss)\n",
        "print(\"consumed time: \", times)"
      ],
      "execution_count": null,
      "outputs": [
        {
          "output_type": "stream",
          "text": [
            "(1732, 1, 60)\n",
            "(1732, 2, 60)\n",
            "(1732, 3, 60)\n",
            "(1732, 4, 60)\n",
            "(1732, 5, 60)\n",
            "(1732, 6, 60)\n",
            "(1732, 7, 60)\n",
            "(1732, 8, 60)\n",
            "(1732, 9, 60)\n",
            "(1732, 10, 60)\n",
            "top_k_accuracy:  [0.8166089965397924, 0.8321799307958477, 0.8131487889273357, 0.8131487889273357, 0.7785467128027682, 0.7993079584775087, 0.8044982698961938, 0.7854671280276817, 0.7768166089965398, 0.7768166089965398]\n",
            "top_k_f1:  [0.8166089965397924, 0.8321799307958477, 0.8131487889273357, 0.8131487889273357, 0.7785467128027682, 0.7993079584775086, 0.8044982698961937, 0.7854671280276816, 0.7768166089965398, 0.7768166089965398]\n",
            "top_k_recall:  [0.8166089965397924, 0.8321799307958477, 0.8131487889273357, 0.8131487889273357, 0.7785467128027682, 0.7993079584775087, 0.8044982698961938, 0.7854671280276817, 0.7768166089965398, 0.7768166089965398]\n",
            "top_k_precision:  [0.8166089965397924, 0.8321799307958477, 0.8131487889273357, 0.8131487889273357, 0.7785467128027682, 0.7993079584775087, 0.8044982698961938, 0.7854671280276817, 0.7768166089965398, 0.7768166089965398]\n",
            "top_k_tss:  [0.6342787303641396, 0.6666906311034424, 0.6292701630779922, 0.6290784475837856, 0.5607798027726854, 0.6009921276825191, 0.611668284266149, 0.5727140922870461, 0.556454221934649, 0.5554956444636161]\n",
            "consumed time:  [6.320438861846924, 8.983862161636353, 11.427586555480957, 13.447006464004517, 14.172807693481445, 15.13756799697876, 17.012007474899292, 9.52669358253479, 12.001088619232178, 14.51328182220459]\n"
          ],
          "name": "stdout"
        }
      ]
    },
    {
      "cell_type": "code",
      "metadata": {
        "id": "8t-aHMDt6rQw"
      },
      "source": [
        "cif = [0.8322, 0.8322,0.8322, 0.8322, 0.6667, 8.9839]"
      ],
      "execution_count": null,
      "outputs": []
    },
    {
      "cell_type": "code",
      "metadata": {
        "id": "AyItw6MZfLPN",
        "colab": {
          "base_uri": "https://localhost:8080/",
          "height": 313
        },
        "outputId": "4d8503fb-5414-4528-af32-e8ac0c40588c"
      },
      "source": [
        "x = [1,2,3,4,5,6,7,8,9,10]\n",
        "plt.title('train time based on CIF with varying number of features')\n",
        "plt.xlabel('number of features')\n",
        "plt.ylabel('train time')\n",
        "plt.plot(x,times)"
      ],
      "execution_count": null,
      "outputs": [
        {
          "output_type": "execute_result",
          "data": {
            "text/plain": [
              "[<matplotlib.lines.Line2D at 0x7f237a9d5810>]"
            ]
          },
          "metadata": {
            "tags": []
          },
          "execution_count": 28
        },
        {
          "output_type": "display_data",
          "data": {
            "image/png": "[encoded data removed]",
            "text/plain": [
              "<Figure size 432x288 with 1 Axes>"
            ]
          },
          "metadata": {
            "tags": [],
            "needs_background": "light"
          }
        }
      ]
    },
    {
      "cell_type": "code",
      "metadata": {
        "id": "mV4ru2sMffWo",
        "colab": {
          "base_uri": "https://localhost:8080/",
          "height": 313
        },
        "outputId": "74ed8e9e-b36a-4a15-811e-3a69cb7c4df7"
      },
      "source": [
        "import numpy as np\n",
        "import matplotlib.pyplot as plt\n",
        "\n",
        "data = [top_k_accuracy,\n",
        "  top_k_f1,\n",
        "  top_k_precision,\n",
        "  top_k_recall,\n",
        "  top_k_tss]\n",
        "\n",
        "X = np.arange(1,11)\n",
        "plt.bar(X + 0.00, data[0], color = 'pink', width = 0.15)\n",
        "plt.bar(X + 0.15, data[1], color = 'plum', width = 0.15)\n",
        "plt.bar(X + 0.30, data[2], color = 'skyblue', width = 0.15)\n",
        "plt.bar(X + 0.45, data[3], color = 'bisque', width = 0.15)\n",
        "plt.bar(X + 0.60, data[4], color = 'lightblue', width = 0.15)\n",
        "plt.title('CIF with varying number of features')\n",
        "plt.xlabel('number of features')\n",
        "plt.ylabel('performance')\n",
        "plt.legend([\"accuracy\", \"f1\", \"precision\", \"recall\",\"tss\"],bbox_to_anchor=(1.05, 1.0), loc='upper left')"
      ],
      "execution_count": null,
      "outputs": [
        {
          "output_type": "execute_result",
          "data": {
            "text/plain": [
              "<matplotlib.legend.Legend at 0x7f237a8ea510>"
            ]
          },
          "metadata": {
            "tags": []
          },
          "execution_count": 29
        },
        {
          "output_type": "display_data",
          "data": {
            "image/png": "[encoded data removed]",
            "text/plain": [
              "<Figure size 432x288 with 1 Axes>"
            ]
          },
          "metadata": {
            "tags": [],
            "needs_background": "light"
          }
        }
      ]
    },
    {
      "cell_type": "markdown",
      "metadata": {
        "id": "Mh8mY-JywVgB"
      },
      "source": [
        "# Shaplet-based (Multiple representation sequence learner (MrSEQL))"
      ]
    },
    {
      "cell_type": "code",
      "metadata": {
        "colab": {
          "base_uri": "https://localhost:8080/"
        },
        "id": "QrjEO8P95DkU",
        "outputId": "be9d0100-aa37-494c-b92e-128fc9c182c4"
      },
      "source": [
        "from sktime.classification.shapelet_based import MrSEQLClassifier"
      ],
      "execution_count": null,
      "outputs": [
        {
          "output_type": "stream",
          "text": [
            "/usr/local/lib/python3.7/dist-packages/numba/np/ufunc/parallel.py:363: NumbaWarning: The TBB threading layer requires TBB version 2019.5 or later i.e., TBB_INTERFACE_VERSION >= 11005. Found TBB_INTERFACE_VERSION = 9107. The TBB threading layer is disabled.\n",
            "  warnings.warn(problem)\n"
          ],
          "name": "stderr"
        }
      ]
    },
    {
      "cell_type": "code",
      "metadata": {
        "id": "ar6vLK8KeXJt",
        "colab": {
          "base_uri": "https://localhost:8080/"
        },
        "outputId": "17f317bb-b071-4e4a-d30f-2d38455d8085"
      },
      "source": [
        "import time\n",
        "times = []\n",
        "top_k_accuracy = []\n",
        "top_k_f1 = []\n",
        "top_k_recall = []\n",
        "top_k_precision = []\n",
        "top_k_tss = []\n",
        "for i in range(1,len(keys)+1):\n",
        "  data = feature_select_n(inputs,keys[:i])\n",
        "  X_train, X_test, y_train, y_test = data_prepare(data, labels)\n",
        "  print(X_train.shape)\n",
        "  stime = time.time()\n",
        "  MrSEQL = MrSEQLClassifier()\n",
        "  MrSEQL.fit(X_train, y_train)\n",
        "  y_pred = MrSEQL.predict(X_test)\n",
        "  time_consume = time.time() - stime\n",
        "  times.append(time_consume)\n",
        "  top_k_accuracy.append(accuracy_score(y_test,y_pred))\n",
        "  top_k_f1.append(f1_score(y_test, y_pred, average='micro'))\n",
        "  top_k_recall.append(recall_score(y_test, y_pred, average='micro'))\n",
        "  top_k_precision.append(precision_score(y_test, y_pred, average='micro'))\n",
        "  TN, FP, FN, TP = confusion_matrix(y_test, y_pred).ravel()\n",
        "  tss = (TP / (TP + FN)) - (FP / (FP + TN))\n",
        "  top_k_tss.append(tss)\n",
        "\n",
        "print(\"top_k_accuracy: \", top_k_accuracy) \n",
        "print(\"top_k_f1: \", top_k_f1)\n",
        "print(\"top_k_recall: \", top_k_recall)\n",
        "print(\"top_k_precision: \", top_k_precision)\n",
        "print(\"top_k_tss: \", top_k_tss)\n",
        "print(\"consumed time: \", times)"
      ],
      "execution_count": null,
      "outputs": [
        {
          "output_type": "stream",
          "text": [
            "(1732, 1, 60)\n",
            "(1732, 2, 60)\n",
            "(1732, 3, 60)\n",
            "(1732, 4, 60)\n",
            "(1732, 5, 60)\n",
            "(1732, 6, 60)\n",
            "(1732, 7, 60)\n",
            "(1732, 8, 60)\n",
            "(1732, 9, 60)\n",
            "(1732, 10, 60)\n",
            "top_k_accuracy:  [0.754325259515571, 0.8235294117647058, 0.7681660899653979, 0.801038062283737, 0.8131487889273357, 0.8166089965397924, 0.8269896193771626, 0.801038062283737, 0.7958477508650519, 0.8062283737024222]\n",
            "top_k_f1:  [0.754325259515571, 0.8235294117647058, 0.7681660899653979, 0.8010380622837369, 0.8131487889273357, 0.8166089965397924, 0.8269896193771626, 0.8010380622837369, 0.7958477508650519, 0.8062283737024222]\n",
            "top_k_recall:  [0.754325259515571, 0.8235294117647058, 0.7681660899653979, 0.801038062283737, 0.8131487889273357, 0.8166089965397924, 0.8269896193771626, 0.801038062283737, 0.7958477508650519, 0.8062283737024222]\n",
            "top_k_precision:  [0.754325259515571, 0.8235294117647058, 0.7681660899653979, 0.801038062283737, 0.8131487889273357, 0.8166089965397924, 0.8269896193771626, 0.801038062283737, 0.7958477508650519, 0.8062283737024222]\n",
            "top_k_tss:  [0.5101908767389195, 0.6479384593263596, 0.5357848952155002, 0.6034005535784895, 0.627928154618546, 0.634087014869933, 0.6546724660603664, 0.6028254070958697, 0.593491258971686, 0.6131181326910864]\n",
            "consumed time:  [208.44615268707275, 390.567156791687, 528.3829243183136, 760.1017646789551, 908.5526235103607, 1076.192656993866, 1277.910833120346, 518.4481303691864, 829.155987739563, 1004.9122154712677]\n"
          ],
          "name": "stdout"
        }
      ]
    },
    {
      "cell_type": "code",
      "metadata": {
        "id": "gUrUrxOK7AYB"
      },
      "source": [
        "mrseql = [0.8235, 0.8235, 0.8235, 0.8235, 0.6479, 390]"
      ],
      "execution_count": null,
      "outputs": []
    },
    {
      "cell_type": "code",
      "metadata": {
        "id": "uMpEbXwqCFFN",
        "colab": {
          "base_uri": "https://localhost:8080/",
          "height": 313
        },
        "outputId": "ff601deb-6fcc-4ffc-d880-b7a733e04321"
      },
      "source": [
        "x = [1,2,3,4,5,6,7,8,9,10]\n",
        "plt.title('train time based on MrSEQL with varying number of features')\n",
        "plt.xlabel('number of features')\n",
        "plt.ylabel('train time')\n",
        "plt.plot(x,times)"
      ],
      "execution_count": null,
      "outputs": [
        {
          "output_type": "execute_result",
          "data": {
            "text/plain": [
              "[<matplotlib.lines.Line2D at 0x7f23788238d0>]"
            ]
          },
          "metadata": {
            "tags": []
          },
          "execution_count": 32
        },
        {
          "output_type": "display_data",
          "data": {
            "image/png": "[encoded data removed]",
            "text/plain": [
              "<Figure size 432x288 with 1 Axes>"
            ]
          },
          "metadata": {
            "tags": [],
            "needs_background": "light"
          }
        }
      ]
    },
    {
      "cell_type": "code",
      "metadata": {
        "id": "tmbtcpx-CUg9",
        "colab": {
          "base_uri": "https://localhost:8080/",
          "height": 313
        },
        "outputId": "1211e9a3-9cfd-4593-b579-0023bcd9178f"
      },
      "source": [
        "import numpy as np\n",
        "import matplotlib.pyplot as plt\n",
        "\n",
        "data = [top_k_accuracy,\n",
        "  top_k_f1,\n",
        "  top_k_precision,\n",
        "  top_k_recall,\n",
        "  top_k_tss]\n",
        "\n",
        "X = np.arange(1,11)\n",
        "plt.bar(X + 0.00, data[0], color = 'pink', width = 0.15)\n",
        "plt.bar(X + 0.15, data[1], color = 'plum', width = 0.15)\n",
        "plt.bar(X + 0.30, data[2], color = 'skyblue', width = 0.15)\n",
        "plt.bar(X + 0.45, data[3], color = 'bisque', width = 0.15)\n",
        "plt.bar(X + 0.60, data[4], color = 'lightblue', width = 0.15)\n",
        "plt.title('MrSEQL with varying number of features')\n",
        "plt.xlabel('number of features')\n",
        "plt.ylabel('performance')\n",
        "plt.legend([\"accuracy\", \"f1\", \"precision\", \"recall\",\"tss\"],bbox_to_anchor=(1.05, 1.0), loc='upper left')"
      ],
      "execution_count": null,
      "outputs": [
        {
          "output_type": "execute_result",
          "data": {
            "text/plain": [
              "<matplotlib.legend.Legend at 0x7f2377900550>"
            ]
          },
          "metadata": {
            "tags": []
          },
          "execution_count": 33
        },
        {
          "output_type": "display_data",
          "data": {
            "image/png": "[encoded data removed]",
            "text/plain": [
              "<Figure size 432x288 with 1 Axes>"
            ]
          },
          "metadata": {
            "tags": [],
            "needs_background": "light"
          }
        }
      ]
    },
    {
      "cell_type": "markdown",
      "metadata": {
        "id": "siEu6fV0wgNZ"
      },
      "source": [
        "# Dictionat-based (Word extraction for time series classification + Multivariate Unsupervised symbols and Derivatives (WEASEL + MUSE ))"
      ]
    },
    {
      "cell_type": "code",
      "metadata": {
        "id": "hqpk3dR7eg_J"
      },
      "source": [
        "from sktime.classification.dictionary_based import MUSE, WEASEL"
      ],
      "execution_count": null,
      "outputs": []
    },
    {
      "cell_type": "code",
      "metadata": {
        "id": "TaOeeLpNQFWb",
        "colab": {
          "base_uri": "https://localhost:8080/"
        },
        "outputId": "60b88074-8463-467e-c81b-cf9651cf929f"
      },
      "source": [
        "import time\n",
        "times = []\n",
        "top_k_accuracy = []\n",
        "top_k_f1 = []\n",
        "top_k_recall = []\n",
        "top_k_precision = []\n",
        "top_k_tss = []\n",
        "data = feature_select(inputs,4)\n",
        "X_train, X_test, y_train, y_test = data_prepare(data, labels)\n",
        "print(X_train.shape)\n",
        "stime = time.time()\n",
        "weasel = WEASEL(binning_strategy=\"equi-depth\", anova=False, random_state=47)\n",
        "weasel.fit(X_train, y_train)\n",
        "y_pred = weasel.predict(X_test)\n",
        "time_consume = time.time() - stime\n",
        "times.append(time_consume)\n",
        "top_k_accuracy.append(accuracy_score(y_test,y_pred))\n",
        "top_k_f1.append(f1_score(y_test, y_pred, average='micro'))\n",
        "top_k_recall.append(recall_score(y_test, y_pred, average='micro'))\n",
        "top_k_precision.append(precision_score(y_test, y_pred, average='micro'))\n",
        "TN, FP, FN, TP = confusion_matrix(y_test, y_pred).ravel()\n",
        "tss = (TP / (TP + FN)) - (FP / (FP + TN))\n",
        "top_k_tss.append(tss)\n",
        "\n",
        "print(\"top_k_accuracy: \", top_k_accuracy) \n",
        "print(\"top_k_f1: \", top_k_f1)\n",
        "print(\"top_k_recall: \", top_k_recall)\n",
        "print(\"top_k_precision: \", top_k_precision)\n",
        "print(\"top_k_tss: \", top_k_tss)\n",
        "print(\"consumed time: \", times)"
      ],
      "execution_count": null,
      "outputs": [
        {
          "output_type": "stream",
          "text": [
            "(1732, 1, 60)\n",
            "top_k_accuracy:  [0.870242214532872]\n",
            "top_k_f1:  [0.8702422145328719]\n",
            "top_k_recall:  [0.870242214532872]\n",
            "top_k_precision:  [0.870242214532872]\n",
            "top_k_tss:  [0.7426818601195825]\n",
            "consumed time:  [82.5601167678833]\n"
          ],
          "name": "stdout"
        }
      ]
    },
    {
      "cell_type": "code",
      "metadata": {
        "id": "Wuoqyf5Ngbyy",
        "colab": {
          "base_uri": "https://localhost:8080/"
        },
        "outputId": "f31abf02-c8ca-49c4-873d-c381573a3509"
      },
      "source": [
        "import time\n",
        "for i in range(2,len(keys)+1):\n",
        "  data = feature_select_n(inputs,keys[:i])\n",
        "  X_train, X_test, y_train, y_test = data_prepare(data, labels)\n",
        "  print(X_train.shape)\n",
        "  stime = time.time()\n",
        "  muse = MUSE()\n",
        "  muse.fit(X_train, y_train)\n",
        "  y_pred = muse.predict(X_test)\n",
        "  time_consume = time.time() - stime\n",
        "  times.append(time_consume)\n",
        "  top_k_accuracy.append(accuracy_score(y_test,y_pred))\n",
        "  top_k_f1.append(f1_score(y_test, y_pred, average='micro'))\n",
        "  top_k_recall.append(recall_score(y_test, y_pred, average='micro'))\n",
        "  top_k_precision.append(precision_score(y_test, y_pred, average='micro'))\n",
        "  TN, FP, FN, TP = confusion_matrix(y_test, y_pred).ravel()\n",
        "  tss = (TP / (TP + FN)) - (FP / (FP + TN))\n",
        "  top_k_tss.append(tss)\n",
        "\n",
        "print(\"top_k_accuracy: \", top_k_accuracy) \n",
        "print(\"top_k_f1: \", top_k_f1)\n",
        "print(\"top_k_recall: \", top_k_recall)\n",
        "print(\"top_k_precision: \", top_k_precision)\n",
        "print(\"top_k_tss: \", top_k_tss)\n",
        "print(\"consumed time: \", times)"
      ],
      "execution_count": null,
      "outputs": [
        {
          "output_type": "stream",
          "text": [
            "(1732, 2, 60)\n",
            "(1732, 3, 60)\n",
            "(1732, 4, 60)\n",
            "(1732, 5, 60)\n",
            "(1732, 6, 60)\n",
            "(1732, 7, 60)\n",
            "(1732, 8, 60)\n",
            "(1732, 9, 60)\n",
            "(1732, 10, 60)\n",
            "top_k_accuracy:  [0.870242214532872, 0.8927335640138409, 0.8442906574394463, 0.8581314878892734, 0.8598615916955017, 0.8477508650519031, 0.842560553633218, 0.8114186851211073, 0.8269896193771626, 0.8321799307958477]\n",
            "top_k_f1:  [0.8702422145328719, 0.8927335640138409, 0.8442906574394463, 0.8581314878892734, 0.8598615916955017, 0.8477508650519031, 0.842560553633218, 0.8114186851211074, 0.8269896193771626, 0.8321799307958477]\n",
            "top_k_recall:  [0.870242214532872, 0.8927335640138409, 0.8442906574394463, 0.8581314878892734, 0.8598615916955017, 0.8477508650519031, 0.842560553633218, 0.8114186851211073, 0.8269896193771626, 0.8321799307958477]\n",
            "top_k_precision:  [0.870242214532872, 0.8927335640138409, 0.8442906574394463, 0.8581314878892734, 0.8598615916955017, 0.8477508650519031, 0.842560553633218, 0.8114186851211073, 0.8269896193771626, 0.8321799307958477]\n",
            "top_k_tss:  [0.7426818601195825, 0.7870280503732461, 0.6935188180739782, 0.7154702421606336, 0.721712977940736, 0.699294247336952, 0.6872760822938759, 0.6237942892747164, 0.6546724660603664, 0.6657320536324095]\n",
            "consumed time:  [82.5601167678833, 349.0064091682434, 456.3983428478241, 618.5790843963623, 753.4045450687408, 882.3319342136383, 1009.4188587665558, 1065.585221529007, 1236.1445808410645, 1399.0136740207672]\n"
          ],
          "name": "stdout"
        }
      ]
    },
    {
      "cell_type": "code",
      "metadata": {
        "id": "PJYBlYg87WxG"
      },
      "source": [
        "weasel_muse =[0.8927, 0.8927, 0.8927, 0.8927, 0.7870, 349]"
      ],
      "execution_count": null,
      "outputs": []
    },
    {
      "cell_type": "code",
      "metadata": {
        "id": "9sYJR9XIbnZU",
        "colab": {
          "base_uri": "https://localhost:8080/",
          "height": 312
        },
        "outputId": "369f0e60-b4a7-4ad7-adf2-ae1ba0d3ea15"
      },
      "source": [
        "x = [1,2,3,4,5,6,7,8,9,10]\n",
        "plt.title('train time based on WEASEL + MUSE  with varying number of features')\n",
        "plt.xlabel('number of features')\n",
        "plt.ylabel('train time')\n",
        "plt.plot(x,times)"
      ],
      "execution_count": null,
      "outputs": [
        {
          "output_type": "execute_result",
          "data": {
            "text/plain": [
              "[<matplotlib.lines.Line2D at 0x7f235ff81a10>]"
            ]
          },
          "metadata": {
            "tags": []
          },
          "execution_count": 51
        },
        {
          "output_type": "display_data",
          "data": {
            "image/png": "[encoded data removed]",
            "text/plain": [
              "<Figure size 432x288 with 1 Axes>"
            ]
          },
          "metadata": {
            "tags": [],
            "needs_background": "light"
          }
        }
      ]
    },
    {
      "cell_type": "code",
      "metadata": {
        "id": "Q-HYOwitbxW8",
        "colab": {
          "base_uri": "https://localhost:8080/",
          "height": 313
        },
        "outputId": "5dac927c-7c2c-4c5e-dd2f-cd51f8b01ba8"
      },
      "source": [
        "import numpy as np\n",
        "import matplotlib.pyplot as plt\n",
        "\n",
        "data = [top_k_accuracy,\n",
        "  top_k_f1,\n",
        "  top_k_precision,\n",
        "  top_k_recall,\n",
        "  top_k_tss]\n",
        "\n",
        "X = np.arange(1,11)\n",
        "plt.bar(X + 0.00, data[0], color = 'pink', width = 0.15)\n",
        "plt.bar(X + 0.15, data[1], color = 'plum', width = 0.15)\n",
        "plt.bar(X + 0.30, data[2], color = 'skyblue', width = 0.15)\n",
        "plt.bar(X + 0.45, data[3], color = 'bisque', width = 0.15)\n",
        "plt.bar(X + 0.60, data[4], color = 'lightblue', width = 0.15)\n",
        "plt.title('WEASEL + MUSE with varying number of features')\n",
        "plt.xlabel('number of features')\n",
        "plt.ylabel('performance')\n",
        "plt.legend([\"accuracy\", \"f1\", \"precision\", \"recall\",\"tss\"],bbox_to_anchor=(1.05, 1.0), loc='upper left')"
      ],
      "execution_count": null,
      "outputs": [
        {
          "output_type": "execute_result",
          "data": {
            "text/plain": [
              "<matplotlib.legend.Legend at 0x7f2377f88490>"
            ]
          },
          "metadata": {
            "tags": []
          },
          "execution_count": 38
        },
        {
          "output_type": "display_data",
          "data": {
            "image/png": "[encoded data removed]",
            "text/plain": [
              "<Figure size 432x288 with 1 Axes>"
            ]
          },
          "metadata": {
            "tags": [],
            "needs_background": "light"
          }
        }
      ]
    },
    {
      "cell_type": "code",
      "metadata": {
        "colab": {
          "base_uri": "https://localhost:8080/"
        },
        "id": "gwVrxMQt8Nhs",
        "outputId": "ff7d1a75-3864-4179-a86b-3aab836329fa"
      },
      "source": [
        "cif"
      ],
      "execution_count": null,
      "outputs": [
        {
          "output_type": "execute_result",
          "data": {
            "text/plain": [
              "[0.8322, 0.8322, 0.8322, 0.8322, 0.6667, 8.9839]"
            ]
          },
          "metadata": {
            "tags": []
          },
          "execution_count": 43
        }
      ]
    },
    {
      "cell_type": "code",
      "metadata": {
        "colab": {
          "base_uri": "https://localhost:8080/"
        },
        "id": "ORHmuHiN8O0k",
        "outputId": "f425e7da-a279-4d6c-b7de-b78d9d93b70f"
      },
      "source": [
        "mrseql"
      ],
      "execution_count": null,
      "outputs": [
        {
          "output_type": "execute_result",
          "data": {
            "text/plain": [
              "[0.8235, 0.8235, 0.8235, 0.8235, 0.6479, 390]"
            ]
          },
          "metadata": {
            "tags": []
          },
          "execution_count": 49
        }
      ]
    },
    {
      "cell_type": "code",
      "metadata": {
        "colab": {
          "base_uri": "https://localhost:8080/"
        },
        "id": "_pX_dZVj8Qc9",
        "outputId": "92cb1df4-2d7f-429d-bc19-3ec5cf2a830e"
      },
      "source": [
        "weasel_muse"
      ],
      "execution_count": null,
      "outputs": [
        {
          "output_type": "execute_result",
          "data": {
            "text/plain": [
              "[0.8927, 0.8927, 0.8927, 0.8927, 0.787, 349]"
            ]
          },
          "metadata": {
            "tags": []
          },
          "execution_count": 47
        }
      ]
    },
    {
      "cell_type": "code",
      "metadata": {
        "id": "U3BDUQOp8ZN7"
      },
      "source": [
        "accuracy = [0.8322, 0.8235, 0.8927]\n",
        "precision = [0.8322, 0.8235, 0.8927]\n",
        "recall = [0.8322, 0.8235, 0.8927]\n",
        "f1 = [0.8322, 0.8235, 0.8927]\n",
        "tss = [0.6667, 0.6479, 0.787]\n",
        "time = [8.9839, 390, 349]"
      ],
      "execution_count": null,
      "outputs": []
    },
    {
      "cell_type": "code",
      "metadata": {
        "colab": {
          "base_uri": "https://localhost:8080/",
          "height": 312
        },
        "id": "yJcXYrMG7l7b",
        "outputId": "2b3723f8-6c07-4c8b-d714-2c38eb73515c"
      },
      "source": [
        "import numpy as np\n",
        "import matplotlib.pyplot as plt\n",
        "\n",
        "data = [accuracy,\n",
        "  precision,\n",
        "  recall,\n",
        "  f1,\n",
        "  tss,\n",
        "  time]\n",
        "\n",
        "X = np.arange(1,4)\n",
        "plt.bar(X + 0.00, data[0], color = 'pink', width = 0.15)\n",
        "plt.bar(X + 0.15, data[1], color = 'plum', width = 0.15)\n",
        "plt.bar(X + 0.30, data[2], color = 'skyblue', width = 0.15)\n",
        "plt.bar(X + 0.45, data[3], color = 'bisque', width = 0.15)\n",
        "plt.bar(X + 0.60, data[4], color = 'lightblue', width = 0.15)\n",
        "# plt.bar(X + 0.75, data[5], color = 'black', width = 0.15)\n",
        "\n",
        "plt.title('Performances comparison')\n",
        "plt.xlabel(\"        CIF        MrSEQL        MUSE\")\n",
        "plt.ylabel('performance')\n",
        "plt.legend([\"accuracy\", \"f1\", \"precision\", \"recall\",\"tss\"],bbox_to_anchor=(1.05, 1.0), loc='upper left')"
      ],
      "execution_count": null,
      "outputs": [
        {
          "output_type": "execute_result",
          "data": {
            "text/plain": [
              "<matplotlib.legend.Legend at 0x7f236b68f510>"
            ]
          },
          "metadata": {
            "tags": []
          },
          "execution_count": 61
        },
        {
          "output_type": "display_data",
          "data": {
            "image/png": "[encoded data removed]",
            "text/plain": [
              "<Figure size 432x288 with 1 Axes>"
            ]
          },
          "metadata": {
            "tags": [],
            "needs_background": "light"
          }
        }
      ]
    },
    {
      "cell_type": "code",
      "metadata": {
        "colab": {
          "base_uri": "https://localhost:8080/",
          "height": 298
        },
        "id": "RhGaA9IVDwtc",
        "outputId": "03a9294f-30b1-4dfa-f346-88f8efe16f84"
      },
      "source": [
        "time = [8.9839, 390, 349]\n",
        "x = [0,1,2]\n",
        "plt.bar(x,time)\n",
        "plt.title(\"traing time comparison\")\n",
        "plt.ylabel(\"training time\")"
      ],
      "execution_count": null,
      "outputs": [
        {
          "output_type": "execute_result",
          "data": {
            "text/plain": [
              "Text(0, 0.5, 'training time')"
            ]
          },
          "metadata": {
            "tags": []
          },
          "execution_count": 66
        },
        {
          "output_type": "display_data",
          "data": {
            "image/png": "[encoded data removed]",
            "text/plain": [
              "<Figure size 432x288 with 1 Axes>"
            ]
          },
          "metadata": {
            "tags": [],
            "needs_background": "light"
          }
        }
      ]
    }
  ]
}