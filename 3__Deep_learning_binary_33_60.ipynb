{
  "nbformat": 4,
  "nbformat_minor": 0,
  "metadata": {
    "colab": {
      "name": "3_ Deep learning_binary_33*60.ipynb",
      "provenance": [],
      "collapsed_sections": []
    },
    "kernelspec": {
      "name": "python3",
      "display_name": "Python 3"
    },
    "language_info": {
      "name": "python"
    }
  },
  "cells": [
    {
      "cell_type": "code",
      "metadata": {
        "colab": {
          "resources": {
            "http://localhost:8080/nbextensions/google.colab/files.js": {
              "data": "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",
              "ok": true,
              "headers": [
                [
                  "content-type",
                  "application/javascript"
                ]
              ],
              "status": 200,
              "status_text": ""
            }
          },
          "base_uri": "https://localhost:8080/",
          "height": 58
        },
        "id": "smg_cg0dteVo",
        "outputId": "ff10d0c0-7c01-43ef-feab-d6ec54d15062"
      },
      "source": [
        "from google.colab import files\n",
        "\n",
        "files.upload()"
      ],
      "execution_count": null,
      "outputs": [
        {
          "output_type": "display_data",
          "data": {
            "text/html": [
              "\n",
              "     <input type=\"file\" id=\"files-fb476574-ac73-41db-9766-5d33420520d6\" name=\"files[]\" multiple disabled\n",
              "        style=\"border:none\" />\n",
              "     <output id=\"result-fb476574-ac73-41db-9766-5d33420520d6\">\n",
              "      Upload widget is only available when the cell has been executed in the\n",
              "      current browser session. Please rerun this cell to enable.\n",
              "      </output>\n",
              "      <script src=\"/nbextensions/google.colab/files.js\"></script> "
            ],
            "text/plain": [
              "<IPython.core.display.HTML object>"
            ]
          },
          "metadata": {
            "tags": []
          }
        },
        {
          "output_type": "execute_result",
          "data": {
            "text/plain": [
              "{}"
            ]
          },
          "metadata": {
            "tags": []
          },
          "execution_count": 1
        }
      ]
    },
    {
      "cell_type": "code",
      "metadata": {
        "id": "-j-3o3jbtpua"
      },
      "source": [
        "import numpy as np\n",
        "import pandas as pd\n",
        "from sklearn.metrics import classification_report\n",
        "from sklearn.metrics import confusion_matrix\n",
        "import seaborn as sns"
      ],
      "execution_count": null,
      "outputs": []
    },
    {
      "cell_type": "code",
      "metadata": {
        "id": "ci3DsWw9tss3"
      },
      "source": [
        "inputs = pd.read_pickle(\"/content/Sampled_inputs3.pck\")\n",
        "labels = pd.read_pickle(\"/content/Sampled_labels3.pck\")"
      ],
      "execution_count": null,
      "outputs": []
    },
    {
      "cell_type": "code",
      "metadata": {
        "colab": {
          "base_uri": "https://localhost:8080/"
        },
        "id": "ZNO8b7VKWxYq",
        "outputId": "3951fd3a-6440-4ee4-fde2-1358163be6f0"
      },
      "source": [
        "inputs.shape"
      ],
      "execution_count": null,
      "outputs": [
        {
          "output_type": "execute_result",
          "data": {
            "text/plain": [
              "(3600, 60, 33)"
            ]
          },
          "metadata": {
            "tags": []
          },
          "execution_count": 4
        }
      ]
    },
    {
      "cell_type": "code",
      "metadata": {
        "colab": {
          "base_uri": "https://localhost:8080/"
        },
        "id": "WTgXHr6JWzZc",
        "outputId": "844cff25-2918-4903-fb06-338ad615b808"
      },
      "source": [
        "inputs = inputs.transpose(0,2,1)\n",
        "inputs.shape"
      ],
      "execution_count": null,
      "outputs": [
        {
          "output_type": "execute_result",
          "data": {
            "text/plain": [
              "(3600, 33, 60)"
            ]
          },
          "metadata": {
            "tags": []
          },
          "execution_count": 5
        }
      ]
    },
    {
      "cell_type": "code",
      "metadata": {
        "colab": {
          "base_uri": "https://localhost:8080/"
        },
        "id": "S2rVAuDMbZpe",
        "outputId": "83ad9255-3d81-4b54-8609-32513c559e25"
      },
      "source": [
        "from collections import Counter\n",
        "label_count = Counter(labels)\n",
        "label_count"
      ],
      "execution_count": null,
      "outputs": [
        {
          "output_type": "execute_result",
          "data": {
            "text/plain": [
              "Counter({0: 600, 1: 1200, 2: 600, 3: 600, 4: 600})"
            ]
          },
          "metadata": {
            "tags": []
          },
          "execution_count": 6
        }
      ]
    },
    {
      "cell_type": "code",
      "metadata": {
        "colab": {
          "base_uri": "https://localhost:8080/"
        },
        "id": "pdMq5xwsV2TV",
        "outputId": "ddaee98f-f4c5-4abd-e836-459cc5b8741c"
      },
      "source": [
        "len(labels)"
      ],
      "execution_count": null,
      "outputs": [
        {
          "output_type": "execute_result",
          "data": {
            "text/plain": [
              "3600"
            ]
          },
          "metadata": {
            "tags": []
          },
          "execution_count": 7
        }
      ]
    },
    {
      "cell_type": "code",
      "metadata": {
        "colab": {
          "base_uri": "https://localhost:8080/"
        },
        "id": "seeYNXiHxeDQ",
        "outputId": "097c3f11-fa5c-4304-c0fd-891c2ebd4e32"
      },
      "source": [
        "labels = np.where(labels == 0, 1, labels)\n",
        "labels = np.where(((labels == 2)|(labels ==3)|(labels ==4)), 0, labels)\n",
        "print(labels)"
      ],
      "execution_count": null,
      "outputs": [
        {
          "output_type": "stream",
          "text": [
            "[1 1 1 ... 0 0 0]\n"
          ],
          "name": "stdout"
        }
      ]
    },
    {
      "cell_type": "code",
      "metadata": {
        "id": "q_U70Pb8txap"
      },
      "source": [
        "from sklearn.model_selection import train_test_split\n",
        "from sklearn.preprocessing import LabelEncoder\n",
        "X_train, X_test, y_train, y_test = train_test_split(inputs, labels, random_state=42)"
      ],
      "execution_count": null,
      "outputs": []
    },
    {
      "cell_type": "code",
      "metadata": {
        "id": "LwLS4DyOE7t5"
      },
      "source": [
        "X_train_mean = X_train.mean()\n",
        "X_train_std = X_train.std()\n",
        "X_train = (X_train - X_train_mean)/X_train_std\n",
        "X_test = (X_test - X_train_mean)/X_train_std"
      ],
      "execution_count": null,
      "outputs": []
    },
    {
      "cell_type": "code",
      "metadata": {
        "id": "GoVH5sJ1x1om"
      },
      "source": [
        "from collections import Counter"
      ],
      "execution_count": null,
      "outputs": []
    },
    {
      "cell_type": "code",
      "metadata": {
        "colab": {
          "base_uri": "https://localhost:8080/"
        },
        "id": "sCibDw6wx4cB",
        "outputId": "f59e913c-cfd9-44f1-bc59-1ff1481e3f1f"
      },
      "source": [
        "recounted = Counter(y_train)\n",
        "recounted"
      ],
      "execution_count": null,
      "outputs": [
        {
          "output_type": "execute_result",
          "data": {
            "text/plain": [
              "Counter({0: 1375, 1: 1325})"
            ]
          },
          "metadata": {
            "tags": []
          },
          "execution_count": 12
        }
      ]
    },
    {
      "cell_type": "code",
      "metadata": {
        "colab": {
          "base_uri": "https://localhost:8080/"
        },
        "id": "oSxWhOK0x-z3",
        "outputId": "10f1e741-a276-4acf-812e-722644e14f09"
      },
      "source": [
        "recounted = Counter(y_test)\n",
        "recounted"
      ],
      "execution_count": null,
      "outputs": [
        {
          "output_type": "execute_result",
          "data": {
            "text/plain": [
              "Counter({0: 425, 1: 475})"
            ]
          },
          "metadata": {
            "tags": []
          },
          "execution_count": 13
        }
      ]
    },
    {
      "cell_type": "code",
      "metadata": {
        "colab": {
          "base_uri": "https://localhost:8080/"
        },
        "id": "Bj-zO7ydwYFs",
        "outputId": "9a0e112b-32bf-421b-ab2b-59f2f1f6070c"
      },
      "source": [
        "X_train.shape"
      ],
      "execution_count": null,
      "outputs": [
        {
          "output_type": "execute_result",
          "data": {
            "text/plain": [
              "(2700, 33, 60)"
            ]
          },
          "metadata": {
            "tags": []
          },
          "execution_count": 14
        }
      ]
    },
    {
      "cell_type": "code",
      "metadata": {
        "colab": {
          "base_uri": "https://localhost:8080/"
        },
        "id": "xiMs4aXvwpE3",
        "outputId": "e7b1742c-9a8a-43ae-a8a6-17b83ec44b0d"
      },
      "source": [
        "X_test.shape"
      ],
      "execution_count": null,
      "outputs": [
        {
          "output_type": "execute_result",
          "data": {
            "text/plain": [
              "(900, 33, 60)"
            ]
          },
          "metadata": {
            "tags": []
          },
          "execution_count": 15
        }
      ]
    },
    {
      "cell_type": "code",
      "metadata": {
        "colab": {
          "base_uri": "https://localhost:8080/"
        },
        "id": "tptWa8A-orlE",
        "outputId": "1a4193ec-b3d8-459c-ba8f-721721fd562a"
      },
      "source": [
        "y_train"
      ],
      "execution_count": null,
      "outputs": [
        {
          "output_type": "execute_result",
          "data": {
            "text/plain": [
              "array([1, 1, 0, ..., 1, 0, 0])"
            ]
          },
          "metadata": {
            "tags": []
          },
          "execution_count": 16
        }
      ]
    },
    {
      "cell_type": "code",
      "metadata": {
        "id": "jF_D2vZ6zY7R"
      },
      "source": [
        "from keras.callbacks import ModelCheckpoint, EarlyStopping\n",
        "from keras.callbacks import ReduceLROnPlateau\n",
        "\n",
        "earlyStopping = EarlyStopping(monitor='val_loss', patience=10, verbose=1, mode='min')\n",
        "mcp_save = ModelCheckpoint('.mdl_wts.hdf5', save_best_only=True, monitor='val_loss', mode='min')\n",
        "reduce_lr_loss = ReduceLROnPlateau(monitor='val_loss', factor=0.1, patience=7, verbose=0, min_delta=1e-4, mode='min')"
      ],
      "execution_count": null,
      "outputs": []
    },
    {
      "cell_type": "code",
      "metadata": {
        "colab": {
          "base_uri": "https://localhost:8080/"
        },
        "id": "GIDX8s5mHnzq",
        "outputId": "b5122aa1-1ea6-48e3-f0b9-5ea95a8911a4"
      },
      "source": [
        "from keras.models import Model\n",
        "from keras.layers import Input, Dense, LSTM, multiply, concatenate, Activation, Masking, Reshape\n",
        "from keras.layers import Conv1D, BatchNormalization, GlobalAveragePooling1D, Permute, Dropout\n",
        "\n",
        "input = Input(shape=(33, 60))\n",
        "x = Permute((2, 1))(input)\n",
        "x = Conv1D(128, 8, padding='same', kernel_initializer='he_uniform')(x)\n",
        "x = BatchNormalization()(x)\n",
        "x = Activation('relu')(x)\n",
        "\n",
        "\n",
        "x = Conv1D(256, 5, padding='same', kernel_initializer='he_uniform')(x)\n",
        "x = BatchNormalization()(x)\n",
        "x = Activation('relu')(x)\n",
        "\n",
        "\n",
        "x = Conv1D(128, 3, padding='same', kernel_initializer='he_uniform')(x)\n",
        "x = BatchNormalization()(x)\n",
        "x = Activation('relu')(x)\n",
        "\n",
        "x = GlobalAveragePooling1D()(x)\n",
        "\n",
        "out = Dense(1, activation='sigmoid')(x)\n",
        "\n",
        "model = Model(input, out)\n",
        "model.compile(loss='binary_crossentropy', optimizer='adam', metrics=['accuracy'])\n",
        "model.summary()"
      ],
      "execution_count": null,
      "outputs": [
        {
          "output_type": "stream",
          "text": [
            "Model: \"model\"\n",
            "_________________________________________________________________\n",
            "Layer (type)                 Output Shape              Param #   \n",
            "=================================================================\n",
            "input_1 (InputLayer)         [(None, 33, 60)]          0         \n",
            "_________________________________________________________________\n",
            "permute (Permute)            (None, 60, 33)            0         \n",
            "_________________________________________________________________\n",
            "conv1d (Conv1D)              (None, 60, 128)           33920     \n",
            "_________________________________________________________________\n",
            "batch_normalization (BatchNo (None, 60, 128)           512       \n",
            "_________________________________________________________________\n",
            "activation (Activation)      (None, 60, 128)           0         \n",
            "_________________________________________________________________\n",
            "conv1d_1 (Conv1D)            (None, 60, 256)           164096    \n",
            "_________________________________________________________________\n",
            "batch_normalization_1 (Batch (None, 60, 256)           1024      \n",
            "_________________________________________________________________\n",
            "activation_1 (Activation)    (None, 60, 256)           0         \n",
            "_________________________________________________________________\n",
            "conv1d_2 (Conv1D)            (None, 60, 128)           98432     \n",
            "_________________________________________________________________\n",
            "batch_normalization_2 (Batch (None, 60, 128)           512       \n",
            "_________________________________________________________________\n",
            "activation_2 (Activation)    (None, 60, 128)           0         \n",
            "_________________________________________________________________\n",
            "global_average_pooling1d (Gl (None, 128)               0         \n",
            "_________________________________________________________________\n",
            "dense (Dense)                (None, 1)                 129       \n",
            "=================================================================\n",
            "Total params: 298,625\n",
            "Trainable params: 297,601\n",
            "Non-trainable params: 1,024\n",
            "_________________________________________________________________\n"
          ],
          "name": "stdout"
        }
      ]
    },
    {
      "cell_type": "code",
      "metadata": {
        "id": "uBC2InUrZzbw",
        "colab": {
          "base_uri": "https://localhost:8080/"
        },
        "outputId": "aed038bd-4428-44ec-e791-4cd6c4d2f58b"
      },
      "source": [
        "history = model.fit(X_train, y_train, batch_size=128, epochs=80, verbose=1, callbacks=[earlyStopping, mcp_save, reduce_lr_loss], validation_split=0.1,)"
      ],
      "execution_count": null,
      "outputs": [
        {
          "output_type": "stream",
          "text": [
            "Epoch 1/80\n",
            "19/19 [==============================] - 10s 487ms/step - loss: 0.5419 - accuracy: 0.7246 - val_loss: 0.6868 - val_accuracy: 0.5222\n",
            "Epoch 2/80\n",
            "19/19 [==============================] - 9s 457ms/step - loss: 0.4315 - accuracy: 0.7765 - val_loss: 0.6513 - val_accuracy: 0.5333\n",
            "Epoch 3/80\n",
            "19/19 [==============================] - 9s 452ms/step - loss: 0.4125 - accuracy: 0.8080 - val_loss: 0.6266 - val_accuracy: 0.6778\n",
            "Epoch 4/80\n",
            "19/19 [==============================] - 9s 459ms/step - loss: 0.4131 - accuracy: 0.7983 - val_loss: 0.5781 - val_accuracy: 0.6889\n",
            "Epoch 5/80\n",
            "19/19 [==============================] - 8s 446ms/step - loss: 0.4000 - accuracy: 0.7958 - val_loss: 0.4990 - val_accuracy: 0.7741\n",
            "Epoch 6/80\n",
            "19/19 [==============================] - 8s 441ms/step - loss: 0.3936 - accuracy: 0.8100 - val_loss: 0.4817 - val_accuracy: 0.7815\n",
            "Epoch 7/80\n",
            "19/19 [==============================] - 8s 445ms/step - loss: 0.3916 - accuracy: 0.8072 - val_loss: 0.4310 - val_accuracy: 0.7963\n",
            "Epoch 8/80\n",
            "19/19 [==============================] - 9s 448ms/step - loss: 0.3864 - accuracy: 0.8182 - val_loss: 0.3915 - val_accuracy: 0.8037\n",
            "Epoch 9/80\n",
            "19/19 [==============================] - 8s 443ms/step - loss: 0.3899 - accuracy: 0.8102 - val_loss: 0.3989 - val_accuracy: 0.7963\n",
            "Epoch 10/80\n",
            "19/19 [==============================] - 8s 440ms/step - loss: 0.3973 - accuracy: 0.8082 - val_loss: 0.4055 - val_accuracy: 0.8037\n",
            "Epoch 11/80\n",
            "19/19 [==============================] - 8s 445ms/step - loss: 0.3912 - accuracy: 0.8114 - val_loss: 0.4003 - val_accuracy: 0.8444\n",
            "Epoch 12/80\n",
            "19/19 [==============================] - 8s 438ms/step - loss: 0.3703 - accuracy: 0.8192 - val_loss: 0.3804 - val_accuracy: 0.8333\n",
            "Epoch 13/80\n",
            "19/19 [==============================] - 8s 440ms/step - loss: 0.3677 - accuracy: 0.8136 - val_loss: 0.4049 - val_accuracy: 0.7926\n",
            "Epoch 14/80\n",
            "19/19 [==============================] - 9s 451ms/step - loss: 0.3811 - accuracy: 0.8105 - val_loss: 0.4105 - val_accuracy: 0.7926\n",
            "Epoch 15/80\n",
            "19/19 [==============================] - 8s 446ms/step - loss: 0.3727 - accuracy: 0.8253 - val_loss: 0.4334 - val_accuracy: 0.8074\n",
            "Epoch 16/80\n",
            "19/19 [==============================] - 8s 433ms/step - loss: 0.3707 - accuracy: 0.8363 - val_loss: 0.4602 - val_accuracy: 0.8148\n",
            "Epoch 17/80\n",
            "19/19 [==============================] - 8s 444ms/step - loss: 0.3774 - accuracy: 0.8164 - val_loss: 0.4489 - val_accuracy: 0.7889\n",
            "Epoch 18/80\n",
            "19/19 [==============================] - 8s 437ms/step - loss: 0.3850 - accuracy: 0.8131 - val_loss: 0.4763 - val_accuracy: 0.7963\n",
            "Epoch 19/80\n",
            "19/19 [==============================] - 8s 443ms/step - loss: 0.3610 - accuracy: 0.8258 - val_loss: 0.4165 - val_accuracy: 0.8074\n",
            "Epoch 20/80\n",
            "19/19 [==============================] - 8s 439ms/step - loss: 0.3583 - accuracy: 0.8326 - val_loss: 0.3936 - val_accuracy: 0.8296\n",
            "Epoch 21/80\n",
            "19/19 [==============================] - 8s 437ms/step - loss: 0.3616 - accuracy: 0.8333 - val_loss: 0.3899 - val_accuracy: 0.8222\n",
            "Epoch 22/80\n",
            "19/19 [==============================] - 8s 442ms/step - loss: 0.3411 - accuracy: 0.8417 - val_loss: 0.3804 - val_accuracy: 0.8296\n",
            "Epoch 23/80\n",
            "19/19 [==============================] - 8s 436ms/step - loss: 0.3314 - accuracy: 0.8370 - val_loss: 0.3763 - val_accuracy: 0.8333\n",
            "Epoch 24/80\n",
            "19/19 [==============================] - 8s 440ms/step - loss: 0.3494 - accuracy: 0.8393 - val_loss: 0.3705 - val_accuracy: 0.8370\n",
            "Epoch 25/80\n",
            "19/19 [==============================] - 8s 441ms/step - loss: 0.3324 - accuracy: 0.8361 - val_loss: 0.3699 - val_accuracy: 0.8370\n",
            "Epoch 26/80\n",
            "19/19 [==============================] - 8s 428ms/step - loss: 0.3488 - accuracy: 0.8407 - val_loss: 0.3688 - val_accuracy: 0.8259\n",
            "Epoch 27/80\n",
            "19/19 [==============================] - 8s 438ms/step - loss: 0.3309 - accuracy: 0.8527 - val_loss: 0.3598 - val_accuracy: 0.8407\n",
            "Epoch 28/80\n",
            "19/19 [==============================] - 8s 439ms/step - loss: 0.3454 - accuracy: 0.8379 - val_loss: 0.3612 - val_accuracy: 0.8333\n",
            "Epoch 29/80\n",
            "19/19 [==============================] - 8s 436ms/step - loss: 0.3467 - accuracy: 0.8274 - val_loss: 0.3612 - val_accuracy: 0.8333\n",
            "Epoch 30/80\n",
            "19/19 [==============================] - 8s 433ms/step - loss: 0.3546 - accuracy: 0.8282 - val_loss: 0.3583 - val_accuracy: 0.8407\n",
            "Epoch 31/80\n",
            "19/19 [==============================] - 8s 431ms/step - loss: 0.3311 - accuracy: 0.8401 - val_loss: 0.3580 - val_accuracy: 0.8407\n",
            "Epoch 32/80\n",
            "19/19 [==============================] - 8s 434ms/step - loss: 0.3307 - accuracy: 0.8459 - val_loss: 0.3570 - val_accuracy: 0.8370\n",
            "Epoch 33/80\n",
            "19/19 [==============================] - 8s 433ms/step - loss: 0.3253 - accuracy: 0.8479 - val_loss: 0.3557 - val_accuracy: 0.8259\n",
            "Epoch 34/80\n",
            "19/19 [==============================] - 8s 435ms/step - loss: 0.3210 - accuracy: 0.8557 - val_loss: 0.3534 - val_accuracy: 0.8296\n",
            "Epoch 35/80\n",
            "19/19 [==============================] - 8s 431ms/step - loss: 0.3156 - accuracy: 0.8508 - val_loss: 0.3524 - val_accuracy: 0.8370\n",
            "Epoch 36/80\n",
            "19/19 [==============================] - 8s 434ms/step - loss: 0.3295 - accuracy: 0.8533 - val_loss: 0.3549 - val_accuracy: 0.8296\n",
            "Epoch 37/80\n",
            "19/19 [==============================] - 8s 431ms/step - loss: 0.3268 - accuracy: 0.8456 - val_loss: 0.3517 - val_accuracy: 0.8333\n",
            "Epoch 38/80\n",
            "19/19 [==============================] - 8s 426ms/step - loss: 0.3216 - accuracy: 0.8587 - val_loss: 0.3515 - val_accuracy: 0.8370\n",
            "Epoch 39/80\n",
            "19/19 [==============================] - 8s 427ms/step - loss: 0.3320 - accuracy: 0.8461 - val_loss: 0.3529 - val_accuracy: 0.8333\n",
            "Epoch 40/80\n",
            "19/19 [==============================] - 8s 432ms/step - loss: 0.3206 - accuracy: 0.8580 - val_loss: 0.3516 - val_accuracy: 0.8481\n",
            "Epoch 41/80\n",
            "19/19 [==============================] - 8s 428ms/step - loss: 0.3297 - accuracy: 0.8522 - val_loss: 0.3539 - val_accuracy: 0.8222\n",
            "Epoch 42/80\n",
            "19/19 [==============================] - 8s 436ms/step - loss: 0.3446 - accuracy: 0.8425 - val_loss: 0.3489 - val_accuracy: 0.8370\n",
            "Epoch 43/80\n",
            "19/19 [==============================] - 8s 435ms/step - loss: 0.3368 - accuracy: 0.8568 - val_loss: 0.3443 - val_accuracy: 0.8444\n",
            "Epoch 44/80\n",
            "19/19 [==============================] - 8s 430ms/step - loss: 0.3652 - accuracy: 0.8313 - val_loss: 0.3469 - val_accuracy: 0.8333\n",
            "Epoch 45/80\n",
            "19/19 [==============================] - 8s 431ms/step - loss: 0.3264 - accuracy: 0.8529 - val_loss: 0.3475 - val_accuracy: 0.8407\n",
            "Epoch 46/80\n",
            "19/19 [==============================] - 8s 435ms/step - loss: 0.3213 - accuracy: 0.8418 - val_loss: 0.3443 - val_accuracy: 0.8407\n",
            "Epoch 47/80\n",
            "19/19 [==============================] - 8s 436ms/step - loss: 0.3295 - accuracy: 0.8452 - val_loss: 0.3463 - val_accuracy: 0.8444\n",
            "Epoch 48/80\n",
            "19/19 [==============================] - 8s 442ms/step - loss: 0.3046 - accuracy: 0.8603 - val_loss: 0.3383 - val_accuracy: 0.8519\n",
            "Epoch 49/80\n",
            "19/19 [==============================] - 8s 439ms/step - loss: 0.3096 - accuracy: 0.8579 - val_loss: 0.3379 - val_accuracy: 0.8556\n",
            "Epoch 50/80\n",
            "19/19 [==============================] - 8s 443ms/step - loss: 0.3257 - accuracy: 0.8489 - val_loss: 0.3415 - val_accuracy: 0.8481\n",
            "Epoch 51/80\n",
            "19/19 [==============================] - 8s 433ms/step - loss: 0.3073 - accuracy: 0.8698 - val_loss: 0.3401 - val_accuracy: 0.8444\n",
            "Epoch 52/80\n",
            "19/19 [==============================] - 8s 438ms/step - loss: 0.2972 - accuracy: 0.8770 - val_loss: 0.3443 - val_accuracy: 0.8407\n",
            "Epoch 53/80\n",
            "19/19 [==============================] - 8s 434ms/step - loss: 0.3172 - accuracy: 0.8533 - val_loss: 0.3424 - val_accuracy: 0.8593\n",
            "Epoch 54/80\n",
            "19/19 [==============================] - 8s 444ms/step - loss: 0.3265 - accuracy: 0.8497 - val_loss: 0.3407 - val_accuracy: 0.8407\n",
            "Epoch 55/80\n",
            "19/19 [==============================] - 8s 439ms/step - loss: 0.3225 - accuracy: 0.8525 - val_loss: 0.3386 - val_accuracy: 0.8593\n",
            "Epoch 56/80\n",
            "19/19 [==============================] - 8s 435ms/step - loss: 0.3231 - accuracy: 0.8573 - val_loss: 0.3401 - val_accuracy: 0.8630\n",
            "Epoch 57/80\n",
            "19/19 [==============================] - 8s 435ms/step - loss: 0.3173 - accuracy: 0.8627 - val_loss: 0.3381 - val_accuracy: 0.8630\n",
            "Epoch 58/80\n",
            "19/19 [==============================] - 8s 435ms/step - loss: 0.2947 - accuracy: 0.8721 - val_loss: 0.3362 - val_accuracy: 0.8667\n",
            "Epoch 59/80\n",
            "19/19 [==============================] - 8s 434ms/step - loss: 0.3257 - accuracy: 0.8484 - val_loss: 0.3353 - val_accuracy: 0.8667\n",
            "Epoch 60/80\n",
            "19/19 [==============================] - 8s 442ms/step - loss: 0.2989 - accuracy: 0.8752 - val_loss: 0.3341 - val_accuracy: 0.8667\n",
            "Epoch 61/80\n",
            "19/19 [==============================] - 8s 431ms/step - loss: 0.3094 - accuracy: 0.8630 - val_loss: 0.3335 - val_accuracy: 0.8667\n",
            "Epoch 62/80\n",
            "19/19 [==============================] - 8s 436ms/step - loss: 0.3318 - accuracy: 0.8535 - val_loss: 0.3332 - val_accuracy: 0.8667\n",
            "Epoch 63/80\n",
            "19/19 [==============================] - 8s 432ms/step - loss: 0.3017 - accuracy: 0.8661 - val_loss: 0.3324 - val_accuracy: 0.8667\n",
            "Epoch 64/80\n",
            "19/19 [==============================] - 8s 432ms/step - loss: 0.2917 - accuracy: 0.8656 - val_loss: 0.3326 - val_accuracy: 0.8667\n",
            "Epoch 65/80\n",
            "19/19 [==============================] - 8s 433ms/step - loss: 0.2977 - accuracy: 0.8731 - val_loss: 0.3319 - val_accuracy: 0.8704\n",
            "Epoch 66/80\n",
            "19/19 [==============================] - 8s 425ms/step - loss: 0.3090 - accuracy: 0.8571 - val_loss: 0.3317 - val_accuracy: 0.8704\n",
            "Epoch 67/80\n",
            "19/19 [==============================] - 8s 425ms/step - loss: 0.3071 - accuracy: 0.8581 - val_loss: 0.3314 - val_accuracy: 0.8704\n",
            "Epoch 68/80\n",
            "19/19 [==============================] - 8s 427ms/step - loss: 0.3082 - accuracy: 0.8632 - val_loss: 0.3307 - val_accuracy: 0.8704\n",
            "Epoch 69/80\n",
            "19/19 [==============================] - 8s 427ms/step - loss: 0.3041 - accuracy: 0.8683 - val_loss: 0.3315 - val_accuracy: 0.8704\n",
            "Epoch 70/80\n",
            "19/19 [==============================] - 8s 436ms/step - loss: 0.3146 - accuracy: 0.8514 - val_loss: 0.3311 - val_accuracy: 0.8704\n",
            "Epoch 71/80\n",
            "19/19 [==============================] - 8s 431ms/step - loss: 0.2990 - accuracy: 0.8678 - val_loss: 0.3306 - val_accuracy: 0.8704\n",
            "Epoch 72/80\n",
            "19/19 [==============================] - 8s 435ms/step - loss: 0.3099 - accuracy: 0.8572 - val_loss: 0.3308 - val_accuracy: 0.8704\n",
            "Epoch 73/80\n",
            "19/19 [==============================] - 8s 433ms/step - loss: 0.3091 - accuracy: 0.8673 - val_loss: 0.3309 - val_accuracy: 0.8704\n",
            "Epoch 74/80\n",
            "19/19 [==============================] - 8s 444ms/step - loss: 0.2959 - accuracy: 0.8642 - val_loss: 0.3308 - val_accuracy: 0.8704\n",
            "Epoch 75/80\n",
            "19/19 [==============================] - 8s 428ms/step - loss: 0.3199 - accuracy: 0.8498 - val_loss: 0.3298 - val_accuracy: 0.8704\n",
            "Epoch 76/80\n",
            "19/19 [==============================] - 8s 439ms/step - loss: 0.2972 - accuracy: 0.8690 - val_loss: 0.3311 - val_accuracy: 0.8704\n",
            "Epoch 77/80\n",
            "19/19 [==============================] - 8s 440ms/step - loss: 0.3059 - accuracy: 0.8666 - val_loss: 0.3309 - val_accuracy: 0.8704\n",
            "Epoch 78/80\n",
            "19/19 [==============================] - 8s 437ms/step - loss: 0.3004 - accuracy: 0.8702 - val_loss: 0.3305 - val_accuracy: 0.8704\n",
            "Epoch 79/80\n",
            "19/19 [==============================] - 8s 439ms/step - loss: 0.3014 - accuracy: 0.8768 - val_loss: 0.3303 - val_accuracy: 0.8704\n",
            "Epoch 80/80\n",
            "19/19 [==============================] - 8s 430ms/step - loss: 0.3160 - accuracy: 0.8503 - val_loss: 0.3299 - val_accuracy: 0.8704\n"
          ],
          "name": "stdout"
        }
      ]
    },
    {
      "cell_type": "code",
      "metadata": {
        "id": "u73jBtE9cgHq",
        "colab": {
          "base_uri": "https://localhost:8080/",
          "height": 573
        },
        "outputId": "bf81ed95-65a0-4096-e8ad-d2954a2b7094"
      },
      "source": [
        "import matplotlib.pyplot as plt\n",
        "plt.plot(history.history['accuracy'])\n",
        "plt.plot(history.history['val_accuracy'])\n",
        "plt.title('model accuracy')\n",
        "plt.ylabel('accuracy')\n",
        "plt.xlabel('epoch')\n",
        "plt.xlim(1, 50)\n",
        "plt.legend(['train', 'val'], loc='upper left')\n",
        "plt.show()\n",
        "# summarize history for loss\n",
        "plt.plot(history.history['loss'])\n",
        "plt.plot(history.history['val_loss'])\n",
        "plt.title('model loss')\n",
        "plt.ylabel('loss')\n",
        "plt.xlabel('epoch')\n",
        "plt.xlim(1, 50)\n",
        "plt.legend(['train', 'val'], loc='upper left')\n",
        "plt.show()"
      ],
      "execution_count": null,
      "outputs": [
        {
          "output_type": "display_data",
          "data": {
            "image/png": "[encoded data removed]",
            "text/plain": [
              "<Figure size 432x288 with 1 Axes>"
            ]
          },
          "metadata": {
            "tags": [],
            "needs_background": "light"
          }
        },
        {
          "output_type": "display_data",
          "data": {
            "image/png": "[encoded data removed]",
            "text/plain": [
              "<Figure size 432x288 with 1 Axes>"
            ]
          },
          "metadata": {
            "tags": [],
            "needs_background": "light"
          }
        }
      ]
    },
    {
      "cell_type": "code",
      "metadata": {
        "id": "vqBHzlvlczSI"
      },
      "source": [
        "y_predict = (model.predict(X_test) > 0.5).astype('int32')"
      ],
      "execution_count": null,
      "outputs": []
    },
    {
      "cell_type": "code",
      "metadata": {
        "colab": {
          "base_uri": "https://localhost:8080/"
        },
        "id": "3VpmngJBU2sf",
        "outputId": "24d09a63-1ff1-4a14-a154-b29894bf551a"
      },
      "source": [
        "TN, FP, FN, TP = confusion_matrix(y_test, y_predict).ravel()\n",
        "tss = (TP / (TP + FN)) - (FP / (FP + TN))\n",
        "print(\"tss: \",tss)"
      ],
      "execution_count": null,
      "outputs": [
        {
          "output_type": "stream",
          "text": [
            "tss:  0.7154179566563468\n"
          ],
          "name": "stdout"
        }
      ]
    },
    {
      "cell_type": "code",
      "metadata": {
        "id": "nOOR60y1c_9X",
        "colab": {
          "base_uri": "https://localhost:8080/"
        },
        "outputId": "1a1c7727-2051-400b-d80e-102b120a0305"
      },
      "source": [
        "target_names =  ['class 0', 'class 1']\n",
        "print(classification_report(y_test, y_predict, target_names=target_names, digits = 4))"
      ],
      "execution_count": null,
      "outputs": [
        {
          "output_type": "stream",
          "text": [
            "              precision    recall  f1-score   support\n",
            "\n",
            "     class 0     0.8785    0.8165    0.8463       425\n",
            "     class 1     0.8455    0.8989    0.8714       475\n",
            "\n",
            "    accuracy                         0.8600       900\n",
            "   macro avg     0.8620    0.8577    0.8589       900\n",
            "weighted avg     0.8611    0.8600    0.8596       900\n",
            "\n"
          ],
          "name": "stdout"
        }
      ]
    },
    {
      "cell_type": "code",
      "metadata": {
        "colab": {
          "base_uri": "https://localhost:8080/",
          "height": 283
        },
        "id": "0tqNjOO3PSUa",
        "outputId": "90216c59-7c3c-439d-89b4-413f8936eff9"
      },
      "source": [
        "cm = confusion_matrix(y_test, y_predict)\n",
        "ax = plt.subplot()\n",
        "sns.heatmap(cm, annot=True, ax=ax, cmap=\"Blues\", fmt=\"d\")"
      ],
      "execution_count": null,
      "outputs": [
        {
          "output_type": "execute_result",
          "data": {
            "text/plain": [
              "<matplotlib.axes._subplots.AxesSubplot at 0x7fb8246ece50>"
            ]
          },
          "metadata": {
            "tags": []
          },
          "execution_count": 24
        },
        {
          "output_type": "display_data",
          "data": {
            "image/png": "[encoded data removed]",
            "text/plain": [
              "<Figure size 432x288 with 2 Axes>"
            ]
          },
          "metadata": {
            "tags": [],
            "needs_background": "light"
          }
        }
      ]
    },
    {
      "cell_type": "code",
      "metadata": {
        "id": "HrNy0iLrqzLp"
      },
      "source": [
        "def squeeze_excite_block(input):\n",
        "    ''' Create a squeeze-excite block\n",
        "    Args:\n",
        "        input: input tensor\n",
        "        filters: number of output filters\n",
        "        k: width factor\n",
        "    Returns: a keras tensor\n",
        "    '''\n",
        "    filters = input.shape[-1] # channel_axis = -1 for TF\n",
        "\n",
        "    se = GlobalAveragePooling1D()(input)\n",
        "    se = Reshape((1, filters))(se)\n",
        "    se = Dense(filters // 16,  activation='relu', kernel_initializer='he_normal', use_bias=False)(se)\n",
        "    se = Dense(filters, activation='sigmoid', kernel_initializer='he_normal', use_bias=False)(se)\n",
        "    se = multiply([input, se])\n",
        "    return se"
      ],
      "execution_count": null,
      "outputs": []
    },
    {
      "cell_type": "code",
      "metadata": {
        "id": "WBAvfYy_YMCY",
        "colab": {
          "base_uri": "https://localhost:8080/"
        },
        "outputId": "1a61ab6e-0439-4c6f-ae42-7c597269af91"
      },
      "source": [
        "from keras.models import Model\n",
        "from keras.layers import Input, Dense, LSTM, multiply, concatenate, Activation, Masking, Reshape\n",
        "from keras.layers import Conv1D, BatchNormalization, GlobalAveragePooling1D, Permute, Dropout\n",
        "\n",
        "input = Input(shape=(33, 60))\n",
        "x = Masking()(input)\n",
        "x = LSTM(8)(x)\n",
        "x = Dropout(0.8)(x)\n",
        "\n",
        "y = Permute((2, 1))(input)\n",
        "y = Conv1D(128, 8, padding='same', kernel_initializer='he_uniform')(y)\n",
        "y = BatchNormalization()(y)\n",
        "y = Activation('relu')(y)\n",
        "y = squeeze_excite_block(y)\n",
        "\n",
        "\n",
        "y = Conv1D(256, 5, padding='same', kernel_initializer='he_uniform')(y)\n",
        "y = BatchNormalization()(y)\n",
        "y = Activation('relu')(y)\n",
        "y = squeeze_excite_block(y)\n",
        "\n",
        "\n",
        "y = Conv1D(128, 3, padding='same', kernel_initializer='he_uniform')(y)\n",
        "y = BatchNormalization()(y)\n",
        "y = Activation('relu')(y)\n",
        "\n",
        "\n",
        "y = GlobalAveragePooling1D()(y)\n",
        "x = concatenate([x, y])\n",
        "\n",
        "out = Dense(1, activation='sigmoid')(x)\n",
        "\n",
        "model = Model(input, out)\n",
        "model.compile(loss='binary_crossentropy', optimizer='adam', metrics=['accuracy'])\n",
        "model.summary()"
      ],
      "execution_count": null,
      "outputs": [
        {
          "output_type": "stream",
          "text": [
            "Model: \"model_1\"\n",
            "__________________________________________________________________________________________________\n",
            "Layer (type)                    Output Shape         Param #     Connected to                     \n",
            "==================================================================================================\n",
            "input_2 (InputLayer)            [(None, 33, 60)]     0                                            \n",
            "__________________________________________________________________________________________________\n",
            "permute_1 (Permute)             (None, 60, 33)       0           input_2[0][0]                    \n",
            "__________________________________________________________________________________________________\n",
            "conv1d_3 (Conv1D)               (None, 60, 128)      33920       permute_1[0][0]                  \n",
            "__________________________________________________________________________________________________\n",
            "batch_normalization_3 (BatchNor (None, 60, 128)      512         conv1d_3[0][0]                   \n",
            "__________________________________________________________________________________________________\n",
            "activation_3 (Activation)       (None, 60, 128)      0           batch_normalization_3[0][0]      \n",
            "__________________________________________________________________________________________________\n",
            "global_average_pooling1d_1 (Glo (None, 128)          0           activation_3[0][0]               \n",
            "__________________________________________________________________________________________________\n",
            "reshape (Reshape)               (None, 1, 128)       0           global_average_pooling1d_1[0][0] \n",
            "__________________________________________________________________________________________________\n",
            "dense_1 (Dense)                 (None, 1, 8)         1024        reshape[0][0]                    \n",
            "__________________________________________________________________________________________________\n",
            "dense_2 (Dense)                 (None, 1, 128)       1024        dense_1[0][0]                    \n",
            "__________________________________________________________________________________________________\n",
            "multiply (Multiply)             (None, 60, 128)      0           activation_3[0][0]               \n",
            "                                                                 dense_2[0][0]                    \n",
            "__________________________________________________________________________________________________\n",
            "conv1d_4 (Conv1D)               (None, 60, 256)      164096      multiply[0][0]                   \n",
            "__________________________________________________________________________________________________\n",
            "batch_normalization_4 (BatchNor (None, 60, 256)      1024        conv1d_4[0][0]                   \n",
            "__________________________________________________________________________________________________\n",
            "activation_4 (Activation)       (None, 60, 256)      0           batch_normalization_4[0][0]      \n",
            "__________________________________________________________________________________________________\n",
            "global_average_pooling1d_2 (Glo (None, 256)          0           activation_4[0][0]               \n",
            "__________________________________________________________________________________________________\n",
            "reshape_1 (Reshape)             (None, 1, 256)       0           global_average_pooling1d_2[0][0] \n",
            "__________________________________________________________________________________________________\n",
            "dense_3 (Dense)                 (None, 1, 16)        4096        reshape_1[0][0]                  \n",
            "__________________________________________________________________________________________________\n",
            "dense_4 (Dense)                 (None, 1, 256)       4096        dense_3[0][0]                    \n",
            "__________________________________________________________________________________________________\n",
            "multiply_1 (Multiply)           (None, 60, 256)      0           activation_4[0][0]               \n",
            "                                                                 dense_4[0][0]                    \n",
            "__________________________________________________________________________________________________\n",
            "conv1d_5 (Conv1D)               (None, 60, 128)      98432       multiply_1[0][0]                 \n",
            "__________________________________________________________________________________________________\n",
            "masking (Masking)               (None, 33, 60)       0           input_2[0][0]                    \n",
            "__________________________________________________________________________________________________\n",
            "batch_normalization_5 (BatchNor (None, 60, 128)      512         conv1d_5[0][0]                   \n",
            "__________________________________________________________________________________________________\n",
            "lstm (LSTM)                     (None, 8)            2208        masking[0][0]                    \n",
            "__________________________________________________________________________________________________\n",
            "activation_5 (Activation)       (None, 60, 128)      0           batch_normalization_5[0][0]      \n",
            "__________________________________________________________________________________________________\n",
            "dropout (Dropout)               (None, 8)            0           lstm[0][0]                       \n",
            "__________________________________________________________________________________________________\n",
            "global_average_pooling1d_3 (Glo (None, 128)          0           activation_5[0][0]               \n",
            "__________________________________________________________________________________________________\n",
            "concatenate (Concatenate)       (None, 136)          0           dropout[0][0]                    \n",
            "                                                                 global_average_pooling1d_3[0][0] \n",
            "__________________________________________________________________________________________________\n",
            "dense_5 (Dense)                 (None, 1)            137         concatenate[0][0]                \n",
            "==================================================================================================\n",
            "Total params: 311,081\n",
            "Trainable params: 310,057\n",
            "Non-trainable params: 1,024\n",
            "__________________________________________________________________________________________________\n"
          ],
          "name": "stdout"
        }
      ]
    },
    {
      "cell_type": "code",
      "metadata": {
        "id": "LZNInHFzH2jg",
        "colab": {
          "base_uri": "https://localhost:8080/"
        },
        "outputId": "749d2e77-f58e-431c-a7b0-360c7d1e39ed"
      },
      "source": [
        "history = model.fit(X_train, y_train, batch_size=128, epochs=80, verbose=1, callbacks=[earlyStopping, mcp_save, reduce_lr_loss], validation_split=0.1,)"
      ],
      "execution_count": null,
      "outputs": [
        {
          "output_type": "stream",
          "text": [
            "Epoch 1/80\n",
            "19/19 [==============================] - 15s 551ms/step - loss: 0.5621 - accuracy: 0.6688 - val_loss: 0.6211 - val_accuracy: 0.5259\n",
            "Epoch 2/80\n",
            "19/19 [==============================] - 9s 469ms/step - loss: 0.4239 - accuracy: 0.7824 - val_loss: 0.6001 - val_accuracy: 0.5704\n",
            "Epoch 3/80\n",
            "19/19 [==============================] - 9s 464ms/step - loss: 0.4109 - accuracy: 0.7925 - val_loss: 0.5868 - val_accuracy: 0.7333\n",
            "Epoch 4/80\n",
            "19/19 [==============================] - 9s 460ms/step - loss: 0.3963 - accuracy: 0.7903 - val_loss: 0.5420 - val_accuracy: 0.7852\n",
            "Epoch 5/80\n",
            "19/19 [==============================] - 9s 451ms/step - loss: 0.3980 - accuracy: 0.7956 - val_loss: 0.4833 - val_accuracy: 0.8000\n",
            "Epoch 6/80\n",
            "19/19 [==============================] - 9s 461ms/step - loss: 0.3863 - accuracy: 0.8042 - val_loss: 0.4509 - val_accuracy: 0.8000\n",
            "Epoch 7/80\n",
            "19/19 [==============================] - 9s 469ms/step - loss: 0.3917 - accuracy: 0.8221 - val_loss: 0.4218 - val_accuracy: 0.8111\n",
            "Epoch 8/80\n",
            "19/19 [==============================] - 9s 463ms/step - loss: 0.3819 - accuracy: 0.8157 - val_loss: 0.4088 - val_accuracy: 0.8037\n",
            "Epoch 9/80\n",
            "19/19 [==============================] - 9s 460ms/step - loss: 0.3818 - accuracy: 0.8114 - val_loss: 0.3961 - val_accuracy: 0.8111\n",
            "Epoch 10/80\n",
            "19/19 [==============================] - 9s 466ms/step - loss: 0.3708 - accuracy: 0.8213 - val_loss: 0.3887 - val_accuracy: 0.8111\n",
            "Epoch 11/80\n",
            "19/19 [==============================] - 9s 465ms/step - loss: 0.3776 - accuracy: 0.8192 - val_loss: 0.3930 - val_accuracy: 0.8000\n",
            "Epoch 12/80\n",
            "19/19 [==============================] - 9s 464ms/step - loss: 0.3790 - accuracy: 0.8124 - val_loss: 0.4018 - val_accuracy: 0.7926\n",
            "Epoch 13/80\n",
            "19/19 [==============================] - 9s 459ms/step - loss: 0.3886 - accuracy: 0.8025 - val_loss: 0.4134 - val_accuracy: 0.8333\n",
            "Epoch 14/80\n",
            "19/19 [==============================] - 9s 460ms/step - loss: 0.3559 - accuracy: 0.8339 - val_loss: 0.3819 - val_accuracy: 0.8333\n",
            "Epoch 15/80\n",
            "19/19 [==============================] - 9s 459ms/step - loss: 0.3802 - accuracy: 0.8229 - val_loss: 0.3963 - val_accuracy: 0.8185\n",
            "Epoch 16/80\n",
            "19/19 [==============================] - 9s 461ms/step - loss: 0.3576 - accuracy: 0.8260 - val_loss: 0.4151 - val_accuracy: 0.8185\n",
            "Epoch 17/80\n",
            "19/19 [==============================] - 9s 452ms/step - loss: 0.3601 - accuracy: 0.8275 - val_loss: 0.4183 - val_accuracy: 0.8222\n",
            "Epoch 18/80\n",
            "19/19 [==============================] - 9s 457ms/step - loss: 0.3367 - accuracy: 0.8467 - val_loss: 0.4255 - val_accuracy: 0.8148\n",
            "Epoch 19/80\n",
            "19/19 [==============================] - 9s 461ms/step - loss: 0.3736 - accuracy: 0.8260 - val_loss: 0.4198 - val_accuracy: 0.8222\n",
            "Epoch 20/80\n",
            "19/19 [==============================] - 9s 470ms/step - loss: 0.3702 - accuracy: 0.8204 - val_loss: 0.4315 - val_accuracy: 0.8111\n",
            "Epoch 21/80\n",
            "19/19 [==============================] - 9s 469ms/step - loss: 0.3379 - accuracy: 0.8307 - val_loss: 0.4514 - val_accuracy: 0.8074\n",
            "Epoch 22/80\n",
            "19/19 [==============================] - 9s 469ms/step - loss: 0.3342 - accuracy: 0.8455 - val_loss: 0.4154 - val_accuracy: 0.8148\n",
            "Epoch 23/80\n",
            "19/19 [==============================] - 9s 469ms/step - loss: 0.3186 - accuracy: 0.8518 - val_loss: 0.3952 - val_accuracy: 0.8222\n",
            "Epoch 24/80\n",
            "19/19 [==============================] - 9s 469ms/step - loss: 0.3340 - accuracy: 0.8363 - val_loss: 0.3782 - val_accuracy: 0.8259\n",
            "Epoch 25/80\n",
            "19/19 [==============================] - 9s 476ms/step - loss: 0.3144 - accuracy: 0.8520 - val_loss: 0.3717 - val_accuracy: 0.8333\n",
            "Epoch 26/80\n",
            "19/19 [==============================] - 9s 470ms/step - loss: 0.3052 - accuracy: 0.8547 - val_loss: 0.3666 - val_accuracy: 0.8444\n",
            "Epoch 27/80\n",
            "19/19 [==============================] - 9s 472ms/step - loss: 0.2957 - accuracy: 0.8616 - val_loss: 0.3611 - val_accuracy: 0.8519\n",
            "Epoch 28/80\n",
            "19/19 [==============================] - 9s 457ms/step - loss: 0.3025 - accuracy: 0.8573 - val_loss: 0.3578 - val_accuracy: 0.8556\n",
            "Epoch 29/80\n",
            "19/19 [==============================] - 9s 457ms/step - loss: 0.3188 - accuracy: 0.8486 - val_loss: 0.3561 - val_accuracy: 0.8593\n",
            "Epoch 30/80\n",
            "19/19 [==============================] - 9s 466ms/step - loss: 0.3068 - accuracy: 0.8653 - val_loss: 0.3507 - val_accuracy: 0.8593\n",
            "Epoch 31/80\n",
            "19/19 [==============================] - 9s 457ms/step - loss: 0.3222 - accuracy: 0.8511 - val_loss: 0.3488 - val_accuracy: 0.8593\n",
            "Epoch 32/80\n",
            "19/19 [==============================] - 9s 455ms/step - loss: 0.3091 - accuracy: 0.8539 - val_loss: 0.3539 - val_accuracy: 0.8630\n",
            "Epoch 33/80\n",
            "19/19 [==============================] - 9s 450ms/step - loss: 0.3197 - accuracy: 0.8520 - val_loss: 0.3496 - val_accuracy: 0.8593\n",
            "Epoch 34/80\n",
            "19/19 [==============================] - 8s 445ms/step - loss: 0.3260 - accuracy: 0.8510 - val_loss: 0.3470 - val_accuracy: 0.8630\n",
            "Epoch 35/80\n",
            "19/19 [==============================] - 9s 455ms/step - loss: 0.3045 - accuracy: 0.8610 - val_loss: 0.3433 - val_accuracy: 0.8593\n",
            "Epoch 36/80\n",
            "19/19 [==============================] - 9s 459ms/step - loss: 0.2975 - accuracy: 0.8665 - val_loss: 0.3442 - val_accuracy: 0.8593\n",
            "Epoch 37/80\n",
            "19/19 [==============================] - 9s 462ms/step - loss: 0.3073 - accuracy: 0.8542 - val_loss: 0.3458 - val_accuracy: 0.8630\n",
            "Epoch 38/80\n",
            "19/19 [==============================] - 9s 464ms/step - loss: 0.2963 - accuracy: 0.8677 - val_loss: 0.3469 - val_accuracy: 0.8519\n",
            "Epoch 39/80\n",
            "19/19 [==============================] - 9s 456ms/step - loss: 0.3109 - accuracy: 0.8512 - val_loss: 0.3446 - val_accuracy: 0.8593\n",
            "Epoch 40/80\n",
            "19/19 [==============================] - 9s 457ms/step - loss: 0.3188 - accuracy: 0.8480 - val_loss: 0.3402 - val_accuracy: 0.8667\n",
            "Epoch 41/80\n",
            "19/19 [==============================] - 9s 461ms/step - loss: 0.2907 - accuracy: 0.8677 - val_loss: 0.3455 - val_accuracy: 0.8667\n",
            "Epoch 42/80\n",
            "19/19 [==============================] - 9s 456ms/step - loss: 0.2968 - accuracy: 0.8589 - val_loss: 0.3476 - val_accuracy: 0.8667\n",
            "Epoch 43/80\n",
            "19/19 [==============================] - 9s 459ms/step - loss: 0.2990 - accuracy: 0.8645 - val_loss: 0.3396 - val_accuracy: 0.8593\n",
            "Epoch 44/80\n",
            "19/19 [==============================] - 9s 464ms/step - loss: 0.3116 - accuracy: 0.8552 - val_loss: 0.3490 - val_accuracy: 0.8630\n",
            "Epoch 45/80\n",
            "19/19 [==============================] - 9s 466ms/step - loss: 0.2848 - accuracy: 0.8622 - val_loss: 0.3412 - val_accuracy: 0.8741\n",
            "Epoch 46/80\n",
            "19/19 [==============================] - 9s 454ms/step - loss: 0.2878 - accuracy: 0.8698 - val_loss: 0.3424 - val_accuracy: 0.8741\n",
            "Epoch 47/80\n",
            "19/19 [==============================] - 9s 456ms/step - loss: 0.2711 - accuracy: 0.8860 - val_loss: 0.3370 - val_accuracy: 0.8852\n",
            "Epoch 48/80\n",
            "19/19 [==============================] - 9s 459ms/step - loss: 0.2981 - accuracy: 0.8624 - val_loss: 0.3396 - val_accuracy: 0.8704\n",
            "Epoch 49/80\n",
            "19/19 [==============================] - 9s 458ms/step - loss: 0.2716 - accuracy: 0.8803 - val_loss: 0.3364 - val_accuracy: 0.8815\n",
            "Epoch 50/80\n",
            "19/19 [==============================] - 9s 463ms/step - loss: 0.2997 - accuracy: 0.8687 - val_loss: 0.3401 - val_accuracy: 0.8778\n",
            "Epoch 51/80\n",
            "19/19 [==============================] - 9s 461ms/step - loss: 0.3112 - accuracy: 0.8519 - val_loss: 0.3363 - val_accuracy: 0.8852\n",
            "Epoch 52/80\n",
            "19/19 [==============================] - 9s 465ms/step - loss: 0.2982 - accuracy: 0.8608 - val_loss: 0.3369 - val_accuracy: 0.8815\n",
            "Epoch 53/80\n",
            "19/19 [==============================] - 9s 459ms/step - loss: 0.2851 - accuracy: 0.8709 - val_loss: 0.3324 - val_accuracy: 0.8741\n",
            "Epoch 54/80\n",
            "19/19 [==============================] - 9s 464ms/step - loss: 0.2871 - accuracy: 0.8791 - val_loss: 0.3323 - val_accuracy: 0.8778\n",
            "Epoch 55/80\n",
            "19/19 [==============================] - 9s 463ms/step - loss: 0.2833 - accuracy: 0.8640 - val_loss: 0.3338 - val_accuracy: 0.8815\n",
            "Epoch 56/80\n",
            "19/19 [==============================] - 9s 469ms/step - loss: 0.2759 - accuracy: 0.8787 - val_loss: 0.3313 - val_accuracy: 0.8741\n",
            "Epoch 57/80\n",
            "19/19 [==============================] - 9s 464ms/step - loss: 0.2668 - accuracy: 0.8838 - val_loss: 0.3310 - val_accuracy: 0.8889\n",
            "Epoch 58/80\n",
            "19/19 [==============================] - 9s 467ms/step - loss: 0.2752 - accuracy: 0.8783 - val_loss: 0.3250 - val_accuracy: 0.8778\n",
            "Epoch 59/80\n",
            "19/19 [==============================] - 9s 473ms/step - loss: 0.2813 - accuracy: 0.8729 - val_loss: 0.3334 - val_accuracy: 0.8815\n",
            "Epoch 60/80\n",
            "19/19 [==============================] - 9s 473ms/step - loss: 0.3038 - accuracy: 0.8604 - val_loss: 0.3312 - val_accuracy: 0.8778\n",
            "Epoch 61/80\n",
            "19/19 [==============================] - 9s 469ms/step - loss: 0.2878 - accuracy: 0.8612 - val_loss: 0.3303 - val_accuracy: 0.8889\n",
            "Epoch 62/80\n",
            "19/19 [==============================] - 9s 467ms/step - loss: 0.2749 - accuracy: 0.8777 - val_loss: 0.3270 - val_accuracy: 0.8778\n",
            "Epoch 63/80\n",
            "19/19 [==============================] - 9s 462ms/step - loss: 0.2723 - accuracy: 0.8803 - val_loss: 0.3277 - val_accuracy: 0.8926\n",
            "Epoch 64/80\n",
            "19/19 [==============================] - 9s 467ms/step - loss: 0.2847 - accuracy: 0.8755 - val_loss: 0.3317 - val_accuracy: 0.8963\n",
            "Epoch 65/80\n",
            "19/19 [==============================] - 9s 464ms/step - loss: 0.2614 - accuracy: 0.8804 - val_loss: 0.3224 - val_accuracy: 0.8889\n",
            "Epoch 66/80\n",
            "19/19 [==============================] - 9s 465ms/step - loss: 0.2649 - accuracy: 0.8893 - val_loss: 0.3290 - val_accuracy: 0.8815\n",
            "Epoch 67/80\n",
            "19/19 [==============================] - 9s 471ms/step - loss: 0.2593 - accuracy: 0.8787 - val_loss: 0.3228 - val_accuracy: 0.8889\n",
            "Epoch 68/80\n",
            "19/19 [==============================] - 9s 464ms/step - loss: 0.2719 - accuracy: 0.8782 - val_loss: 0.3285 - val_accuracy: 0.8815\n",
            "Epoch 69/80\n",
            "19/19 [==============================] - 9s 467ms/step - loss: 0.2758 - accuracy: 0.8762 - val_loss: 0.3248 - val_accuracy: 0.8815\n",
            "Epoch 70/80\n",
            "19/19 [==============================] - 9s 466ms/step - loss: 0.2643 - accuracy: 0.8808 - val_loss: 0.3245 - val_accuracy: 0.9000\n",
            "Epoch 71/80\n",
            "19/19 [==============================] - 9s 465ms/step - loss: 0.2691 - accuracy: 0.8826 - val_loss: 0.3255 - val_accuracy: 0.8889\n",
            "Epoch 72/80\n",
            "19/19 [==============================] - 9s 462ms/step - loss: 0.2841 - accuracy: 0.8668 - val_loss: 0.3219 - val_accuracy: 0.8852\n",
            "Epoch 73/80\n",
            "19/19 [==============================] - 9s 462ms/step - loss: 0.2691 - accuracy: 0.8811 - val_loss: 0.3168 - val_accuracy: 0.8778\n",
            "Epoch 74/80\n",
            "19/19 [==============================] - 9s 465ms/step - loss: 0.2546 - accuracy: 0.8955 - val_loss: 0.3101 - val_accuracy: 0.8963\n",
            "Epoch 75/80\n",
            "19/19 [==============================] - 9s 464ms/step - loss: 0.2473 - accuracy: 0.8989 - val_loss: 0.3136 - val_accuracy: 0.8852\n",
            "Epoch 76/80\n",
            "19/19 [==============================] - 9s 463ms/step - loss: 0.2641 - accuracy: 0.8810 - val_loss: 0.3155 - val_accuracy: 0.8889\n",
            "Epoch 77/80\n",
            "19/19 [==============================] - 9s 464ms/step - loss: 0.2671 - accuracy: 0.8880 - val_loss: 0.3177 - val_accuracy: 0.8926\n",
            "Epoch 78/80\n",
            "19/19 [==============================] - 9s 469ms/step - loss: 0.2636 - accuracy: 0.8835 - val_loss: 0.3156 - val_accuracy: 0.8963\n",
            "Epoch 79/80\n",
            "19/19 [==============================] - 9s 467ms/step - loss: 0.2590 - accuracy: 0.8918 - val_loss: 0.3203 - val_accuracy: 0.8889\n",
            "Epoch 80/80\n",
            "19/19 [==============================] - 9s 464ms/step - loss: 0.2723 - accuracy: 0.8758 - val_loss: 0.3150 - val_accuracy: 0.8926\n"
          ],
          "name": "stdout"
        }
      ]
    },
    {
      "cell_type": "code",
      "metadata": {
        "id": "2535OHSoH75l",
        "colab": {
          "base_uri": "https://localhost:8080/",
          "height": 573
        },
        "outputId": "2afdb3a9-43f4-4237-caa1-d0073486be13"
      },
      "source": [
        "import matplotlib.pyplot as plt\n",
        "plt.plot(history.history['accuracy'])\n",
        "plt.plot(history.history['val_accuracy'])\n",
        "plt.title('model accuracy')\n",
        "plt.ylabel('accuracy')\n",
        "plt.xlabel('epoch')\n",
        "plt.xlim(1, 80)\n",
        "plt.legend(['train', 'val'], loc='upper left')\n",
        "plt.show()\n",
        "# summarize history for loss\n",
        "plt.plot(history.history['loss'])\n",
        "plt.plot(history.history['val_loss'])\n",
        "plt.title('model loss')\n",
        "plt.ylabel('loss')\n",
        "plt.xlabel('epoch')\n",
        "plt.xlim(1, 80)\n",
        "plt.legend(['train', 'val'], loc='upper left')\n",
        "plt.show()"
      ],
      "execution_count": null,
      "outputs": [
        {
          "output_type": "display_data",
          "data": {
            "image/png": "[encoded data removed]",
            "text/plain": [
              "<Figure size 432x288 with 1 Axes>"
            ]
          },
          "metadata": {
            "tags": [],
            "needs_background": "light"
          }
        },
        {
          "output_type": "display_data",
          "data": {
            "image/png": "[encoded data removed]",
            "text/plain": [
              "<Figure size 432x288 with 1 Axes>"
            ]
          },
          "metadata": {
            "tags": [],
            "needs_background": "light"
          }
        }
      ]
    },
    {
      "cell_type": "code",
      "metadata": {
        "id": "_nHstQGNIDqI"
      },
      "source": [
        "y_predict = (model.predict(X_test) > 0.5).astype('int32')"
      ],
      "execution_count": null,
      "outputs": []
    },
    {
      "cell_type": "code",
      "metadata": {
        "id": "Es-IWHpWU-eD",
        "colab": {
          "base_uri": "https://localhost:8080/"
        },
        "outputId": "5eba88f0-16c0-42d9-9622-08b8e393ceae"
      },
      "source": [
        "TN, FP, FN, TP = confusion_matrix(y_test, y_predict).ravel()\n",
        "tss = (TP / (TP + FN)) - (FP / (FP + TN))\n",
        "print(\"tss: \",tss)"
      ],
      "execution_count": null,
      "outputs": [
        {
          "output_type": "stream",
          "text": [
            "tss:  0.7074922600619196\n"
          ],
          "name": "stdout"
        }
      ]
    },
    {
      "cell_type": "code",
      "metadata": {
        "id": "HB8wa52lJXc7",
        "colab": {
          "base_uri": "https://localhost:8080/"
        },
        "outputId": "979db4be-9c4c-4806-cbce-a603236204a8"
      },
      "source": [
        "from sklearn.metrics import classification_report\n",
        "target_names =  ['class 0', 'class 1']\n",
        "print(classification_report(y_test, y_predict, target_names=target_names, digits = 4))"
      ],
      "execution_count": null,
      "outputs": [
        {
          "output_type": "stream",
          "text": [
            "              precision    recall  f1-score   support\n",
            "\n",
            "     class 0     0.9046    0.7812    0.8384       425\n",
            "     class 1     0.8255    0.9263    0.8730       475\n",
            "\n",
            "    accuracy                         0.8578       900\n",
            "   macro avg     0.8651    0.8537    0.8557       900\n",
            "weighted avg     0.8629    0.8578    0.8567       900\n",
            "\n"
          ],
          "name": "stdout"
        }
      ]
    },
    {
      "cell_type": "code",
      "metadata": {
        "id": "3QHmbY5TL-k2",
        "colab": {
          "base_uri": "https://localhost:8080/",
          "height": 283
        },
        "outputId": "af306447-38dd-44a8-d2f7-4cc1242ea01e"
      },
      "source": [
        "from sklearn.metrics import confusion_matrix\n",
        "import seaborn as sns\n",
        "cm = confusion_matrix(y_test, y_predict)\n",
        "ax = plt.subplot()\n",
        "sns.heatmap(cm, annot=True, ax=ax, cmap=\"Blues\", fmt=\"d\")"
      ],
      "execution_count": null,
      "outputs": [
        {
          "output_type": "execute_result",
          "data": {
            "text/plain": [
              "<matplotlib.axes._subplots.AxesSubplot at 0x7fb8151361d0>"
            ]
          },
          "metadata": {
            "tags": []
          },
          "execution_count": 32
        },
        {
          "output_type": "display_data",
          "data": {
            "image/png": "[encoded data removed]",
            "text/plain": [
              "<Figure size 432x288 with 2 Axes>"
            ]
          },
          "metadata": {
            "tags": [],
            "needs_background": "light"
          }
        }
      ]
    }
  ]
}